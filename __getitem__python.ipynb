{
  "nbformat": 4,
  "nbformat_minor": 0,
  "metadata": {
    "colab": {
      "provenance": [],
      "authorship_tag": "ABX9TyN6iv8okgnn+os7zTPrVeOQ",
      "include_colab_link": true
    },
    "kernelspec": {
      "name": "python3",
      "display_name": "Python 3"
    },
    "language_info": {
      "name": "python"
    }
  },
  "cells": [
    {
      "cell_type": "markdown",
      "metadata": {
        "id": "view-in-github",
        "colab_type": "text"
      },
      "source": [
        "<a href=\"https://colab.research.google.com/github/DavoodSZ1993/Python_Tutorial/blob/main/__getitem__python.ipynb\" target=\"_parent\"><img src=\"https://colab.research.google.com/assets/colab-badge.svg\" alt=\"Open In Colab\"/></a>"
      ]
    },
    {
      "cell_type": "markdown",
      "source": [
        "* `__getitem__(self, key)`: It is used to evaluate the value of `self[key]` by any object or instance of the class."
      ],
      "metadata": {
        "id": "O8XOv8GDAU0p"
      }
    },
    {
      "cell_type": "code",
      "execution_count": 2,
      "metadata": {
        "colab": {
          "base_uri": "https://localhost:8080/"
        },
        "id": "SldiF4-r__Gw",
        "outputId": "69ac53f1-a48f-42f7-e59c-b2df94f6a2c3"
      },
      "outputs": [
        {
          "output_type": "stream",
          "name": "stdout",
          "text": [
            "My name is:  Davood\n"
          ]
        }
      ],
      "source": [
        "class Student:\n",
        "  def __getitem__(self, key):\n",
        "    print('My name is: ', key)\n",
        "\n",
        "davood = Student()\n",
        "davood['Davood']"
      ]
    }
  ]
}