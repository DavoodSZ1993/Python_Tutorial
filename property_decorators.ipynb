{
  "nbformat": 4,
  "nbformat_minor": 0,
  "metadata": {
    "colab": {
      "provenance": [],
      "authorship_tag": "ABX9TyN6O5u5tbPnjAZJcIBkrqpn",
      "include_colab_link": true
    },
    "kernelspec": {
      "name": "python3",
      "display_name": "Python 3"
    },
    "language_info": {
      "name": "python"
    }
  },
  "cells": [
    {
      "cell_type": "markdown",
      "metadata": {
        "id": "view-in-github",
        "colab_type": "text"
      },
      "source": [
        "<a href=\"https://colab.research.google.com/github/DavoodSZ1993/Python_Tutorial/blob/main/property_decorators.ipynb\" target=\"_parent\"><img src=\"https://colab.research.google.com/assets/colab-badge.svg\" alt=\"Open In Colab\"/></a>"
      ]
    },
    {
      "cell_type": "markdown",
      "source": [
        "## The @property decorator in Python\n",
        "\n",
        "* A decorator function is basically a function that adds new functionality to a function that is passed as argument.\n",
        "* Using a decorator function is like adding chocolate sprinkles to an ice cream."
      ],
      "metadata": {
        "id": "IESijsb2XReU"
      }
    },
    {
      "cell_type": "code",
      "execution_count": 2,
      "metadata": {
        "colab": {
          "base_uri": "https://localhost:8080/"
        },
        "id": "stWQrVL1XIHQ",
        "outputId": "6986dc8d-a0f5-4546-c795-ea54eec63373"
      },
      "outputs": [
        {
          "output_type": "stream",
          "name": "stdout",
          "text": [
            "Extra Functionality\n",
            "Initial Functionality\n"
          ]
        }
      ],
      "source": [
        "def decorator(f):\n",
        "  def new_function():\n",
        "    print(\"Extra Functionality\")\n",
        "    f()\n",
        "  return new_function\n",
        "\n",
        "@decorator\n",
        "def initial_function():\n",
        "  print(\"Initial Functionality\")\n",
        "\n",
        "initial_function()"
      ]
    },
    {
      "cell_type": "markdown",
      "source": [
        "* In general, we would write `@<decorator_function_name>`, replacing the name of the decorator function after the @symbol.\n",
        "* The **@property** is a built-in decorator for the property() function in python. It is used to give special functionality to certain methods to make them act as getters, setters, or deleters when we define properties in a class."
      ],
      "metadata": {
        "id": "RqQSa-AnaURI"
      }
    },
    {
      "cell_type": "markdown",
      "source": [
        "## @property Decorator"
      ],
      "metadata": {
        "id": "XqQWYYAEb7ca"
      }
    },
    {
      "cell_type": "code",
      "source": [
        "class House:\n",
        "  def __init__(self, price):\n",
        "    self.price = price"
      ],
      "metadata": {
        "id": "zB4T75YOck17"
      },
      "execution_count": 3,
      "outputs": []
    },
    {
      "cell_type": "markdown",
      "source": [
        "* The `House` class has a instance attribute named `price`.\n",
        "* This instance attribute is public because its name doesn't have a leading underscore. Since the attribute is public, it is likely it is changed in the program by different developers, as shown blow."
      ],
      "metadata": {
        "id": "ZnE1Ye2Nc3YS"
      }
    },
    {
      "cell_type": "code",
      "source": [
        "obj = House(price=10000)\n",
        "\n",
        "# Access value\n",
        "obj.price\n",
        "\n",
        "# Modify value\n",
        "obj.price = 40000"
      ],
      "metadata": {
        "id": "Vob_hRJtd2de"
      },
      "execution_count": 4,
      "outputs": []
    },
    {
      "cell_type": "markdown",
      "source": [
        "* Let's say that we are asked to make this attribute protected (non-public) and validate the new value before assigning it. Say, we need to check whether the value is a positive float.\n",
        "* If you decide to add getters and setters, each line of code that accesses or modifies the value of the attribute will have to be modified to call the getter or setter."
      ],
      "metadata": {
        "id": "NmPmqthLe52u"
      }
    },
    {
      "cell_type": "code",
      "source": [
        "# Changed from obj.price\n",
        "obj.get_price()\n",
        "\n",
        "# changed from obj.price = 40000\n",
        "obj.set_price(40000)"
      ],
      "metadata": {
        "id": "CVJDCQvdhLHl"
      },
      "execution_count": null,
      "outputs": []
    },
    {
      "cell_type": "markdown",
      "source": [
        "* However, with @property, we will not need to modify any of these lines because we will be able to add getters and setters without affecting the syntax."
      ],
      "metadata": {
        "id": "DGaNFUpbiCAT"
      }
    }
  ]
}