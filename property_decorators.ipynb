{
  "nbformat": 4,
  "nbformat_minor": 0,
  "metadata": {
    "colab": {
      "provenance": [],
      "authorship_tag": "ABX9TyMuwAwWKKPN4NCZIIU2Vtmk",
      "include_colab_link": true
    },
    "kernelspec": {
      "name": "python3",
      "display_name": "Python 3"
    },
    "language_info": {
      "name": "python"
    }
  },
  "cells": [
    {
      "cell_type": "markdown",
      "metadata": {
        "id": "view-in-github",
        "colab_type": "text"
      },
      "source": [
        "<a href=\"https://colab.research.google.com/github/DavoodSZ1993/Python_Tutorial/blob/main/property_decorators.ipynb\" target=\"_parent\"><img src=\"https://colab.research.google.com/assets/colab-badge.svg\" alt=\"Open In Colab\"/></a>"
      ]
    },
    {
      "cell_type": "markdown",
      "source": [
        "## The @property decorator in Python\n",
        "\n",
        "* A decorator function is basically a function that adds new functionality to a function that is passed as argument.\n",
        "* Using a decorator function is like adding chocolate sprinkles to an ice cream."
      ],
      "metadata": {
        "id": "IESijsb2XReU"
      }
    },
    {
      "cell_type": "code",
      "execution_count": 2,
      "metadata": {
        "colab": {
          "base_uri": "https://localhost:8080/"
        },
        "id": "stWQrVL1XIHQ",
        "outputId": "6986dc8d-a0f5-4546-c795-ea54eec63373"
      },
      "outputs": [
        {
          "output_type": "stream",
          "name": "stdout",
          "text": [
            "Extra Functionality\n",
            "Initial Functionality\n"
          ]
        }
      ],
      "source": [
        "def decorator(f):\n",
        "  def new_function():\n",
        "    print(\"Extra Functionality\")\n",
        "    f()\n",
        "  return new_function\n",
        "\n",
        "@decorator\n",
        "def initial_function():\n",
        "  print(\"Initial Functionality\")\n",
        "\n",
        "initial_function()"
      ]
    },
    {
      "cell_type": "markdown",
      "source": [
        "* In general, we would write `@<decorator_function_name>`, replacing the name of the decorator function after the @symbol.\n",
        "* The **@property** is a built-in decorator for the property() function in python. It is used to give special functionality to certain methods to make them act as getters, setters, or deleters when we define properties in a class."
      ],
      "metadata": {
        "id": "RqQSa-AnaURI"
      }
    },
    {
      "cell_type": "markdown",
      "source": [
        "## @property Decorator"
      ],
      "metadata": {
        "id": "XqQWYYAEb7ca"
      }
    }
  ]
}