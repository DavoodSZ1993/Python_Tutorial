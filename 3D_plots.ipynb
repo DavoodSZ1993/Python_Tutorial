{
  "nbformat": 4,
  "nbformat_minor": 0,
  "metadata": {
    "colab": {
      "provenance": [],
      "authorship_tag": "ABX9TyMPh7gkBdjzAwEC1TEgRm6M",
      "include_colab_link": true
    },
    "kernelspec": {
      "name": "python3",
      "display_name": "Python 3"
    },
    "language_info": {
      "name": "python"
    }
  },
  "cells": [
    {
      "cell_type": "markdown",
      "metadata": {
        "id": "view-in-github",
        "colab_type": "text"
      },
      "source": [
        "<a href=\"https://colab.research.google.com/github/DavoodSZ1993/Python_Tutorial/blob/main/3D_plots.ipynb\" target=\"_parent\"><img src=\"https://colab.research.google.com/assets/colab-badge.svg\" alt=\"Open In Colab\"/></a>"
      ]
    },
    {
      "cell_type": "code",
      "execution_count": 1,
      "metadata": {
        "id": "eiqOq-YYxPnZ"
      },
      "outputs": [],
      "source": [
        "%matplotlib inline\n",
        "import matplotlib.pyplot as plt\n",
        "import numpy as np"
      ]
    },
    {
      "cell_type": "markdown",
      "source": [
        "The 3D plots are enabled by importing the mplot3d tooklit."
      ],
      "metadata": {
        "id": "pM087xejyK9K"
      }
    },
    {
      "cell_type": "code",
      "source": [
        "from mpl_toolkits import mplot3d"
      ],
      "metadata": {
        "id": "32Mtmt4pyXnR"
      },
      "execution_count": 2,
      "outputs": []
    },
    {
      "cell_type": "markdown",
      "source": [
        "* `matplotlib.pyplot.axes(arg=None, **kwargs)`: Add an Axes to the current figure and make it the current Axes."
      ],
      "metadata": {
        "id": "vWwA9QQ6znYc"
      }
    },
    {
      "cell_type": "code",
      "source": [
        "fig = plt.figure()\n",
        "ax = plt.axes(projection='3d')"
      ],
      "metadata": {
        "id": "u24zZfnE0N3e"
      },
      "execution_count": null,
      "outputs": []
    },
    {
      "cell_type": "markdown",
      "source": [
        "* `matplotlib.pyplot.figure().add_subplot(projection='3d')`: Add an axes to the figure, as part of a subplot arrangement."
      ],
      "metadata": {
        "id": "Ai9IeY1406Fk"
      }
    },
    {
      "cell_type": "code",
      "source": [
        "ax = plt.figure().add_subplot(projection='3d')"
      ],
      "metadata": {
        "id": "81yyOLDc1M6M"
      },
      "execution_count": null,
      "outputs": []
    },
    {
      "cell_type": "markdown",
      "source": [
        "* `plot_wireframe(x, y ,z , **kwargs)`: Plot a 3D wireframe.\n",
        "* **x, y, z: 2D arrays**: data values.\n",
        "* **rstride, cstride: int**: downsampling stride in each direction."
      ],
      "metadata": {
        "id": "IW5-020A3Gi-"
      }
    },
    {
      "cell_type": "code",
      "source": [
        "import torch\n",
        "\n",
        "x, y = torch.meshgrid(torch.linspace(-1.0, 1.0, 101),\n",
        "                      torch.linspace(-1.0, 1.0, 101))\n",
        "z = x**2 - y**2\n",
        "\n",
        "ax = plt.figure().add_subplot(projection='3d')\n",
        "ax.plot_wireframe(x, y, z, **{'rstride': 10, 'cstride': 10})"
      ],
      "metadata": {
        "id": "MEZWDnt93ioO"
      },
      "execution_count": null,
      "outputs": []
    },
    {
      "cell_type": "markdown",
      "source": [
        "* `plot_surface(x,y,z)`: create a surface plot. By default, it will be colored in shades of a solid color, but it also supports colormapping by supplying the cmap argument.\n",
        "* **x, y, z: 2D arrays**: Data values"
      ],
      "metadata": {
        "id": "hWVUsXsc5DMI"
      }
    },
    {
      "cell_type": "code",
      "source": [
        "Xs = torch.linspace(-5, 5, steps=100)\n",
        "Ys = torch.linspace(-5, 5, steps=100)\n",
        "X, Y = torch.meshgrid(Xs, Ys, indexing='xy')\n",
        "Z = torch.sin(torch.sqrt(X*X + Y*Y))\n",
        "\n",
        "ax = plt.axes(projection='3d')\n",
        "ax.plot_surface(X.numpy(), Y.numpy(), Z.numpy())\n",
        "plt.show()"
      ],
      "metadata": {
        "id": "BFJQOs7z5and"
      },
      "execution_count": null,
      "outputs": []
    }
  ]
}