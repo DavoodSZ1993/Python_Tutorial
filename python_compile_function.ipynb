{
  "nbformat": 4,
  "nbformat_minor": 0,
  "metadata": {
    "colab": {
      "provenance": [],
      "authorship_tag": "ABX9TyPbLOPzq5lyWhqj2x6/z7J5",
      "include_colab_link": true
    },
    "kernelspec": {
      "name": "python3",
      "display_name": "Python 3"
    },
    "language_info": {
      "name": "python"
    }
  },
  "cells": [
    {
      "cell_type": "markdown",
      "metadata": {
        "id": "view-in-github",
        "colab_type": "text"
      },
      "source": [
        "<a href=\"https://colab.research.google.com/github/DavoodSZ1993/Python_Tutorial/blob/main/python_compile_function.ipynb\" target=\"_parent\"><img src=\"https://colab.research.google.com/assets/colab-badge.svg\" alt=\"Open In Colab\"/></a>"
      ]
    },
    {
      "cell_type": "markdown",
      "source": [
        "* `compile(source, filename, mode)`: Returns the specified source as a code object, ready to be executed.\n",
        "* **source (required)**: The source to compile, can be a string, a Byte object, or an SAT object.\n",
        "* **filename (required)**: The name of the file that the source come from. If the source does not come from a file, you can write whatever you like.\n",
        "* **mode (required)**: Legal values: `eval`: If the source is a single expression. `exec`: If the source is a block of statements. `single`: If the source is a single interactive statement."
      ],
      "metadata": {
        "id": "99LK-aaAi3H6"
      }
    },
    {
      "cell_type": "code",
      "execution_count": 3,
      "metadata": {
        "colab": {
          "base_uri": "https://localhost:8080/"
        },
        "id": "bxePYgIdhh2B",
        "outputId": "b8d41fee-24a9-4afa-f2e2-8ca0700672d6"
      },
      "outputs": [
        {
          "output_type": "stream",
          "name": "stdout",
          "text": [
            "55\n",
            "88\n"
          ]
        }
      ],
      "source": [
        "x = compile('print(55)\\nprint(88)', '', 'exec')\n",
        "exec(x)"
      ]
    }
  ]
}