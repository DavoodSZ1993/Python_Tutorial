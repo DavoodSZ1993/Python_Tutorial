{
  "nbformat": 4,
  "nbformat_minor": 0,
  "metadata": {
    "colab": {
      "provenance": [],
      "authorship_tag": "ABX9TyNoaTmBVyDvFvH7C3d66ni+",
      "include_colab_link": true
    },
    "kernelspec": {
      "name": "python3",
      "display_name": "Python 3"
    },
    "language_info": {
      "name": "python"
    }
  },
  "cells": [
    {
      "cell_type": "markdown",
      "metadata": {
        "id": "view-in-github",
        "colab_type": "text"
      },
      "source": [
        "<a href=\"https://colab.research.google.com/github/DavoodSZ1993/Python_Tutorial/blob/main/Rectangle_matplotlib.ipynb\" target=\"_parent\"><img src=\"https://colab.research.google.com/assets/colab-badge.svg\" alt=\"Open In Colab\"/></a>"
      ]
    },
    {
      "cell_type": "code",
      "execution_count": 1,
      "metadata": {
        "id": "YuHMxpJyAmAw"
      },
      "outputs": [],
      "source": [
        "%matplotlib inline\n",
        "import matplotlib.pyplot as plt"
      ]
    },
    {
      "cell_type": "markdown",
      "source": [
        "* Class `matplotlib.patches.Rectangle(xy, width, height, fill, edgecolor, linewidth)`: A rectangle defined via an anchor point `xy` and its `width` and `height`.\n",
        "* xy (float, float): The anchor point.\n",
        "* width (float): Rectangle width\n",
        "* height (float): Rectangle height."
      ],
      "metadata": {
        "id": "G8NFyjX_A0Ag"
      }
    },
    {
      "cell_type": "markdown",
      "source": [
        "* `matplotlib.axes.Axes.add_patch()`: Add a patch to the Axes, return the patch."
      ],
      "metadata": {
        "id": "DNZwdfHcC5QJ"
      }
    }
  ]
}