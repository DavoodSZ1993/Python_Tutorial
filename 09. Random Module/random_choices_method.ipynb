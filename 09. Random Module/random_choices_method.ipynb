{
  "nbformat": 4,
  "nbformat_minor": 0,
  "metadata": {
    "colab": {
      "provenance": [],
      "authorship_tag": "ABX9TyOIxm/HZleKY966L3LudlYk",
      "include_colab_link": true
    },
    "kernelspec": {
      "name": "python3",
      "display_name": "Python 3"
    },
    "language_info": {
      "name": "python"
    }
  },
  "cells": [
    {
      "cell_type": "markdown",
      "metadata": {
        "id": "view-in-github",
        "colab_type": "text"
      },
      "source": [
        "<a href=\"https://colab.research.google.com/github/DavoodSZ1993/Python_Tutorial/blob/main/random_choices_method.ipynb\" target=\"_parent\"><img src=\"https://colab.research.google.com/assets/colab-badge.svg\" alt=\"Open In Colab\"/></a>"
      ]
    },
    {
      "cell_type": "markdown",
      "source": [
        "## Python Random `choices()` Method\n",
        "* `random.choices(sequence, weights=None, k=1)`: Returns a list with the randomly selected element from the specified sequence.\n",
        "* `sequence`: Required. A sequence like a list, a tuple, a range of numbers etc.\n",
        "* `weights`: Optional. A list where you can weight the possibility for each value.\n",
        "* `k`: Optional. An integer defining the length of the returned list."
      ],
      "metadata": {
        "id": "PKucfJcbflC6"
      }
    },
    {
      "cell_type": "code",
      "execution_count": 1,
      "metadata": {
        "colab": {
          "base_uri": "https://localhost:8080/"
        },
        "id": "8gfBXiARfSe0",
        "outputId": "0f1150a1-322d-431b-c7ad-cef8aaa3b2ed"
      },
      "outputs": [
        {
          "output_type": "stream",
          "name": "stdout",
          "text": [
            "['apple', 'apple', 'apple', 'apple', 'cherry', 'cherry', 'cherry', 'apple', 'apple', 'apple', 'apple', 'cherry', 'apple', 'apple']\n"
          ]
        }
      ],
      "source": [
        "import random\n",
        "\n",
        "mylist = ['apple', 'banana', 'cherry']\n",
        "print(random.choices(mylist, weights=[10, 1, 1], k=14))"
      ]
    }
  ]
}
