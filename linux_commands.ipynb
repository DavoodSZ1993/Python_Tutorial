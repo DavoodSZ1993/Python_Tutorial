{
  "nbformat": 4,
  "nbformat_minor": 0,
  "metadata": {
    "colab": {
      "provenance": [],
      "authorship_tag": "ABX9TyPzkjGW7/ooBrtZ8MIer1nU",
      "include_colab_link": true
    },
    "kernelspec": {
      "name": "python3",
      "display_name": "Python 3"
    },
    "language_info": {
      "name": "python"
    }
  },
  "cells": [
    {
      "cell_type": "markdown",
      "metadata": {
        "id": "view-in-github",
        "colab_type": "text"
      },
      "source": [
        "<a href=\"https://colab.research.google.com/github/DavoodSZ1993/Python_Tutorial/blob/main/linux_commands.ipynb\" target=\"_parent\"><img src=\"https://colab.research.google.com/assets/colab-badge.svg\" alt=\"Open In Colab\"/></a>"
      ]
    },
    {
      "cell_type": "markdown",
      "source": [
        "* `ls` is short for \"list\". This command lists information about directories and any type of file in the working directory.\n",
        "* `ls [options]`: This lets you add additional instructions to the 'ls' command.\n",
        "* The most basic `ls` command is without the use of options. It prints out files and directories in their bare format. With this command, you will not be able to see file types, dates, and permissions.\n",
        "* If you want to check the size of files and directories in a human readable format, type `ls -lh` in terminal"
      ],
      "metadata": {
        "id": "R9_Gl-MnLTxu"
      }
    },
    {
      "cell_type": "markdown",
      "source": [
        "## References\n",
        "* [19 Crucial Linux ls Commands to Know](https://phoenixnap.com/kb/linux-ls-commands#:~:text=Ls%20is%20short%20for%20%E2%80%9Clist,files%20in%20the%20working%20directory.)"
      ],
      "metadata": {
        "id": "ca4lAg7sOIc8"
      }
    }
  ]
}