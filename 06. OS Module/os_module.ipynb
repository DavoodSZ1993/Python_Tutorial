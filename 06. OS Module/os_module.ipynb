{
  "nbformat": 4,
  "nbformat_minor": 0,
  "metadata": {
    "colab": {
      "provenance": [],
      "authorship_tag": "ABX9TyOd6TFwnFHCL9whwRNj+cA/",
      "include_colab_link": true
    },
    "kernelspec": {
      "name": "python3",
      "display_name": "Python 3"
    },
    "language_info": {
      "name": "python"
    }
  },
  "cells": [
    {
      "cell_type": "markdown",
      "metadata": {
        "id": "view-in-github",
        "colab_type": "text"
      },
      "source": [
        "<a href=\"https://colab.research.google.com/github/DavoodSZ1993/Python_Tutorial/blob/main/os_module.ipynb\" target=\"_parent\"><img src=\"https://colab.research.google.com/assets/colab-badge.svg\" alt=\"Open In Colab\"/></a>"
      ]
    },
    {
      "cell_type": "markdown",
      "source": [
        "## Some Notes on `os` Module in Python"
      ],
      "metadata": {
        "id": "aRJloUTRNOZ3"
      }
    },
    {
      "cell_type": "markdown",
      "source": [
        "`os` module in Python provides functions for creating and removing a directory (folder), fetching its contents, changing and identifying the current directory."
      ],
      "metadata": {
        "id": "2AnO7ToeG091"
      }
    },
    {
      "cell_type": "code",
      "execution_count": 1,
      "metadata": {
        "id": "vIsAWZkFNI4I"
      },
      "outputs": [],
      "source": [
        "import os"
      ]
    },
    {
      "cell_type": "markdown",
      "source": [
        "* `os.getcwd()`: Returns the current working directory of process."
      ],
      "metadata": {
        "id": "FY-mOZDeHxsm"
      }
    },
    {
      "cell_type": "code",
      "source": [
        "os.getcwd()"
      ],
      "metadata": {
        "colab": {
          "base_uri": "https://localhost:8080/",
          "height": 36
        },
        "id": "zM1VSXYfH-CD",
        "outputId": "7ac362e2-4ab4-4ca8-de13-1713aa4dcd7c"
      },
      "execution_count": 2,
      "outputs": [
        {
          "output_type": "execute_result",
          "data": {
            "text/plain": [
              "'/content'"
            ],
            "application/vnd.google.colaboratory.intrinsic+json": {
              "type": "string"
            }
          },
          "metadata": {},
          "execution_count": 2
        }
      ]
    },
    {
      "cell_type": "markdown",
      "source": [
        "* `os.listdir()`: Returns a list containing the names of the entries in the directory given by path."
      ],
      "metadata": {
        "id": "FU7sVjEhIfL8"
      }
    },
    {
      "cell_type": "code",
      "source": [
        "os.listdir()"
      ],
      "metadata": {
        "colab": {
          "base_uri": "https://localhost:8080/"
        },
        "id": "q2kddI1cIqqk",
        "outputId": "5153ffe6-a7a7-49f5-d2ab-5077771ef408"
      },
      "execution_count": 3,
      "outputs": [
        {
          "output_type": "execute_result",
          "data": {
            "text/plain": [
              "['.config', 'sample_data']"
            ]
          },
          "metadata": {},
          "execution_count": 3
        }
      ]
    },
    {
      "cell_type": "markdown",
      "source": [
        "* `os.chdir(path)`: This method changes the current working directory to the given path.\n",
        "* `os.walk()`: This method generates the file names in a directory tree by walking the tree either top-down or bottom-up.\n",
        "* `os.mkdir()`: This method can be used to create a directory named path with the specific numerical mode.\n",
        "* `os.rmdir()`: This method is used to remove or delete a empty directory. **OSError** will ne raised if the specified path is not an empty directory."
      ],
      "metadata": {
        "id": "Mxt6XNG2Jbwc"
      }
    },
    {
      "cell_type": "markdown",
      "source": [
        "* `os.mkdirs()`: This method can be used to create a directory recursively. That means while making leaf directory if any intermediate-level directory is missing, `os.mkdirs()` method will create them all.\n",
        "* `os.removedirs()`: This method can be used to remove directories recursively.\n",
        "* `os.rename()`: This method renames the file or directory."
      ],
      "metadata": {
        "id": "zZlu-3IoNvJJ"
      }
    }
  ]
}
