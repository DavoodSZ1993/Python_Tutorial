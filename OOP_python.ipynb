{
  "nbformat": 4,
  "nbformat_minor": 0,
  "metadata": {
    "colab": {
      "provenance": [],
      "authorship_tag": "ABX9TyOnCbpfJ5jEVlBDgHkFKsaq",
      "include_colab_link": true
    },
    "kernelspec": {
      "name": "python3",
      "display_name": "Python 3"
    },
    "language_info": {
      "name": "python"
    }
  },
  "cells": [
    {
      "cell_type": "markdown",
      "metadata": {
        "id": "view-in-github",
        "colab_type": "text"
      },
      "source": [
        "<a href=\"https://colab.research.google.com/github/DavoodSZ1993/Python_Tutorial/blob/main/OOP_python.ipynb\" target=\"_parent\"><img src=\"https://colab.research.google.com/assets/colab-badge.svg\" alt=\"Open In Colab\"/></a>"
      ]
    },
    {
      "cell_type": "markdown",
      "source": [
        "## 01. Creating Class and Instantiate Objects"
      ],
      "metadata": {
        "id": "FOkPOY0OyOau"
      }
    },
    {
      "cell_type": "code",
      "execution_count": 3,
      "metadata": {
        "colab": {
          "base_uri": "https://localhost:8080/"
        },
        "id": "_-atoHAYxpJb",
        "outputId": "1ad3b32b-d074-4723-be7d-f649267788f3"
      },
      "outputs": [
        {
          "output_type": "execute_result",
          "data": {
            "text/plain": [
              "__main__.Item"
            ]
          },
          "metadata": {},
          "execution_count": 3
        }
      ],
      "source": [
        "class Item:\n",
        "  pass\n",
        "\n",
        "item1 = Item()\n",
        "\n",
        "type(item1)"
      ]
    },
    {
      "cell_type": "markdown",
      "source": [
        "* `__init__()`: This method is run as soon as an object of the class is instantiated. This method is useful to do any initialization you want to do with your object."
      ],
      "metadata": {
        "id": "pzsRG_Jv0RSO"
      }
    },
    {
      "cell_type": "code",
      "source": [
        "class Animal:\n",
        "  def __init__(self, name, num_legs, mammal):   # Instructor\n",
        "    self.name = name\n",
        "    self.num_legs = num_legs\n",
        "    self.mammal = mammal\n",
        "\n",
        "  def is_mammal(self):                         # Method\n",
        "    if self.mammal:\n",
        "      print(f'{self.name} is a mammal.')\n",
        "    else:\n",
        "      print(f'{self.name} is not a mammal.')\n",
        "\n",
        "dog = Animal('Dog', 4, True)\n",
        "dog.is_mammal()\n",
        "\n",
        "  "
      ],
      "metadata": {
        "colab": {
          "base_uri": "https://localhost:8080/"
        },
        "id": "gAYIWwyjysdn",
        "outputId": "e14e7615-e6c8-4c87-9e61-ca253f698db7"
      },
      "execution_count": 7,
      "outputs": [
        {
          "output_type": "stream",
          "name": "stdout",
          "text": [
            "Dog is a mammal.\n"
          ]
        }
      ]
    },
    {
      "cell_type": "markdown",
      "source": [
        "### Deafult Arguments\n",
        "\n",
        "* Default values indicate that the argument will take that value if no argument value is passed during the method call.\n",
        "* The default value is assigned by using assignment operator *=* of the form *keywordname=value*"
      ],
      "metadata": {
        "id": "3Dgn0-z32qeN"
      }
    },
    {
      "cell_type": "code",
      "source": [
        "class Animal:\n",
        "  def __init__(self, name=None, num_legs=4, mammal=True):   # Instructor\n",
        "    self.name = name\n",
        "    self.num_legs = num_legs\n",
        "    self.mammal = mammal\n",
        "\n",
        "  def is_mammal(self):                         # Method\n",
        "    if self.mammal:\n",
        "      print(f'{self.name} is a mammal.')\n",
        "    else:\n",
        "      print(f'{self.name} is not a mammal.')\n",
        "\n",
        "dog = Animal('Dog')\n",
        "dog.is_mammal()\n",
        "\n",
        "dog.num_legs"
      ],
      "metadata": {
        "colab": {
          "base_uri": "https://localhost:8080/"
        },
        "id": "_qH-QFbz2Lad",
        "outputId": "a4dc946d-243c-43be-83f7-3c570a0d6dcd"
      },
      "execution_count": 10,
      "outputs": [
        {
          "output_type": "stream",
          "name": "stdout",
          "text": [
            "Dog is a mammal.\n"
          ]
        },
        {
          "output_type": "execute_result",
          "data": {
            "text/plain": [
              "4"
            ]
          },
          "metadata": {},
          "execution_count": 10
        }
      ]
    },
    {
      "cell_type": "markdown",
      "source": [
        "### Default Argument Format "
      ],
      "metadata": {
        "id": "GrQkIpur43xc"
      }
    },
    {
      "cell_type": "code",
      "source": [
        "class Animal:\n",
        "  def __init__(self, name: str, num_legs: int, mammal: bool):   # Instructor\n",
        "    self.name = name\n",
        "    self.num_legs = num_legs\n",
        "    self.mammal = mammal\n",
        "\n",
        "  def is_mammal(self):                         # Method\n",
        "    if self.mammal:\n",
        "      print(f'{self.name} is a mammal.')\n",
        "    else:\n",
        "      print(f'{self.name} is not a mammal.')\n",
        "\n",
        "dog = Animal(name='Dog', num_legs=4, mammal=True)\n",
        "dog.is_mammal()\n",
        "\n",
        "dog.num_legs"
      ],
      "metadata": {
        "colab": {
          "base_uri": "https://localhost:8080/"
        },
        "id": "7Ev5H-l34__c",
        "outputId": "8c10d59b-8091-47dd-b089-9b7442fc192e"
      },
      "execution_count": 12,
      "outputs": [
        {
          "output_type": "stream",
          "name": "stdout",
          "text": [
            "Dog is a mammal.\n"
          ]
        },
        {
          "output_type": "execute_result",
          "data": {
            "text/plain": [
              "4"
            ]
          },
          "metadata": {},
          "execution_count": 12
        }
      ]
    },
    {
      "cell_type": "markdown",
      "source": [
        "### Argument Validation\n",
        "\n",
        "`assert` in Python has two main uses:\n",
        "\n",
        "1. Helps detect errors early on.\n",
        "2. Can be used as documentation for other developers."
      ],
      "metadata": {
        "id": "28AvrpDM5n5F"
      }
    },
    {
      "cell_type": "code",
      "source": [
        "class Animal:\n",
        "  def __init__(self, name: str, num_legs: int, mammal: bool):   # Instructor\n",
        "    assert num_legs >0, f'{num_legs} is not greater than zero!'\n",
        "    \n",
        "    self.name = name\n",
        "    self.num_legs = num_legs\n",
        "    self.mammal = mammal\n",
        "\n",
        "  def is_mammal(self):                         # Method\n",
        "    if self.mammal:\n",
        "      print(f'{self.name} is a mammal.')\n",
        "    else:\n",
        "      print(f'{self.name} is not a mammal.')\n",
        "\n",
        "dog = Animal(name='Dog', num_legs=4, mammal=True)\n",
        "dog.is_mammal()\n",
        "\n",
        "dog.num_legs"
      ],
      "metadata": {
        "colab": {
          "base_uri": "https://localhost:8080/"
        },
        "id": "blMKAq1O5zWb",
        "outputId": "3375d5c9-5c99-43e6-dca7-8eb2d2f760ee"
      },
      "execution_count": 16,
      "outputs": [
        {
          "output_type": "stream",
          "name": "stdout",
          "text": [
            "Dog is a mammal.\n"
          ]
        },
        {
          "output_type": "execute_result",
          "data": {
            "text/plain": [
              "4"
            ]
          },
          "metadata": {},
          "execution_count": 16
        }
      ]
    },
    {
      "cell_type": "markdown",
      "source": [
        "### Class Attribute\n",
        "\n",
        "* **Class Attributes**: Are class variables that are inherited by every object of the class.\n",
        "* **Instance Attributes**: Are defined in the `__init__()` function and allow us to define different values for each object of the class\n",
        "\n",
        "* `__dict__`: This attribute conatains all the attributes which describe a given class."
      ],
      "metadata": {
        "id": "uwBJbwE68t65"
      }
    },
    {
      "cell_type": "code",
      "source": [
        "class Animal:\n",
        "  message = 'This is the animal class'\n",
        "  def __init__(self, name: str, num_legs: int, mammal: bool):   # Instructor\n",
        "    assert num_legs >0, f'{num_legs} is not greater than zero!'\n",
        "    \n",
        "    self.name = name\n",
        "    self.num_legs = num_legs\n",
        "    self.mammal = mammal\n",
        "\n",
        "  def is_mammal(self):                         # Method\n",
        "    if self.mammal:\n",
        "      print(f'{self.name} is a mammal.')\n",
        "    else:\n",
        "      print(f'{self.name} is not a mammal.')\n",
        "\n",
        "dog = Animal(name='Dog', num_legs=4, mammal=True)\n",
        "chicken = Animal(name='Chicken', num_legs=2, mammal=False)\n",
        "\n",
        "print(Animal.message)\n",
        "print(dog.message)\n",
        "print(chicken.message)\n",
        "\n",
        "print('#######################################')\n",
        "\n",
        "print(Animal.__dict__)                        # All the attributes for class level.\n",
        "print(dog.__dict__)                           # All the attributes for instance level.\n",
        "print(chicken.__dict__)                       # All the attributes for instance level."
      ],
      "metadata": {
        "colab": {
          "base_uri": "https://localhost:8080/"
        },
        "id": "cLmR2fpr94J8",
        "outputId": "fab29cd1-4a39-487d-8e97-0a63e4647edf"
      },
      "execution_count": 21,
      "outputs": [
        {
          "output_type": "stream",
          "name": "stdout",
          "text": [
            "This is the animal class\n",
            "This is the animal class\n",
            "This is the animal class\n",
            "#######################################\n",
            "{'__module__': '__main__', 'message': 'This is the animal class', '__init__': <function Animal.__init__ at 0x7f5b312df9d0>, 'is_mammal': <function Animal.is_mammal at 0x7f5b312df940>, '__dict__': <attribute '__dict__' of 'Animal' objects>, '__weakref__': <attribute '__weakref__' of 'Animal' objects>, '__doc__': None}\n",
            "{'name': 'Dog', 'num_legs': 4, 'mammal': True}\n",
            "{'name': 'Chicken', 'num_legs': 2, 'mammal': False}\n"
          ]
        }
      ]
    },
    {
      "cell_type": "code",
      "source": [
        "class Animal:\n",
        "  message = 'Animal'\n",
        "  def __init__(self, name: str, num_legs: int, mammal: bool):   # Instructor\n",
        "    assert num_legs >0, f'{num_legs} is not greater than zero!'\n",
        "    \n",
        "    self.name = name\n",
        "    self.num_legs = num_legs\n",
        "    self.mammal = mammal\n",
        "\n",
        "  def is_mammal(self):                         # Method\n",
        "    if self.mammal:\n",
        "      print(f'{self.name} is a mammal.')\n",
        "    else:\n",
        "      print(f'{self.name} is not a mammal.')\n",
        "\n",
        "  def print_legs(self):\n",
        "    print(f'{self.name} is an {Animal.message} with {self.num_legs} legs')      # Can be accessed from the class level\n",
        "\n",
        "dog = Animal(name='Dog', num_legs=4, mammal=True)\n",
        "chicken = Animal(name='Chicken', num_legs=2, mammal=False)\n",
        "\n",
        "dog.print_legs()\n",
        "chicken.print_legs()\n"
      ],
      "metadata": {
        "colab": {
          "base_uri": "https://localhost:8080/"
        },
        "id": "kCGrOv1DAkpl",
        "outputId": "a03902a8-9915-4c5a-f77b-3a3487b751ec"
      },
      "execution_count": 26,
      "outputs": [
        {
          "output_type": "stream",
          "name": "stdout",
          "text": [
            "Dog is an Animal with 4 legs\n",
            "Chicken is an Animal with 2 legs\n"
          ]
        }
      ]
    }
  ]
}