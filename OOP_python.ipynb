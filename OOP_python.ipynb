{
  "nbformat": 4,
  "nbformat_minor": 0,
  "metadata": {
    "colab": {
      "provenance": [],
      "authorship_tag": "ABX9TyMfb+/wacGASqf286GQUpXk",
      "include_colab_link": true
    },
    "kernelspec": {
      "name": "python3",
      "display_name": "Python 3"
    },
    "language_info": {
      "name": "python"
    }
  },
  "cells": [
    {
      "cell_type": "markdown",
      "metadata": {
        "id": "view-in-github",
        "colab_type": "text"
      },
      "source": [
        "<a href=\"https://colab.research.google.com/github/DavoodSZ1993/Python_Tutorial/blob/main/OOP_python.ipynb\" target=\"_parent\"><img src=\"https://colab.research.google.com/assets/colab-badge.svg\" alt=\"Open In Colab\"/></a>"
      ]
    },
    {
      "cell_type": "markdown",
      "source": [
        "## 01. Creating Class and Instantiate Objects"
      ],
      "metadata": {
        "id": "FOkPOY0OyOau"
      }
    },
    {
      "cell_type": "code",
      "execution_count": 1,
      "metadata": {
        "colab": {
          "base_uri": "https://localhost:8080/"
        },
        "id": "_-atoHAYxpJb",
        "outputId": "c5fea17c-0169-4255-b5b3-f7ebc3ce4158"
      },
      "outputs": [
        {
          "output_type": "execute_result",
          "data": {
            "text/plain": [
              "__main__.Item"
            ]
          },
          "metadata": {},
          "execution_count": 1
        }
      ],
      "source": [
        "class Item:\n",
        "  pass\n",
        "\n",
        "item1 = Item()\n",
        "\n",
        "type(item1)"
      ]
    },
    {
      "cell_type": "markdown",
      "source": [
        "* `__init__()`: This method is run as soon as an object of the class is instantiated. This method is useful to do any initialization you want to do with your object."
      ],
      "metadata": {
        "id": "pzsRG_Jv0RSO"
      }
    },
    {
      "cell_type": "code",
      "source": [
        "class Animal:\n",
        "  def __init__(self, name, num_legs, mammal):   # Instructor\n",
        "    self.name = name\n",
        "    self.num_legs = num_legs\n",
        "    self.mammal = mammal\n",
        "\n",
        "  def is_mammal(self):                         # Method\n",
        "    if self.mammal:\n",
        "      print(f'{self.name} is a mammal.')\n",
        "    else:\n",
        "      print(f'{self.name} is not a mammal.')\n",
        "\n",
        "dog = Animal('Dog', 4, True)\n",
        "dog.is_mammal()\n",
        "\n",
        "  "
      ],
      "metadata": {
        "colab": {
          "base_uri": "https://localhost:8080/"
        },
        "id": "gAYIWwyjysdn",
        "outputId": "cc9a1164-ca5a-4d66-c5b5-85fea2950981"
      },
      "execution_count": 2,
      "outputs": [
        {
          "output_type": "stream",
          "name": "stdout",
          "text": [
            "Dog is a mammal.\n"
          ]
        }
      ]
    },
    {
      "cell_type": "markdown",
      "source": [
        "### Deafult Arguments\n",
        "\n",
        "* Default values indicate that the argument will take that value if no argument value is passed during the method call.\n",
        "* The default value is assigned by using assignment operator *=* of the form *keywordname=value*"
      ],
      "metadata": {
        "id": "3Dgn0-z32qeN"
      }
    },
    {
      "cell_type": "code",
      "source": [
        "class Animal:\n",
        "  def __init__(self, name=None, num_legs=4, mammal=True):   # Instructor\n",
        "    self.name = name\n",
        "    self.num_legs = num_legs\n",
        "    self.mammal = mammal\n",
        "\n",
        "  def is_mammal(self):                         # Method\n",
        "    if self.mammal:\n",
        "      print(f'{self.name} is a mammal.')\n",
        "    else:\n",
        "      print(f'{self.name} is not a mammal.')\n",
        "\n",
        "dog = Animal('Dog')\n",
        "dog.is_mammal()\n",
        "\n",
        "dog.num_legs"
      ],
      "metadata": {
        "colab": {
          "base_uri": "https://localhost:8080/"
        },
        "id": "_qH-QFbz2Lad",
        "outputId": "dea14b16-3282-426e-8037-18300d532ba7"
      },
      "execution_count": 3,
      "outputs": [
        {
          "output_type": "stream",
          "name": "stdout",
          "text": [
            "Dog is a mammal.\n"
          ]
        },
        {
          "output_type": "execute_result",
          "data": {
            "text/plain": [
              "4"
            ]
          },
          "metadata": {},
          "execution_count": 3
        }
      ]
    },
    {
      "cell_type": "markdown",
      "source": [
        "### Default Argument Format "
      ],
      "metadata": {
        "id": "GrQkIpur43xc"
      }
    },
    {
      "cell_type": "code",
      "source": [
        "class Animal:\n",
        "  def __init__(self, name: str, num_legs: int, mammal: bool):   # Instructor\n",
        "    self.name = name\n",
        "    self.num_legs = num_legs\n",
        "    self.mammal = mammal\n",
        "\n",
        "  def is_mammal(self):                         # Method\n",
        "    if self.mammal:\n",
        "      print(f'{self.name} is a mammal.')\n",
        "    else:\n",
        "      print(f'{self.name} is not a mammal.')\n",
        "\n",
        "dog = Animal(name='Dog', num_legs=4, mammal=True)\n",
        "dog.is_mammal()\n",
        "\n",
        "dog.num_legs"
      ],
      "metadata": {
        "colab": {
          "base_uri": "https://localhost:8080/"
        },
        "id": "7Ev5H-l34__c",
        "outputId": "d6d00b35-3def-40e5-a337-61037c3b6bdd"
      },
      "execution_count": 4,
      "outputs": [
        {
          "output_type": "stream",
          "name": "stdout",
          "text": [
            "Dog is a mammal.\n"
          ]
        },
        {
          "output_type": "execute_result",
          "data": {
            "text/plain": [
              "4"
            ]
          },
          "metadata": {},
          "execution_count": 4
        }
      ]
    },
    {
      "cell_type": "markdown",
      "source": [
        "### Argument Validation\n",
        "\n",
        "`assert` in Python has two main uses:\n",
        "\n",
        "1. Helps detect errors early on.\n",
        "2. Can be used as documentation for other developers."
      ],
      "metadata": {
        "id": "28AvrpDM5n5F"
      }
    },
    {
      "cell_type": "code",
      "source": [
        "class Animal:\n",
        "  def __init__(self, name: str, num_legs: int, mammal: bool):   # Instructor\n",
        "    assert num_legs >0, f'{num_legs} is not greater than zero!'\n",
        "    \n",
        "    self.name = name\n",
        "    self.num_legs = num_legs\n",
        "    self.mammal = mammal\n",
        "\n",
        "  def is_mammal(self):                         # Method\n",
        "    if self.mammal:\n",
        "      print(f'{self.name} is a mammal.')\n",
        "    else:\n",
        "      print(f'{self.name} is not a mammal.')\n",
        "\n",
        "dog = Animal(name='Dog', num_legs=4, mammal=True)\n",
        "dog.is_mammal()\n",
        "\n",
        "dog.num_legs"
      ],
      "metadata": {
        "colab": {
          "base_uri": "https://localhost:8080/"
        },
        "id": "blMKAq1O5zWb",
        "outputId": "a97c74f7-5ba6-4cbe-e308-499444e0adae"
      },
      "execution_count": 5,
      "outputs": [
        {
          "output_type": "stream",
          "name": "stdout",
          "text": [
            "Dog is a mammal.\n"
          ]
        },
        {
          "output_type": "execute_result",
          "data": {
            "text/plain": [
              "4"
            ]
          },
          "metadata": {},
          "execution_count": 5
        }
      ]
    },
    {
      "cell_type": "markdown",
      "source": [
        "### Class Attribute\n",
        "\n",
        "* **Class Attributes**: Are class variables that are inherited by every object of the class.\n",
        "* **Instance Attributes**: Are defined in the `__init__()` function and allow us to define different values for each object of the class\n",
        "\n",
        "* `__dict__`: This attribute conatains all the attributes which describe a given class."
      ],
      "metadata": {
        "id": "uwBJbwE68t65"
      }
    },
    {
      "cell_type": "code",
      "source": [
        "class Animal:\n",
        "  message = 'This is the animal class'\n",
        "  def __init__(self, name: str, num_legs: int, mammal: bool):   # Instructor\n",
        "    assert num_legs >0, f'{num_legs} is not greater than zero!'\n",
        "    \n",
        "    self.name = name\n",
        "    self.num_legs = num_legs\n",
        "    self.mammal = mammal\n",
        "\n",
        "  def is_mammal(self):                         # Method\n",
        "    if self.mammal:\n",
        "      print(f'{self.name} is a mammal.')\n",
        "    else:\n",
        "      print(f'{self.name} is not a mammal.')\n",
        "\n",
        "dog = Animal(name='Dog', num_legs=4, mammal=True)\n",
        "chicken = Animal(name='Chicken', num_legs=2, mammal=False)\n",
        "\n",
        "print(Animal.message)\n",
        "print(dog.message)\n",
        "print(chicken.message)\n",
        "\n",
        "print('#######################################')\n",
        "\n",
        "print(Animal.__dict__)                        # All the attributes for class level.\n",
        "print(dog.__dict__)                           # All the attributes for instance level.\n",
        "print(chicken.__dict__)                       # All the attributes for instance level."
      ],
      "metadata": {
        "colab": {
          "base_uri": "https://localhost:8080/"
        },
        "id": "cLmR2fpr94J8",
        "outputId": "30c71d0e-6610-4b6f-a1cb-6d530516bc46"
      },
      "execution_count": 6,
      "outputs": [
        {
          "output_type": "stream",
          "name": "stdout",
          "text": [
            "This is the animal class\n",
            "This is the animal class\n",
            "This is the animal class\n",
            "#######################################\n",
            "{'__module__': '__main__', 'message': 'This is the animal class', '__init__': <function Animal.__init__ at 0x7f0d53dab670>, 'is_mammal': <function Animal.is_mammal at 0x7f0d53dab1f0>, '__dict__': <attribute '__dict__' of 'Animal' objects>, '__weakref__': <attribute '__weakref__' of 'Animal' objects>, '__doc__': None}\n",
            "{'name': 'Dog', 'num_legs': 4, 'mammal': True}\n",
            "{'name': 'Chicken', 'num_legs': 2, 'mammal': False}\n"
          ]
        }
      ]
    },
    {
      "cell_type": "code",
      "source": [
        "class Animal:\n",
        "  message = 'Animal'\n",
        "  def __init__(self, name: str, num_legs: int, mammal: bool):   # Instructor\n",
        "    assert num_legs >0, f'{num_legs} is not greater than zero!'\n",
        "    \n",
        "    self.name = name\n",
        "    self.num_legs = num_legs\n",
        "    self.mammal = mammal\n",
        "\n",
        "  def is_mammal(self):                         # Method\n",
        "    if self.mammal:\n",
        "      print(f'{self.name} is a mammal.')\n",
        "    else:\n",
        "      print(f'{self.name} is not a mammal.')\n",
        "\n",
        "  def print_legs(self):\n",
        "    print(f'{self.name} is an {Animal.message} with {self.num_legs} legs')      # Can be accessed from the class level\n",
        "\n",
        "dog = Animal(name='Dog', num_legs=4, mammal=True)\n",
        "chicken = Animal(name='Chicken', num_legs=2, mammal=False)\n",
        "\n",
        "dog.print_legs()\n",
        "chicken.print_legs()\n"
      ],
      "metadata": {
        "colab": {
          "base_uri": "https://localhost:8080/"
        },
        "id": "kCGrOv1DAkpl",
        "outputId": "51d06205-405b-4cd9-cb03-0eda63331e61"
      },
      "execution_count": 7,
      "outputs": [
        {
          "output_type": "stream",
          "name": "stdout",
          "text": [
            "Dog is an Animal with 4 legs\n",
            "Chicken is an Animal with 2 legs\n"
          ]
        }
      ]
    },
    {
      "cell_type": "markdown",
      "source": [
        "## 02. Inheritance\n",
        "\n",
        "It is a mechanism that allows you to create a hierarchy of classes that share a set of properties and methods by deriving a class from another class.\n",
        "\n",
        "* `super().__init__()`: Allows us to avoid referring to the base class explicitly. Also, the main advantage comes from multiple inheritance. "
      ],
      "metadata": {
        "id": "sTCiV5XF2EKz"
      }
    },
    {
      "cell_type": "code",
      "source": [
        "class Animal:\n",
        "  message = 'Animal'\n",
        "  def __init__(self, name: str, num_legs: int, mammal: bool):   # Instructor\n",
        "    assert num_legs >0, f'{num_legs} is not greater than zero!'\n",
        "    \n",
        "    self.name = name\n",
        "    self.num_legs = num_legs\n",
        "    self.mammal = mammal\n",
        "\n",
        "  def is_mammal(self):                         # Method\n",
        "    if self.mammal:\n",
        "      print(f'{self.name} is a mammal.')\n",
        "    else:\n",
        "      print(f'{self.name} is not a mammal.')\n",
        "\n",
        "  def print_legs(self):\n",
        "    print(f'{self.name} is an {Animal.message} with {self.num_legs} legs')      # Can be accessed from the class level\n",
        "\n",
        "class Dog(Animal):                                                              # Inherits from the upper class Animal\n",
        "  def __init__(self, num_legs: int, mammal: bool, size: str):\n",
        "    super().__init__('Dog', num_legs, mammal)\n",
        "    self.size = size\n",
        "\n",
        "dog1 = Dog(num_legs=4, mammal=True, size='small')\n",
        "\n",
        "print(dog1.name)\n",
        "dog1.is_mammal()\n",
        "dog1.print_legs()"
      ],
      "metadata": {
        "colab": {
          "base_uri": "https://localhost:8080/"
        },
        "id": "i7OgMgZl2eTD",
        "outputId": "5863d8eb-6c86-44d8-9d89-8b63ef99433d"
      },
      "execution_count": 14,
      "outputs": [
        {
          "output_type": "stream",
          "name": "stdout",
          "text": [
            "Dog\n",
            "Dog is a mammal.\n",
            "Dog is an Animal with 4 legs\n"
          ]
        }
      ]
    }
  ]
}