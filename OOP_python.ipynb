{
  "nbformat": 4,
  "nbformat_minor": 0,
  "metadata": {
    "colab": {
      "provenance": [],
      "authorship_tag": "ABX9TyPUTVog+mfjixIBiJKAPmPc",
      "include_colab_link": true
    },
    "kernelspec": {
      "name": "python3",
      "display_name": "Python 3"
    },
    "language_info": {
      "name": "python"
    }
  },
  "cells": [
    {
      "cell_type": "markdown",
      "metadata": {
        "id": "view-in-github",
        "colab_type": "text"
      },
      "source": [
        "<a href=\"https://colab.research.google.com/github/DavoodSZ1993/Python_Tutorial/blob/main/OOP_python.ipynb\" target=\"_parent\"><img src=\"https://colab.research.google.com/assets/colab-badge.svg\" alt=\"Open In Colab\"/></a>"
      ]
    },
    {
      "cell_type": "markdown",
      "source": [
        "## 01. Creating Class and Instantiate Objects"
      ],
      "metadata": {
        "id": "FOkPOY0OyOau"
      }
    },
    {
      "cell_type": "code",
      "execution_count": 1,
      "metadata": {
        "colab": {
          "base_uri": "https://localhost:8080/"
        },
        "id": "_-atoHAYxpJb",
        "outputId": "e36f0218-c7db-474f-c7e9-81e8c3a4681e"
      },
      "outputs": [
        {
          "output_type": "execute_result",
          "data": {
            "text/plain": [
              "__main__.Item"
            ]
          },
          "metadata": {},
          "execution_count": 1
        }
      ],
      "source": [
        "class Item:\n",
        "  pass\n",
        "\n",
        "item1 = Item()\n",
        "\n",
        "type(item1)"
      ]
    },
    {
      "cell_type": "markdown",
      "source": [
        "* `__init__()`: This method is run as soon as an object of the class is instantiated. This method is useful to do any initialization you want to do with your object."
      ],
      "metadata": {
        "id": "pzsRG_Jv0RSO"
      }
    },
    {
      "cell_type": "code",
      "source": [
        "class Animal:\n",
        "  def __init__(self, name, num_legs, mammal):   # Instructor\n",
        "    self.name = name\n",
        "    self.num_legs = num_legs\n",
        "    self.mammal = mammal\n",
        "\n",
        "  def is_mammal(self):                         # Method\n",
        "    if self.mammal:\n",
        "      print(f'{self.name} is a mammal.')\n",
        "    else:\n",
        "      print(f'{self.name} is not a mammal.')\n",
        "\n",
        "dog = Animal('Dog', 4, True)\n",
        "dog.is_mammal()\n",
        "\n",
        "  "
      ],
      "metadata": {
        "colab": {
          "base_uri": "https://localhost:8080/"
        },
        "id": "gAYIWwyjysdn",
        "outputId": "66533945-7832-42b8-f3f5-39a2d6b93522"
      },
      "execution_count": 2,
      "outputs": [
        {
          "output_type": "stream",
          "name": "stdout",
          "text": [
            "Dog is a mammal.\n"
          ]
        }
      ]
    },
    {
      "cell_type": "markdown",
      "source": [
        "### Deafult Arguments\n",
        "\n",
        "* Default values indicate that the argument will take that value if no argument value is passed during the method call.\n",
        "* The default value is assigned by using assignment operator *=* of the form *keywordname=value*"
      ],
      "metadata": {
        "id": "3Dgn0-z32qeN"
      }
    },
    {
      "cell_type": "code",
      "source": [
        "class Animal:\n",
        "  def __init__(self, name=None, num_legs=4, mammal=True):   # Instructor\n",
        "    self.name = name\n",
        "    self.num_legs = num_legs\n",
        "    self.mammal = mammal\n",
        "\n",
        "  def is_mammal(self):                         # Method\n",
        "    if self.mammal:\n",
        "      print(f'{self.name} is a mammal.')\n",
        "    else:\n",
        "      print(f'{self.name} is not a mammal.')\n",
        "\n",
        "dog = Animal('Dog')\n",
        "dog.is_mammal()\n",
        "\n",
        "dog.num_legs"
      ],
      "metadata": {
        "colab": {
          "base_uri": "https://localhost:8080/"
        },
        "id": "_qH-QFbz2Lad",
        "outputId": "451707c0-7be2-4eaa-b961-700b0f921810"
      },
      "execution_count": 3,
      "outputs": [
        {
          "output_type": "stream",
          "name": "stdout",
          "text": [
            "Dog is a mammal.\n"
          ]
        },
        {
          "output_type": "execute_result",
          "data": {
            "text/plain": [
              "4"
            ]
          },
          "metadata": {},
          "execution_count": 3
        }
      ]
    },
    {
      "cell_type": "markdown",
      "source": [
        "### Default Argument Format "
      ],
      "metadata": {
        "id": "GrQkIpur43xc"
      }
    },
    {
      "cell_type": "code",
      "source": [
        "class Animal:\n",
        "  def __init__(self, name: str, num_legs: int, mammal: bool):   # Instructor\n",
        "    self.name = name\n",
        "    self.num_legs = num_legs\n",
        "    self.mammal = mammal\n",
        "\n",
        "  def is_mammal(self):                         # Method\n",
        "    if self.mammal:\n",
        "      print(f'{self.name} is a mammal.')\n",
        "    else:\n",
        "      print(f'{self.name} is not a mammal.')\n",
        "\n",
        "dog = Animal(name='Dog', num_legs=4, mammal=True)\n",
        "dog.is_mammal()\n",
        "\n",
        "dog.num_legs"
      ],
      "metadata": {
        "colab": {
          "base_uri": "https://localhost:8080/"
        },
        "id": "7Ev5H-l34__c",
        "outputId": "f0334ae2-588a-45cf-889a-2b2c74e47d3e"
      },
      "execution_count": 4,
      "outputs": [
        {
          "output_type": "stream",
          "name": "stdout",
          "text": [
            "Dog is a mammal.\n"
          ]
        },
        {
          "output_type": "execute_result",
          "data": {
            "text/plain": [
              "4"
            ]
          },
          "metadata": {},
          "execution_count": 4
        }
      ]
    },
    {
      "cell_type": "markdown",
      "source": [
        "### Argument Validation\n",
        "\n",
        "`assert` in Python has two main uses:\n",
        "\n",
        "1. Helps detect errors early on.\n",
        "2. Can be used as documentation for other developers."
      ],
      "metadata": {
        "id": "28AvrpDM5n5F"
      }
    },
    {
      "cell_type": "code",
      "source": [
        "class Animal:\n",
        "  def __init__(self, name: str, num_legs: int, mammal: bool):   # Instructor\n",
        "    assert num_legs >0, f'{num_legs} is not greater than zero!'\n",
        "    \n",
        "    self.name = name\n",
        "    self.num_legs = num_legs\n",
        "    self.mammal = mammal\n",
        "\n",
        "  def is_mammal(self):                         # Method\n",
        "    if self.mammal:\n",
        "      print(f'{self.name} is a mammal.')\n",
        "    else:\n",
        "      print(f'{self.name} is not a mammal.')\n",
        "\n",
        "dog = Animal(name='Dog', num_legs=4, mammal=True)\n",
        "dog.is_mammal()\n",
        "\n",
        "dog.num_legs"
      ],
      "metadata": {
        "colab": {
          "base_uri": "https://localhost:8080/"
        },
        "id": "blMKAq1O5zWb",
        "outputId": "40aa9395-a41a-4523-d6b3-4a8a589fe186"
      },
      "execution_count": 5,
      "outputs": [
        {
          "output_type": "stream",
          "name": "stdout",
          "text": [
            "Dog is a mammal.\n"
          ]
        },
        {
          "output_type": "execute_result",
          "data": {
            "text/plain": [
              "4"
            ]
          },
          "metadata": {},
          "execution_count": 5
        }
      ]
    },
    {
      "cell_type": "markdown",
      "source": [
        "### Class Attribute\n",
        "\n",
        "* **Class Attributes**: Are class variables that are inherited by every object of the class.\n",
        "* **Instance Attributes**: Are defined in the `__init__()` function and allow us to define different values for each object of the class\n",
        "\n",
        "* `__dict__`: This attribute conatains all the attributes which describe a given class."
      ],
      "metadata": {
        "id": "uwBJbwE68t65"
      }
    },
    {
      "cell_type": "code",
      "source": [
        "class Animal:\n",
        "  message = 'This is the animal class'\n",
        "  def __init__(self, name: str, num_legs: int, mammal: bool):   # Instructor\n",
        "    assert num_legs >0, f'{num_legs} is not greater than zero!'\n",
        "    \n",
        "    self.name = name\n",
        "    self.num_legs = num_legs\n",
        "    self.mammal = mammal\n",
        "\n",
        "  def is_mammal(self):                         # Method\n",
        "    if self.mammal:\n",
        "      print(f'{self.name} is a mammal.')\n",
        "    else:\n",
        "      print(f'{self.name} is not a mammal.')\n",
        "\n",
        "dog = Animal(name='Dog', num_legs=4, mammal=True)\n",
        "chicken = Animal(name='Chicken', num_legs=2, mammal=False)\n",
        "\n",
        "print(Animal.message)\n",
        "print(dog.message)\n",
        "print(chicken.message)\n",
        "\n",
        "print('#######################################')\n",
        "\n",
        "print(Animal.__dict__)                        # All the attributes for class level.\n",
        "print(dog.__dict__)                           # All the attributes for instance level.\n",
        "print(chicken.__dict__)                       # All the attributes for instance level."
      ],
      "metadata": {
        "colab": {
          "base_uri": "https://localhost:8080/"
        },
        "id": "cLmR2fpr94J8",
        "outputId": "b6451565-1702-425e-a38b-f107761fd97a"
      },
      "execution_count": 6,
      "outputs": [
        {
          "output_type": "stream",
          "name": "stdout",
          "text": [
            "This is the animal class\n",
            "This is the animal class\n",
            "This is the animal class\n",
            "#######################################\n",
            "{'__module__': '__main__', 'message': 'This is the animal class', '__init__': <function Animal.__init__ at 0x7f1810fa83a0>, 'is_mammal': <function Animal.is_mammal at 0x7f1810fa8310>, '__dict__': <attribute '__dict__' of 'Animal' objects>, '__weakref__': <attribute '__weakref__' of 'Animal' objects>, '__doc__': None}\n",
            "{'name': 'Dog', 'num_legs': 4, 'mammal': True}\n",
            "{'name': 'Chicken', 'num_legs': 2, 'mammal': False}\n"
          ]
        }
      ]
    },
    {
      "cell_type": "code",
      "source": [
        "class Animal:\n",
        "  message = 'Animal'\n",
        "  def __init__(self, name: str, num_legs: int, mammal: bool):   # Instructor\n",
        "    assert num_legs >0, f'{num_legs} is not greater than zero!'\n",
        "    \n",
        "    self.name = name\n",
        "    self.num_legs = num_legs\n",
        "    self.mammal = mammal\n",
        "\n",
        "  def is_mammal(self):                         # Method\n",
        "    if self.mammal:\n",
        "      print(f'{self.name} is a mammal.')\n",
        "    else:\n",
        "      print(f'{self.name} is not a mammal.')\n",
        "\n",
        "  def print_legs(self):\n",
        "    print(f'{self.name} is an {Animal.message} with {self.num_legs} legs')      # Can be accessed from the class level\n",
        "\n",
        "dog = Animal(name='Dog', num_legs=4, mammal=True)\n",
        "chicken = Animal(name='Chicken', num_legs=2, mammal=False)\n",
        "\n",
        "dog.print_legs()\n",
        "chicken.print_legs()\n"
      ],
      "metadata": {
        "colab": {
          "base_uri": "https://localhost:8080/"
        },
        "id": "kCGrOv1DAkpl",
        "outputId": "d51c5861-7c9d-4755-9e59-13db13c87874"
      },
      "execution_count": 7,
      "outputs": [
        {
          "output_type": "stream",
          "name": "stdout",
          "text": [
            "Dog is an Animal with 4 legs\n",
            "Chicken is an Animal with 2 legs\n"
          ]
        }
      ]
    },
    {
      "cell_type": "markdown",
      "source": [
        "* Upon calling a method or property, the program firstly tries to find the method or attribute in the instance level, then moves to the class level. "
      ],
      "metadata": {
        "id": "Md60SlsO7Iyi"
      }
    },
    {
      "cell_type": "code",
      "source": [
        "class Animal:\n",
        "  message = 'Animal'\n",
        "  def __init__(self, name: str, num_legs: int, mammal: bool):   # Instructor\n",
        "    assert num_legs >0, f'{num_legs} is not greater than zero!'\n",
        "    \n",
        "    self.name = name\n",
        "    self.num_legs = num_legs\n",
        "    self.mammal = mammal\n",
        "\n",
        "  def is_mammal(self):                         # Method\n",
        "    if self.mammal:\n",
        "      print(f'{self.name} is a mammal.')\n",
        "    else:\n",
        "      print(f'{self.name} is not a mammal.')\n",
        "\n",
        "  def print_legs(self):\n",
        "    print(f'{self.name} is an {self.message} with {self.num_legs} legs')      # Can be accessed from the instance level\n",
        "\n",
        "dog = Animal(name='Dog', num_legs=4, mammal=True)\n",
        "chicken = Animal(name='Chicken', num_legs=2, mammal=False)\n",
        "\n",
        "chicken.print_legs()                                                            # No value in instance level, then moved to class level.\n",
        "dog.message = 'cool Animal'                                                     # The value is given in instance level\n",
        "dog.print_legs()\n"
      ],
      "metadata": {
        "colab": {
          "base_uri": "https://localhost:8080/"
        },
        "id": "NHg8Pw3e7czM",
        "outputId": "36d0cb2d-27fe-4b59-cf61-b154e71ce832"
      },
      "execution_count": 8,
      "outputs": [
        {
          "output_type": "stream",
          "name": "stdout",
          "text": [
            "Chicken is an Animal with 2 legs\n",
            "Dog is an cool Animal with 4 legs\n"
          ]
        }
      ]
    },
    {
      "cell_type": "markdown",
      "source": [
        "### Saving all Instances in a Class Attribute"
      ],
      "metadata": {
        "id": "3FWcg4lpG91W"
      }
    },
    {
      "cell_type": "code",
      "source": [
        "class Animal:\n",
        "  message = 'Animal'\n",
        "  all = []\n",
        "  def __init__(self, name: str, num_legs: int, mammal: bool):   # Instructor\n",
        "    assert num_legs >0, f'{num_legs} is not greater than zero!'\n",
        "    \n",
        "    self.name = name\n",
        "    self.num_legs = num_legs\n",
        "    self.mammal = mammal\n",
        "\n",
        "    # Actions to execute\n",
        "    Animal.all.append(self)\n",
        "\n",
        "  def is_mammal(self):                         # Method\n",
        "    if self.mammal:\n",
        "      print(f'{self.name} is a mammal.')\n",
        "    else:\n",
        "      print(f'{self.name} is not a mammal.')\n",
        "\n",
        "  def print_legs(self):\n",
        "    print(f'{self.name} is an {self.message} with {self.num_legs} legs')        # Can be accessed from the instance level\n",
        "\n",
        "dog = Animal(name='Dog', num_legs=4, mammal=True)\n",
        "chicken = Animal(name='Chicken', num_legs=2, mammal=False)\n",
        "horse = Animal(name='Horse', num_legs=4, mammal=True)\n",
        "tyrkey = Animal(name='Turkey', num_legs=2, mammal=False)\n",
        "\n",
        "print(Animal.all)                                                               # Shows that fours instances are created.\n",
        "\n",
        "for instance in Animal.all:\n",
        "  print(instance.name)"
      ],
      "metadata": {
        "colab": {
          "base_uri": "https://localhost:8080/"
        },
        "id": "gvuv-KQL9Q5T",
        "outputId": "334a89f1-6bdf-4dc4-c063-f8052b7039d2"
      },
      "execution_count": 9,
      "outputs": [
        {
          "output_type": "stream",
          "name": "stdout",
          "text": [
            "[<__main__.Animal object at 0x7f17ffb86730>, <__main__.Animal object at 0x7f17ffb86970>, <__main__.Animal object at 0x7f17ffb86490>, <__main__.Animal object at 0x7f17ffb86cd0>]\n",
            "Dog\n",
            "Chicken\n",
            "Horse\n",
            "Turkey\n"
          ]
        }
      ]
    },
    {
      "cell_type": "markdown",
      "source": [
        "* Python `__repr__()` function returns the object representation in string format. "
      ],
      "metadata": {
        "id": "N3irlgjO_CR9"
      }
    },
    {
      "cell_type": "code",
      "source": [
        "class Animal:\n",
        "  message = 'Animal'\n",
        "  all = []\n",
        "  def __init__(self, name: str, num_legs: int, mammal: bool):   # Instructor\n",
        "    assert num_legs >0, f'{num_legs} is not greater than zero!'\n",
        "    \n",
        "    self.name = name\n",
        "    self.num_legs = num_legs\n",
        "    self.mammal = mammal\n",
        "\n",
        "    # Actions to execute\n",
        "    Animal.all.append(self)\n",
        "\n",
        "  def is_mammal(self):                         # Method\n",
        "    if self.mammal:\n",
        "      print(f'{self.name} is a mammal.')\n",
        "    else:\n",
        "      print(f'{self.name} is not a mammal.')\n",
        "\n",
        "  def print_legs(self):\n",
        "    print(f'{self.name} is an {self.message} with {self.num_legs} legs')        # Can be accessed from the instance level\n",
        "\n",
        "  def __repr__(self):\n",
        "    return f\"Animal('{self.name}', {self.num_legs}, {self.mammal})\"\n",
        "\n",
        "dog = Animal(name='Dog', num_legs=4, mammal=True)\n",
        "chicken = Animal(name='Chicken', num_legs=2, mammal=False)\n",
        "horse = Animal(name='Horse', num_legs=4, mammal=True)\n",
        "tyrkey = Animal(name='Turkey', num_legs=2, mammal=False)\n",
        "\n",
        "print(Animal.all)                                                               # representing the object by __repr__ method\n",
        "print(dog)                                                                      # representing the object by __repr__ method"
      ],
      "metadata": {
        "colab": {
          "base_uri": "https://localhost:8080/"
        },
        "id": "12q4Crvx_zzx",
        "outputId": "00c72b7c-204c-4759-faf1-c87bfec4529e"
      },
      "execution_count": 10,
      "outputs": [
        {
          "output_type": "stream",
          "name": "stdout",
          "text": [
            "[Animal('Dog', 4, True), Animal('Chicken', 2, False), Animal('Horse', 4, True), Animal('Turkey', 2, False)]\n",
            "Animal('Dog', 4, True)\n"
          ]
        }
      ]
    },
    {
      "cell_type": "markdown",
      "source": [
        "### Class Methods\n",
        "\n",
        "* **Instance Method**: Used to access or modify the object state. t must have a `self` parameter to refer to the current object. If we use *instance variables* inside a method, such methods are called instance methods.\n",
        "* **Class Method**: Used to access or modify the class state. The class method has a `cls` parameter which refers to the class. If we use only *class variables*, then such type of methods we should declare as a class method.\n",
        "* **Static Method**: It is a general utility method that performs a task *in isolation*. Inside this method, we don’t use instance or class variable because this static method doesn’t take any parameters like `self` and `cls`.\n",
        "* Class methods can be created uing the `@classmethod` decorator."
      ],
      "metadata": {
        "id": "k5BGFz0_G_qn"
      }
    },
    {
      "cell_type": "code",
      "source": [
        "import pandas as pd\n",
        "import numpy as np\n",
        "\n",
        "df = pd.DataFrame({\n",
        "    'name': ['phone', 'laptop', 'cable', 'mouse', 'keyboard'],\n",
        "    'price': [100, 1000, 10, 50, 75],\n",
        "    'quantity': [1, 3, 5, 5, 6]}, index=range(0,5))\n",
        "\n",
        "df.to_csv('./items.csv',index=False)"
      ],
      "metadata": {
        "id": "ByNOlWvWK7kQ"
      },
      "execution_count": 11,
      "outputs": []
    },
    {
      "cell_type": "code",
      "source": [
        "class Item:\n",
        "  pay_rate = 0.8\n",
        "  all = []\n",
        "  def __init__(self, name: str, price: float, quantity=0):\n",
        "    # Run validation on the received arguments.\n",
        "    assert price >=0, f\"Price{price} is not greater than or equal to zero!\"\n",
        "    assert quantity >=0, f\"Quantity{quantity} is not greater than or equal to zero!\"\n",
        "\n",
        "    # Assign values\n",
        "    self.name = name\n",
        "    self.price = price\n",
        "    self.quantity = quantity\n",
        "\n",
        "    # Actions to execute\n",
        "    Item.all.append(self)\n",
        "\n",
        "  def calculate_total_price(self):\n",
        "    return self.price * self.quantity\n",
        "\n",
        "  def apply_discount(self):\n",
        "    self.price = self.price * self.pay_rate\n",
        "\n",
        "  def __repr__(self):\n",
        "    return f\"Item('{self.name}', {self.price}, {self.quantity})\"\n",
        "\n",
        "  @classmethod\n",
        "  def instantiate_from_csv(cls):\n",
        "    df = pd.read_csv('./items.csv')\n",
        "\n",
        "    names = df['name']\n",
        "    prices = df['price']\n",
        "    quantities = df['quantity']\n",
        "\n",
        "    for i in range(len(names)):\n",
        "      cls(\n",
        "          name = names[i],\n",
        "          price = float(prices[i]),\n",
        "          quantity = int(quantities[i])\n",
        "      )\n",
        "\n",
        "Item.instantiate_from_csv()\n",
        "print(Item.all)"
      ],
      "metadata": {
        "colab": {
          "base_uri": "https://localhost:8080/"
        },
        "id": "EW-AjdURNNk-",
        "outputId": "ebe0a491-461d-4366-f893-2fbc8d1548eb"
      },
      "execution_count": 12,
      "outputs": [
        {
          "output_type": "stream",
          "name": "stdout",
          "text": [
            "[Item('phone', 100.0, 1), Item('laptop', 1000.0, 3), Item('cable', 10.0, 5), Item('mouse', 50.0, 5), Item('keyboard', 75.0, 6)]\n"
          ]
        }
      ]
    },
    {
      "cell_type": "markdown",
      "source": [
        "* Static Methods can be created using `@staticmethod` decorator."
      ],
      "metadata": {
        "id": "z0S4VEAjXkPr"
      }
    },
    {
      "cell_type": "code",
      "source": [
        "class Item:\n",
        "  pay_rate = 0.8\n",
        "  all = []\n",
        "  def __init__(self, name: str, price: float, quantity=0):\n",
        "    # Run validation on the received arguments.\n",
        "    assert price >=0, f\"Price{price} is not greater than or equal to zero!\"\n",
        "    assert quantity >=0, f\"Quantity{quantity} is not greater than or equal to zero!\"\n",
        "\n",
        "    # Assign values\n",
        "    self.name = name\n",
        "    self.price = price\n",
        "    self.quantity = quantity\n",
        "\n",
        "    # Actions to execute\n",
        "    Item.all.append(self)\n",
        "\n",
        "  def calculate_total_price(self):\n",
        "    return self.price * self.quantity\n",
        "\n",
        "  def apply_discount(self):\n",
        "    self.price = self.price * self.pay_rate\n",
        "\n",
        "  def __repr__(self):\n",
        "    return f\"Item('{self.name}', {self.price}, {self.quantity})\"\n",
        "\n",
        "  @classmethod\n",
        "  def instantiate_from_csv(cls):\n",
        "    df = pd.read_csv('./items.csv')\n",
        "\n",
        "    names = df['name']\n",
        "    prices = df['price']\n",
        "    quantities = df['quantity']\n",
        "\n",
        "    for i in range(len(names)):\n",
        "      cls(\n",
        "          name = names[i],\n",
        "          price = float(prices[i]),\n",
        "          quantity = int(quantities[i])\n",
        "      )\n",
        "  \n",
        "  @staticmethod\n",
        "  def is_integer(num):\n",
        "    if isinstance(num, float):\n",
        "      return num.is_integer()\n",
        "\n",
        "    elif isinstance(num, int):\n",
        "      return True\n",
        "\n",
        "    else:\n",
        "      return False\n",
        "\n",
        "Item.is_integer(10)\n"
      ],
      "metadata": {
        "id": "AwjtY_JOarcT",
        "outputId": "dea574da-dff4-4f8e-d3da-99156d607425",
        "colab": {
          "base_uri": "https://localhost:8080/"
        }
      },
      "execution_count": 13,
      "outputs": [
        {
          "output_type": "execute_result",
          "data": {
            "text/plain": [
              "True"
            ]
          },
          "metadata": {},
          "execution_count": 13
        }
      ]
    },
    {
      "cell_type": "markdown",
      "source": [
        "## 02. Inheritance\n",
        "\n",
        "It is a mechanism that allows you to create a hierarchy of classes that share a set of properties and methods by deriving a class from another class.\n",
        "\n",
        "* `super().__init__()`: Allows us to avoid referring to the base class explicitly. Also, the main advantage comes from multiple inheritance. "
      ],
      "metadata": {
        "id": "sTCiV5XF2EKz"
      }
    },
    {
      "cell_type": "code",
      "source": [
        "class Animal:\n",
        "  message = 'Animal'\n",
        "  def __init__(self, name: str, num_legs: int, mammal: bool):   # Instructor\n",
        "    assert num_legs >0, f'{num_legs} is not greater than zero!'\n",
        "    \n",
        "    self.name = name\n",
        "    self.num_legs = num_legs\n",
        "    self.mammal = mammal\n",
        "\n",
        "  def is_mammal(self):                         # Method\n",
        "    if self.mammal:\n",
        "      print(f'{self.name} is a mammal.')\n",
        "    else:\n",
        "      print(f'{self.name} is not a mammal.')\n",
        "\n",
        "  def print_legs(self):\n",
        "    print(f'{self.name} is an {Animal.message} with {self.num_legs} legs')      # Can be accessed from the class level\n",
        "\n",
        "class Dog(Animal):                                                              # Inherits from the upper class Animal\n",
        "  def __init__(self, num_legs: int, mammal: bool, size: str):\n",
        "    super().__init__('Dog', num_legs, mammal)\n",
        "    self.size = size\n",
        "\n",
        "dog1 = Dog(num_legs=4, mammal=True, size='small')\n",
        "\n",
        "print(dog1.name)\n",
        "dog1.is_mammal()\n",
        "dog1.print_legs()"
      ],
      "metadata": {
        "colab": {
          "base_uri": "https://localhost:8080/"
        },
        "id": "i7OgMgZl2eTD",
        "outputId": "d17bed22-fb2a-4067-8444-9cfe0f6a2a39"
      },
      "execution_count": 14,
      "outputs": [
        {
          "output_type": "stream",
          "name": "stdout",
          "text": [
            "Dog\n",
            "Dog is a mammal.\n",
            "Dog is an Animal with 4 legs\n"
          ]
        }
      ]
    },
    {
      "cell_type": "code",
      "source": [
        "class Item:\n",
        "  pay_rate = 0.8\n",
        "  all = []\n",
        "  def __init__(self, name: str, price: float, quantity=0):\n",
        "    # Run validation on the received arguments.\n",
        "    assert price >=0, f\"Price{price} is not greater than or equal to zero!\"\n",
        "    assert quantity >=0, f\"Quantity{quantity} is not greater than or equal to zero!\"\n",
        "\n",
        "    # Assign values\n",
        "    self.name = name\n",
        "    self.price = price\n",
        "    self.quantity = quantity\n",
        "\n",
        "    # Actions to execute\n",
        "    Item.all.append(self)\n",
        "\n",
        "  def calculate_total_price(self):\n",
        "    return self.price * self.quantity\n",
        "\n",
        "  def apply_discount(self):\n",
        "    self.price = self.price * self.pay_rate\n",
        "\n",
        "  def __repr__(self):\n",
        "    return f\"Item('{self.name}', {self.price}, {self.quantity})\"\n",
        "\n",
        "  @classmethod\n",
        "  def instantiate_from_csv(cls):\n",
        "    df = pd.read_csv('./items.csv')\n",
        "\n",
        "    names = df['name']\n",
        "    prices = df['price']\n",
        "    quantities = df['quantity']\n",
        "\n",
        "    for i in range(len(names)):\n",
        "      cls(\n",
        "          name = names[i],\n",
        "          price = float(prices[i]),\n",
        "          quantity = int(quantities[i])\n",
        "      )\n",
        "  \n",
        "  @staticmethod\n",
        "  def is_integer(num):\n",
        "    if isinstance(num, float):\n",
        "      return num.is_integer()\n",
        "\n",
        "    elif isinstance(num, int):\n",
        "      return True\n",
        "\n",
        "    else:\n",
        "      return False\n"
      ],
      "metadata": {
        "id": "iYSZ_zE0-PLK"
      },
      "execution_count": 16,
      "outputs": []
    },
    {
      "cell_type": "code",
      "source": [
        "class Phone(Item):\n",
        "  all = []\n",
        "  def __init__(self, name: str, price: float, quantity=0, broken_phones=0):\n",
        "    super().__init__(name, price, quantity)\n",
        "\n",
        "    # Run validation on the received arguments.\n",
        "    assert broken_phones >=0, f'Broken phones {broken_phones} is not greater than or equal to zero!'\n",
        "\n",
        "    # Assign to self object\n",
        "    self.broken_phones = broken_phones\n",
        "\n",
        "    # Actions to execute\n",
        "    Phone.all.append(self)\n",
        "\n",
        "phone1 = Phone('jscphonev10',500, 5, 1)\n",
        "\n",
        "print(phone1.calculate_total_price())\n",
        "print(Phone.all)\n"
      ],
      "metadata": {
        "colab": {
          "base_uri": "https://localhost:8080/"
        },
        "id": "6pLGbWpg-WXc",
        "outputId": "6d7a2028-3f5b-4e4f-9362-437ed40dd5c4"
      },
      "execution_count": 21,
      "outputs": [
        {
          "output_type": "stream",
          "name": "stdout",
          "text": [
            "2500\n",
            "[Item('jscphonev10', 500, 5)]\n"
          ]
        }
      ]
    },
    {
      "cell_type": "markdown",
      "source": [
        "* `self.__class__.__name__`: Represents the name of the class."
      ],
      "metadata": {
        "id": "eFO0mlTCAvj7"
      }
    },
    {
      "cell_type": "code",
      "source": [
        "class Item:\n",
        "  pay_rate = 0.8\n",
        "  all = []\n",
        "  def __init__(self, name: str, price: float, quantity=0):\n",
        "    # Run validation on the received arguments.\n",
        "    assert price >=0, f\"Price{price} is not greater than or equal to zero!\"\n",
        "    assert quantity >=0, f\"Quantity{quantity} is not greater than or equal to zero!\"\n",
        "\n",
        "    # Assign values\n",
        "    self.name = name\n",
        "    self.price = price\n",
        "    self.quantity = quantity\n",
        "\n",
        "    # Actions to execute\n",
        "    Item.all.append(self)\n",
        "\n",
        "  def calculate_total_price(self):\n",
        "    return self.price * self.quantity\n",
        "\n",
        "  def apply_discount(self):\n",
        "    self.price = self.price * self.pay_rate\n",
        "\n",
        "  def __repr__(self):\n",
        "    return f\"{self.__class__.__name__}('{self.name}', {self.price}, {self.quantity})\"\n",
        "\n",
        "  @classmethod\n",
        "  def instantiate_from_csv(cls):\n",
        "    df = pd.read_csv('./items.csv')\n",
        "\n",
        "    names = df['name']\n",
        "    prices = df['price']\n",
        "    quantities = df['quantity']\n",
        "\n",
        "    for i in range(len(names)):\n",
        "      cls(\n",
        "          name = names[i],\n",
        "          price = float(prices[i]),\n",
        "          quantity = int(quantities[i])\n",
        "      )\n",
        "  \n",
        "  @staticmethod\n",
        "  def is_integer(num):\n",
        "    if isinstance(num, float):\n",
        "      return num.is_integer()\n",
        "\n",
        "    elif isinstance(num, int):\n",
        "      return True\n",
        "\n",
        "    else:\n",
        "      return False\n",
        "\n"
      ],
      "metadata": {
        "id": "qA9u9k-ABHJi"
      },
      "execution_count": 22,
      "outputs": []
    },
    {
      "cell_type": "code",
      "source": [
        "class Phone(Item):\n",
        "  all = []\n",
        "  def __init__(self, name: str, price: float, quantity=0, broken_phones=0):\n",
        "    super().__init__(name, price, quantity)\n",
        "\n",
        "    # Run validation on the received arguments.\n",
        "    assert broken_phones >=0, f'Broken phones {broken_phones} is not greater than or equal to zero!'\n",
        "\n",
        "    # Assign to self object\n",
        "    self.broken_phones = broken_phones\n",
        "\n",
        "    # Actions to execute\n",
        "    Phone.all.append(self)\n",
        "\n",
        "phone1 = Phone('jscphonev10',500, 5, 1)\n",
        "\n",
        "\n",
        "print(Phone.all)"
      ],
      "metadata": {
        "colab": {
          "base_uri": "https://localhost:8080/"
        },
        "id": "22wN7oOBBYYy",
        "outputId": "60009abd-70c5-440b-abb6-27f9a519f67a"
      },
      "execution_count": 23,
      "outputs": [
        {
          "output_type": "stream",
          "name": "stdout",
          "text": [
            "[Phone('jscphonev10', 500, 5)]\n"
          ]
        }
      ]
    },
    {
      "cell_type": "markdown",
      "source": [
        "### Read-only Attributes\n",
        "\n",
        "A Read-Only-Property is a property decorator without a setter. In general terms, it means that the value is not changable.\n",
        "* In order to have a *read-only* property in a class, we can make use of the `@property` decoration.\n",
        "\n",
        "* **Application**: In the rare instance where it just does not make sense for an attribute to be settable (such as a derived value, or a value read from some static datasource), the getter-only property is generally the preferred pattern."
      ],
      "metadata": {
        "id": "0uX1avrsCobV"
      }
    },
    {
      "cell_type": "code",
      "source": [
        "class Student:\n",
        "  def __init__(self, name, age):\n",
        "    self.name = name\n",
        "    self.age = age\n",
        "\n",
        "  @property\n",
        "  def std_schl(self):\n",
        "    self.std_schl = 'AUT'    # becasue of the property decoration\n",
        "\n",
        "davood = Student('Davood', 24)\n",
        "print(davood.name, davood.age, davood.std_schl)"
      ],
      "metadata": {
        "colab": {
          "base_uri": "https://localhost:8080/",
          "height": 321
        },
        "id": "4H7LYwzIFaaM",
        "outputId": "91611fa4-26e6-46d1-8800-494af04e6827"
      },
      "execution_count": 25,
      "outputs": [
        {
          "output_type": "error",
          "ename": "AttributeError",
          "evalue": "ignored",
          "traceback": [
            "\u001b[0;31m---------------------------------------------------------------------------\u001b[0m",
            "\u001b[0;31mAttributeError\u001b[0m                            Traceback (most recent call last)",
            "\u001b[0;32m<ipython-input-25-fa6b9212fd8d>\u001b[0m in \u001b[0;36m<module>\u001b[0;34m\u001b[0m\n\u001b[1;32m      9\u001b[0m \u001b[0;34m\u001b[0m\u001b[0m\n\u001b[1;32m     10\u001b[0m \u001b[0mdavood\u001b[0m \u001b[0;34m=\u001b[0m \u001b[0mStudent\u001b[0m\u001b[0;34m(\u001b[0m\u001b[0;34m'Davood'\u001b[0m\u001b[0;34m,\u001b[0m \u001b[0;36m24\u001b[0m\u001b[0;34m)\u001b[0m\u001b[0;34m\u001b[0m\u001b[0;34m\u001b[0m\u001b[0m\n\u001b[0;32m---> 11\u001b[0;31m \u001b[0mprint\u001b[0m\u001b[0;34m(\u001b[0m\u001b[0mdavood\u001b[0m\u001b[0;34m.\u001b[0m\u001b[0mname\u001b[0m\u001b[0;34m,\u001b[0m \u001b[0mdavood\u001b[0m\u001b[0;34m.\u001b[0m\u001b[0mage\u001b[0m\u001b[0;34m,\u001b[0m \u001b[0mdavood\u001b[0m\u001b[0;34m.\u001b[0m\u001b[0mstd_schl\u001b[0m\u001b[0;34m)\u001b[0m\u001b[0;34m\u001b[0m\u001b[0;34m\u001b[0m\u001b[0m\n\u001b[0m",
            "\u001b[0;32m<ipython-input-25-fa6b9212fd8d>\u001b[0m in \u001b[0;36mstd_schl\u001b[0;34m(self)\u001b[0m\n\u001b[1;32m      6\u001b[0m   \u001b[0;34m@\u001b[0m\u001b[0mproperty\u001b[0m\u001b[0;34m\u001b[0m\u001b[0;34m\u001b[0m\u001b[0m\n\u001b[1;32m      7\u001b[0m   \u001b[0;32mdef\u001b[0m \u001b[0mstd_schl\u001b[0m\u001b[0;34m(\u001b[0m\u001b[0mself\u001b[0m\u001b[0;34m)\u001b[0m\u001b[0;34m:\u001b[0m\u001b[0;34m\u001b[0m\u001b[0;34m\u001b[0m\u001b[0m\n\u001b[0;32m----> 8\u001b[0;31m     \u001b[0mself\u001b[0m\u001b[0;34m.\u001b[0m\u001b[0mstd_schl\u001b[0m \u001b[0;34m=\u001b[0m \u001b[0;34m'AUT'\u001b[0m\u001b[0;34m\u001b[0m\u001b[0;34m\u001b[0m\u001b[0m\n\u001b[0m\u001b[1;32m      9\u001b[0m \u001b[0;34m\u001b[0m\u001b[0m\n\u001b[1;32m     10\u001b[0m \u001b[0mdavood\u001b[0m \u001b[0;34m=\u001b[0m \u001b[0mStudent\u001b[0m\u001b[0;34m(\u001b[0m\u001b[0;34m'Davood'\u001b[0m\u001b[0;34m,\u001b[0m \u001b[0;36m24\u001b[0m\u001b[0;34m)\u001b[0m\u001b[0;34m\u001b[0m\u001b[0;34m\u001b[0m\u001b[0m\n",
            "\u001b[0;31mAttributeError\u001b[0m: can't set attribute"
          ]
        }
      ]
    },
    {
      "cell_type": "markdown",
      "source": [
        "* No underscore: It's a public variable.\n",
        "* One underscore `_`: It's a protected variable. Other values cannot be assigned to these attributes.\n",
        "* Two underscores `__`: It's a private variable. DOn't have access to these variables outside the class."
      ],
      "metadata": {
        "id": "Kx6lkq3bHgVV"
      }
    },
    {
      "cell_type": "code",
      "source": [
        "class Student:\n",
        "  def __init__(self, name, age, school_name=None):\n",
        "    self.name = name\n",
        "    self.age = age\n",
        "    self._school_name = school_name\n",
        "\n",
        "  @property\n",
        "  def school_name(self):\n",
        "    return self._school_name                            # becasue of the property decoration\n",
        "\n",
        "davood = Student('Davood', 24, 'AUT')\n",
        "print(davood.name, davood.age, davood.school_name)      # Access the school_name attribute without the single underscore (more convenient)\n",
        "print(davood._school_name)"
      ],
      "metadata": {
        "colab": {
          "base_uri": "https://localhost:8080/"
        },
        "id": "mxabIgWOIIRR",
        "outputId": "55188001-c093-419c-9829-f45ad395a696"
      },
      "execution_count": 32,
      "outputs": [
        {
          "output_type": "stream",
          "name": "stdout",
          "text": [
            "Davood 24 AUT\n",
            "AUT\n"
          ]
        }
      ]
    },
    {
      "cell_type": "code",
      "source": [
        "class Student:\n",
        "  def __init__(self, name, age, school_name=None):\n",
        "    self.name = name\n",
        "    self.age = age\n",
        "    self.__school_name = school_name\n",
        "\n",
        "  @property\n",
        "  def school_name(self):\n",
        "    return self.__school_name                            # becasue of the property decoration\n",
        "\n",
        "davood = Student('Davood', 24, 'AUT')\n",
        "print(davood.name, davood.age, davood.school_name) \n",
        "print(davood.__school_name)  "
      ],
      "metadata": {
        "colab": {
          "base_uri": "https://localhost:8080/",
          "height": 217
        },
        "id": "5U_VdS86JvFq",
        "outputId": "86a3e950-fb0f-4c96-e5a4-7e050883e5eb"
      },
      "execution_count": 33,
      "outputs": [
        {
          "output_type": "stream",
          "name": "stdout",
          "text": [
            "Davood 24 AUT\n"
          ]
        },
        {
          "output_type": "error",
          "ename": "AttributeError",
          "evalue": "ignored",
          "traceback": [
            "\u001b[0;31m---------------------------------------------------------------------------\u001b[0m",
            "\u001b[0;31mAttributeError\u001b[0m                            Traceback (most recent call last)",
            "\u001b[0;32m<ipython-input-33-39b3c44a7a6a>\u001b[0m in \u001b[0;36m<module>\u001b[0;34m\u001b[0m\n\u001b[1;32m     11\u001b[0m \u001b[0mdavood\u001b[0m \u001b[0;34m=\u001b[0m \u001b[0mStudent\u001b[0m\u001b[0;34m(\u001b[0m\u001b[0;34m'Davood'\u001b[0m\u001b[0;34m,\u001b[0m \u001b[0;36m24\u001b[0m\u001b[0;34m,\u001b[0m \u001b[0;34m'AUT'\u001b[0m\u001b[0;34m)\u001b[0m\u001b[0;34m\u001b[0m\u001b[0;34m\u001b[0m\u001b[0m\n\u001b[1;32m     12\u001b[0m \u001b[0mprint\u001b[0m\u001b[0;34m(\u001b[0m\u001b[0mdavood\u001b[0m\u001b[0;34m.\u001b[0m\u001b[0mname\u001b[0m\u001b[0;34m,\u001b[0m \u001b[0mdavood\u001b[0m\u001b[0;34m.\u001b[0m\u001b[0mage\u001b[0m\u001b[0;34m,\u001b[0m \u001b[0mdavood\u001b[0m\u001b[0;34m.\u001b[0m\u001b[0mschool_name\u001b[0m\u001b[0;34m)\u001b[0m\u001b[0;34m\u001b[0m\u001b[0;34m\u001b[0m\u001b[0m\n\u001b[0;32m---> 13\u001b[0;31m \u001b[0mprint\u001b[0m\u001b[0;34m(\u001b[0m\u001b[0mdavood\u001b[0m\u001b[0;34m.\u001b[0m\u001b[0m__school_name\u001b[0m\u001b[0;34m)\u001b[0m\u001b[0;34m\u001b[0m\u001b[0;34m\u001b[0m\u001b[0m\n\u001b[0m",
            "\u001b[0;31mAttributeError\u001b[0m: 'Student' object has no attribute '__school_name'"
          ]
        }
      ]
    },
    {
      "cell_type": "code",
      "source": [
        "class Student:\n",
        "  def __init__(self, name, age, school_name=None):\n",
        "    self.name = name\n",
        "    self.age = age\n",
        "    self.__school_name = school_name\n",
        "\n",
        "  @property\n",
        "  def school_name(self):\n",
        "    return self.__school_name                            # becasue of the property decoration\n",
        "\n",
        "  @school_name.setter                                    # Allows for setting the value of the attribute\n",
        "  def school_name(self, value):\n",
        "    self.__school_name = value\n",
        "\n",
        "davood = Student('Davood', 24, 'AUT')\n",
        "print(davood.name, davood.age, davood.school_name) \n",
        "ali = Student('Ali', 23, 'IUT') \n",
        "print(ali.name, ali.age, ali.school_name)  "
      ],
      "metadata": {
        "colab": {
          "base_uri": "https://localhost:8080/"
        },
        "id": "btkv-Ue7Li6B",
        "outputId": "8bd52787-9d05-48ef-a30d-1a62e5a7e420"
      },
      "execution_count": 35,
      "outputs": [
        {
          "output_type": "stream",
          "name": "stdout",
          "text": [
            "Davood 24 AUT\n",
            "Ali 23 IUT\n"
          ]
        }
      ]
    },
    {
      "cell_type": "markdown",
      "source": [
        "## 03. Magic Methods"
      ],
      "metadata": {
        "id": "KKBMmX0AM94a"
      }
    },
    {
      "cell_type": "markdown",
      "source": [
        "## 04. Key Principles of OOP\n",
        "\n",
        "* **Encapsulation**: It describes the idea of wrapping data and the methods that work on data within one unit. This puts restrictions on accessing variables and methods directly and can prevent the accidental modification of data.\n",
        "* **Abstraction**: An abstract clss can be considered as a blueprint for another classes.\n",
        "* **Inheritance**: Discussed above!\n",
        "* **Polymorphism**: Is a term used in Python to refer to an object's ability to take on multiple forms."
      ],
      "metadata": {
        "id": "aEbcJWG6NC1M"
      }
    },
    {
      "cell_type": "markdown",
      "source": [
        "## References:\n",
        "* [Object Oriented Programming with Python](https://www.youtube.com/watch?v=Ej_02ICOIgs).\n",
        "* [geeks for geeks](https://www.geeksforgeeks.org/) Website."
      ],
      "metadata": {
        "id": "DBVNS7VDO0UM"
      }
    }
  ]
}