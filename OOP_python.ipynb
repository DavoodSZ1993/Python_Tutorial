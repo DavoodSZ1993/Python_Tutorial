{
  "nbformat": 4,
  "nbformat_minor": 0,
  "metadata": {
    "colab": {
      "provenance": [],
      "authorship_tag": "ABX9TyNf5BDr8fJ613jz6jZNXmDG",
      "include_colab_link": true
    },
    "kernelspec": {
      "name": "python3",
      "display_name": "Python 3"
    },
    "language_info": {
      "name": "python"
    }
  },
  "cells": [
    {
      "cell_type": "markdown",
      "metadata": {
        "id": "view-in-github",
        "colab_type": "text"
      },
      "source": [
        "<a href=\"https://colab.research.google.com/github/DavoodSZ1993/Python_Tutorial/blob/main/OOP_python.ipynb\" target=\"_parent\"><img src=\"https://colab.research.google.com/assets/colab-badge.svg\" alt=\"Open In Colab\"/></a>"
      ]
    },
    {
      "cell_type": "markdown",
      "source": [
        "## 01. Creating Class and Instantiate Objects"
      ],
      "metadata": {
        "id": "FOkPOY0OyOau"
      }
    },
    {
      "cell_type": "code",
      "execution_count": 1,
      "metadata": {
        "colab": {
          "base_uri": "https://localhost:8080/"
        },
        "id": "_-atoHAYxpJb",
        "outputId": "c5fea17c-0169-4255-b5b3-f7ebc3ce4158"
      },
      "outputs": [
        {
          "output_type": "execute_result",
          "data": {
            "text/plain": [
              "__main__.Item"
            ]
          },
          "metadata": {},
          "execution_count": 1
        }
      ],
      "source": [
        "class Item:\n",
        "  pass\n",
        "\n",
        "item1 = Item()\n",
        "\n",
        "type(item1)"
      ]
    },
    {
      "cell_type": "markdown",
      "source": [
        "* `__init__()`: This method is run as soon as an object of the class is instantiated. This method is useful to do any initialization you want to do with your object."
      ],
      "metadata": {
        "id": "pzsRG_Jv0RSO"
      }
    },
    {
      "cell_type": "code",
      "source": [
        "class Animal:\n",
        "  def __init__(self, name, num_legs, mammal):   # Instructor\n",
        "    self.name = name\n",
        "    self.num_legs = num_legs\n",
        "    self.mammal = mammal\n",
        "\n",
        "  def is_mammal(self):                         # Method\n",
        "    if self.mammal:\n",
        "      print(f'{self.name} is a mammal.')\n",
        "    else:\n",
        "      print(f'{self.name} is not a mammal.')\n",
        "\n",
        "dog = Animal('Dog', 4, True)\n",
        "dog.is_mammal()\n",
        "\n",
        "  "
      ],
      "metadata": {
        "colab": {
          "base_uri": "https://localhost:8080/"
        },
        "id": "gAYIWwyjysdn",
        "outputId": "cc9a1164-ca5a-4d66-c5b5-85fea2950981"
      },
      "execution_count": 2,
      "outputs": [
        {
          "output_type": "stream",
          "name": "stdout",
          "text": [
            "Dog is a mammal.\n"
          ]
        }
      ]
    },
    {
      "cell_type": "markdown",
      "source": [
        "### Deafult Arguments\n",
        "\n",
        "* Default values indicate that the argument will take that value if no argument value is passed during the method call.\n",
        "* The default value is assigned by using assignment operator *=* of the form *keywordname=value*"
      ],
      "metadata": {
        "id": "3Dgn0-z32qeN"
      }
    },
    {
      "cell_type": "code",
      "source": [
        "class Animal:\n",
        "  def __init__(self, name=None, num_legs=4, mammal=True):   # Instructor\n",
        "    self.name = name\n",
        "    self.num_legs = num_legs\n",
        "    self.mammal = mammal\n",
        "\n",
        "  def is_mammal(self):                         # Method\n",
        "    if self.mammal:\n",
        "      print(f'{self.name} is a mammal.')\n",
        "    else:\n",
        "      print(f'{self.name} is not a mammal.')\n",
        "\n",
        "dog = Animal('Dog')\n",
        "dog.is_mammal()\n",
        "\n",
        "dog.num_legs"
      ],
      "metadata": {
        "colab": {
          "base_uri": "https://localhost:8080/"
        },
        "id": "_qH-QFbz2Lad",
        "outputId": "dea14b16-3282-426e-8037-18300d532ba7"
      },
      "execution_count": 3,
      "outputs": [
        {
          "output_type": "stream",
          "name": "stdout",
          "text": [
            "Dog is a mammal.\n"
          ]
        },
        {
          "output_type": "execute_result",
          "data": {
            "text/plain": [
              "4"
            ]
          },
          "metadata": {},
          "execution_count": 3
        }
      ]
    },
    {
      "cell_type": "markdown",
      "source": [
        "### Default Argument Format "
      ],
      "metadata": {
        "id": "GrQkIpur43xc"
      }
    },
    {
      "cell_type": "code",
      "source": [
        "class Animal:\n",
        "  def __init__(self, name: str, num_legs: int, mammal: bool):   # Instructor\n",
        "    self.name = name\n",
        "    self.num_legs = num_legs\n",
        "    self.mammal = mammal\n",
        "\n",
        "  def is_mammal(self):                         # Method\n",
        "    if self.mammal:\n",
        "      print(f'{self.name} is a mammal.')\n",
        "    else:\n",
        "      print(f'{self.name} is not a mammal.')\n",
        "\n",
        "dog = Animal(name='Dog', num_legs=4, mammal=True)\n",
        "dog.is_mammal()\n",
        "\n",
        "dog.num_legs"
      ],
      "metadata": {
        "colab": {
          "base_uri": "https://localhost:8080/"
        },
        "id": "7Ev5H-l34__c",
        "outputId": "d6d00b35-3def-40e5-a337-61037c3b6bdd"
      },
      "execution_count": 4,
      "outputs": [
        {
          "output_type": "stream",
          "name": "stdout",
          "text": [
            "Dog is a mammal.\n"
          ]
        },
        {
          "output_type": "execute_result",
          "data": {
            "text/plain": [
              "4"
            ]
          },
          "metadata": {},
          "execution_count": 4
        }
      ]
    },
    {
      "cell_type": "markdown",
      "source": [
        "### Argument Validation\n",
        "\n",
        "`assert` in Python has two main uses:\n",
        "\n",
        "1. Helps detect errors early on.\n",
        "2. Can be used as documentation for other developers."
      ],
      "metadata": {
        "id": "28AvrpDM5n5F"
      }
    },
    {
      "cell_type": "code",
      "source": [
        "class Animal:\n",
        "  def __init__(self, name: str, num_legs: int, mammal: bool):   # Instructor\n",
        "    assert num_legs >0, f'{num_legs} is not greater than zero!'\n",
        "    \n",
        "    self.name = name\n",
        "    self.num_legs = num_legs\n",
        "    self.mammal = mammal\n",
        "\n",
        "  def is_mammal(self):                         # Method\n",
        "    if self.mammal:\n",
        "      print(f'{self.name} is a mammal.')\n",
        "    else:\n",
        "      print(f'{self.name} is not a mammal.')\n",
        "\n",
        "dog = Animal(name='Dog', num_legs=4, mammal=True)\n",
        "dog.is_mammal()\n",
        "\n",
        "dog.num_legs"
      ],
      "metadata": {
        "colab": {
          "base_uri": "https://localhost:8080/"
        },
        "id": "blMKAq1O5zWb",
        "outputId": "a97c74f7-5ba6-4cbe-e308-499444e0adae"
      },
      "execution_count": 5,
      "outputs": [
        {
          "output_type": "stream",
          "name": "stdout",
          "text": [
            "Dog is a mammal.\n"
          ]
        },
        {
          "output_type": "execute_result",
          "data": {
            "text/plain": [
              "4"
            ]
          },
          "metadata": {},
          "execution_count": 5
        }
      ]
    },
    {
      "cell_type": "markdown",
      "source": [
        "### Class Attribute\n",
        "\n",
        "* **Class Attributes**: Are class variables that are inherited by every object of the class.\n",
        "* **Instance Attributes**: Are defined in the `__init__()` function and allow us to define different values for each object of the class\n",
        "\n",
        "* `__dict__`: This attribute conatains all the attributes which describe a given class."
      ],
      "metadata": {
        "id": "uwBJbwE68t65"
      }
    },
    {
      "cell_type": "code",
      "source": [
        "class Animal:\n",
        "  message = 'This is the animal class'\n",
        "  def __init__(self, name: str, num_legs: int, mammal: bool):   # Instructor\n",
        "    assert num_legs >0, f'{num_legs} is not greater than zero!'\n",
        "    \n",
        "    self.name = name\n",
        "    self.num_legs = num_legs\n",
        "    self.mammal = mammal\n",
        "\n",
        "  def is_mammal(self):                         # Method\n",
        "    if self.mammal:\n",
        "      print(f'{self.name} is a mammal.')\n",
        "    else:\n",
        "      print(f'{self.name} is not a mammal.')\n",
        "\n",
        "dog = Animal(name='Dog', num_legs=4, mammal=True)\n",
        "chicken = Animal(name='Chicken', num_legs=2, mammal=False)\n",
        "\n",
        "print(Animal.message)\n",
        "print(dog.message)\n",
        "print(chicken.message)\n",
        "\n",
        "print('#######################################')\n",
        "\n",
        "print(Animal.__dict__)                        # All the attributes for class level.\n",
        "print(dog.__dict__)                           # All the attributes for instance level.\n",
        "print(chicken.__dict__)                       # All the attributes for instance level."
      ],
      "metadata": {
        "colab": {
          "base_uri": "https://localhost:8080/"
        },
        "id": "cLmR2fpr94J8",
        "outputId": "30c71d0e-6610-4b6f-a1cb-6d530516bc46"
      },
      "execution_count": 6,
      "outputs": [
        {
          "output_type": "stream",
          "name": "stdout",
          "text": [
            "This is the animal class\n",
            "This is the animal class\n",
            "This is the animal class\n",
            "#######################################\n",
            "{'__module__': '__main__', 'message': 'This is the animal class', '__init__': <function Animal.__init__ at 0x7f0d53dab670>, 'is_mammal': <function Animal.is_mammal at 0x7f0d53dab1f0>, '__dict__': <attribute '__dict__' of 'Animal' objects>, '__weakref__': <attribute '__weakref__' of 'Animal' objects>, '__doc__': None}\n",
            "{'name': 'Dog', 'num_legs': 4, 'mammal': True}\n",
            "{'name': 'Chicken', 'num_legs': 2, 'mammal': False}\n"
          ]
        }
      ]
    },
    {
      "cell_type": "code",
      "source": [
        "class Animal:\n",
        "  message = 'Animal'\n",
        "  def __init__(self, name: str, num_legs: int, mammal: bool):   # Instructor\n",
        "    assert num_legs >0, f'{num_legs} is not greater than zero!'\n",
        "    \n",
        "    self.name = name\n",
        "    self.num_legs = num_legs\n",
        "    self.mammal = mammal\n",
        "\n",
        "  def is_mammal(self):                         # Method\n",
        "    if self.mammal:\n",
        "      print(f'{self.name} is a mammal.')\n",
        "    else:\n",
        "      print(f'{self.name} is not a mammal.')\n",
        "\n",
        "  def print_legs(self):\n",
        "    print(f'{self.name} is an {Animal.message} with {self.num_legs} legs')      # Can be accessed from the class level\n",
        "\n",
        "dog = Animal(name='Dog', num_legs=4, mammal=True)\n",
        "chicken = Animal(name='Chicken', num_legs=2, mammal=False)\n",
        "\n",
        "dog.print_legs()\n",
        "chicken.print_legs()\n"
      ],
      "metadata": {
        "colab": {
          "base_uri": "https://localhost:8080/"
        },
        "id": "kCGrOv1DAkpl",
        "outputId": "51d06205-405b-4cd9-cb03-0eda63331e61"
      },
      "execution_count": 7,
      "outputs": [
        {
          "output_type": "stream",
          "name": "stdout",
          "text": [
            "Dog is an Animal with 4 legs\n",
            "Chicken is an Animal with 2 legs\n"
          ]
        }
      ]
    },
    {
      "cell_type": "markdown",
      "source": [
        "* Upon calling a method or property, the program firstly tries to find the method or attribute in the instance level, then moves to the class level. "
      ],
      "metadata": {
        "id": "Md60SlsO7Iyi"
      }
    },
    {
      "cell_type": "code",
      "source": [
        "class Animal:\n",
        "  message = 'Animal'\n",
        "  def __init__(self, name: str, num_legs: int, mammal: bool):   # Instructor\n",
        "    assert num_legs >0, f'{num_legs} is not greater than zero!'\n",
        "    \n",
        "    self.name = name\n",
        "    self.num_legs = num_legs\n",
        "    self.mammal = mammal\n",
        "\n",
        "  def is_mammal(self):                         # Method\n",
        "    if self.mammal:\n",
        "      print(f'{self.name} is a mammal.')\n",
        "    else:\n",
        "      print(f'{self.name} is not a mammal.')\n",
        "\n",
        "  def print_legs(self):\n",
        "    print(f'{self.name} is an {self.message} with {self.num_legs} legs')      # Can be accessed from the instance level\n",
        "\n",
        "dog = Animal(name='Dog', num_legs=4, mammal=True)\n",
        "chicken = Animal(name='Chicken', num_legs=2, mammal=False)\n",
        "\n",
        "chicken.print_legs()                                                            # No value in instance level, then moved to class level.\n",
        "dog.message = 'cool Animal'                                                     # The value is given in instance level\n",
        "dog.print_legs()\n"
      ],
      "metadata": {
        "colab": {
          "base_uri": "https://localhost:8080/"
        },
        "id": "NHg8Pw3e7czM",
        "outputId": "d2024c32-dcc0-4bcd-9c4a-6b9c0a05ef14"
      },
      "execution_count": 17,
      "outputs": [
        {
          "output_type": "stream",
          "name": "stdout",
          "text": [
            "Chicken is an Animal with 2 legs\n",
            "Dog is an cool Animal with 4 legs\n"
          ]
        }
      ]
    },
    {
      "cell_type": "markdown",
      "source": [
        "### Saving all Instances in a Class Attribute"
      ],
      "metadata": {
        "id": "3FWcg4lpG91W"
      }
    },
    {
      "cell_type": "code",
      "source": [
        "class Animal:\n",
        "  message = 'Animal'\n",
        "  all = []\n",
        "  def __init__(self, name: str, num_legs: int, mammal: bool):   # Instructor\n",
        "    assert num_legs >0, f'{num_legs} is not greater than zero!'\n",
        "    \n",
        "    self.name = name\n",
        "    self.num_legs = num_legs\n",
        "    self.mammal = mammal\n",
        "\n",
        "    # Actions to execute\n",
        "    Animal.all.append(self)\n",
        "\n",
        "  def is_mammal(self):                         # Method\n",
        "    if self.mammal:\n",
        "      print(f'{self.name} is a mammal.')\n",
        "    else:\n",
        "      print(f'{self.name} is not a mammal.')\n",
        "\n",
        "  def print_legs(self):\n",
        "    print(f'{self.name} is an {self.message} with {self.num_legs} legs')        # Can be accessed from the instance level\n",
        "\n",
        "dog = Animal(name='Dog', num_legs=4, mammal=True)\n",
        "chicken = Animal(name='Chicken', num_legs=2, mammal=False)\n",
        "horse = Animal(name='Horse', num_legs=4, mammal=True)\n",
        "tyrkey = Animal(name='Turkey', num_legs=2, mammal=False)\n",
        "\n",
        "print(Animal.all)                                                               # Shows that fours instances are created.\n",
        "\n",
        "for instance in Animal.all:\n",
        "  print(instance.name)"
      ],
      "metadata": {
        "colab": {
          "base_uri": "https://localhost:8080/"
        },
        "id": "gvuv-KQL9Q5T",
        "outputId": "98eb78b0-170b-4a1b-9efa-f63e41f26565"
      },
      "execution_count": 22,
      "outputs": [
        {
          "output_type": "stream",
          "name": "stdout",
          "text": [
            "[<__main__.Animal object at 0x7f0d529b5910>, <__main__.Animal object at 0x7f0d529b5970>, <__main__.Animal object at 0x7f0d529b5940>, <__main__.Animal object at 0x7f0d529b5a00>]\n",
            "Dog\n",
            "Chicken\n",
            "Horse\n",
            "Turkey\n"
          ]
        }
      ]
    },
    {
      "cell_type": "markdown",
      "source": [
        "* Python `__repr__()` function returns the object representation in string format. "
      ],
      "metadata": {
        "id": "N3irlgjO_CR9"
      }
    },
    {
      "cell_type": "code",
      "source": [
        "class Animal:\n",
        "  message = 'Animal'\n",
        "  all = []\n",
        "  def __init__(self, name: str, num_legs: int, mammal: bool):   # Instructor\n",
        "    assert num_legs >0, f'{num_legs} is not greater than zero!'\n",
        "    \n",
        "    self.name = name\n",
        "    self.num_legs = num_legs\n",
        "    self.mammal = mammal\n",
        "\n",
        "    # Actions to execute\n",
        "    Animal.all.append(self)\n",
        "\n",
        "  def is_mammal(self):                         # Method\n",
        "    if self.mammal:\n",
        "      print(f'{self.name} is a mammal.')\n",
        "    else:\n",
        "      print(f'{self.name} is not a mammal.')\n",
        "\n",
        "  def print_legs(self):\n",
        "    print(f'{self.name} is an {self.message} with {self.num_legs} legs')        # Can be accessed from the instance level\n",
        "\n",
        "  def __repr__(self):\n",
        "    return f\"Animal('{self.name}', {self.num_legs}, {self.mammal})\"\n",
        "\n",
        "dog = Animal(name='Dog', num_legs=4, mammal=True)\n",
        "chicken = Animal(name='Chicken', num_legs=2, mammal=False)\n",
        "horse = Animal(name='Horse', num_legs=4, mammal=True)\n",
        "tyrkey = Animal(name='Turkey', num_legs=2, mammal=False)\n",
        "\n",
        "print(Animal.all)                                                               # representing the object by __repr__ method\n",
        "print(dog)                                                                      # representing the object by __repr__ method"
      ],
      "metadata": {
        "colab": {
          "base_uri": "https://localhost:8080/"
        },
        "id": "12q4Crvx_zzx",
        "outputId": "b4ab53eb-c42d-45e4-c338-70e42efec6ec"
      },
      "execution_count": 25,
      "outputs": [
        {
          "output_type": "stream",
          "name": "stdout",
          "text": [
            "[Animal('Dog', 4, True), Animal('Chicken', 2, False), Animal('Horse', 4, True), Animal('Turkey', 2, False)]\n",
            "Animal('Dog', 4, True)\n"
          ]
        }
      ]
    },
    {
      "cell_type": "markdown",
      "source": [
        "### Class Methods\n",
        "\n",
        "* **Instance Method**: Used to access or modify the object state. t must have a `self` parameter to refer to the current object. If we use *instance variables* inside a method, such methods are called instance methods.\n",
        "* **Class Method**: Used to access or modify the class state. The class method has a `cls` parameter which refers to the class. If we use only *class variables*, then such type of methods we should declare as a class method.\n",
        "* **Static Method**: It is a general utility method that performs a task *in isolation*. Inside this method, we don’t use instance or class variable because this static method doesn’t take any parameters like `self` and `cls`.\n",
        "* Class methods can be created uing the `@classmethod` decorator."
      ],
      "metadata": {
        "id": "k5BGFz0_G_qn"
      }
    },
    {
      "cell_type": "code",
      "source": [
        "import pandas as pd\n",
        "\n",
        "df = pd.DataFrame({\n",
        "    'name': ['phone', 'laptop', 'cable', 'mouse', 'keyboard'],\n",
        "    'price': [100, 1000, 10, 50, 75],\n",
        "    'quantity': [1, 3, 5, 5, 6]}, index=range(0,5))\n",
        "\n",
        "df"
      ],
      "metadata": {
        "id": "ByNOlWvWK7kQ",
        "outputId": "5d755891-95be-4e73-c897-c6d4fc3ea6c0",
        "colab": {
          "base_uri": "https://localhost:8080/",
          "height": 206
        }
      },
      "execution_count": 28,
      "outputs": [
        {
          "output_type": "execute_result",
          "data": {
            "text/plain": [
              "       name  price  quantity\n",
              "0     phone    100         1\n",
              "1    laptop   1000         3\n",
              "2     cable     10         5\n",
              "3     mouse     50         5\n",
              "4  keyboard     75         6"
            ],
            "text/html": [
              "\n",
              "  <div id=\"df-b0f819ff-9330-452f-831a-6e7f58882b5c\">\n",
              "    <div class=\"colab-df-container\">\n",
              "      <div>\n",
              "<style scoped>\n",
              "    .dataframe tbody tr th:only-of-type {\n",
              "        vertical-align: middle;\n",
              "    }\n",
              "\n",
              "    .dataframe tbody tr th {\n",
              "        vertical-align: top;\n",
              "    }\n",
              "\n",
              "    .dataframe thead th {\n",
              "        text-align: right;\n",
              "    }\n",
              "</style>\n",
              "<table border=\"1\" class=\"dataframe\">\n",
              "  <thead>\n",
              "    <tr style=\"text-align: right;\">\n",
              "      <th></th>\n",
              "      <th>name</th>\n",
              "      <th>price</th>\n",
              "      <th>quantity</th>\n",
              "    </tr>\n",
              "  </thead>\n",
              "  <tbody>\n",
              "    <tr>\n",
              "      <th>0</th>\n",
              "      <td>phone</td>\n",
              "      <td>100</td>\n",
              "      <td>1</td>\n",
              "    </tr>\n",
              "    <tr>\n",
              "      <th>1</th>\n",
              "      <td>laptop</td>\n",
              "      <td>1000</td>\n",
              "      <td>3</td>\n",
              "    </tr>\n",
              "    <tr>\n",
              "      <th>2</th>\n",
              "      <td>cable</td>\n",
              "      <td>10</td>\n",
              "      <td>5</td>\n",
              "    </tr>\n",
              "    <tr>\n",
              "      <th>3</th>\n",
              "      <td>mouse</td>\n",
              "      <td>50</td>\n",
              "      <td>5</td>\n",
              "    </tr>\n",
              "    <tr>\n",
              "      <th>4</th>\n",
              "      <td>keyboard</td>\n",
              "      <td>75</td>\n",
              "      <td>6</td>\n",
              "    </tr>\n",
              "  </tbody>\n",
              "</table>\n",
              "</div>\n",
              "      <button class=\"colab-df-convert\" onclick=\"convertToInteractive('df-b0f819ff-9330-452f-831a-6e7f58882b5c')\"\n",
              "              title=\"Convert this dataframe to an interactive table.\"\n",
              "              style=\"display:none;\">\n",
              "        \n",
              "  <svg xmlns=\"http://www.w3.org/2000/svg\" height=\"24px\"viewBox=\"0 0 24 24\"\n",
              "       width=\"24px\">\n",
              "    <path d=\"M0 0h24v24H0V0z\" fill=\"none\"/>\n",
              "    <path d=\"M18.56 5.44l.94 2.06.94-2.06 2.06-.94-2.06-.94-.94-2.06-.94 2.06-2.06.94zm-11 1L8.5 8.5l.94-2.06 2.06-.94-2.06-.94L8.5 2.5l-.94 2.06-2.06.94zm10 10l.94 2.06.94-2.06 2.06-.94-2.06-.94-.94-2.06-.94 2.06-2.06.94z\"/><path d=\"M17.41 7.96l-1.37-1.37c-.4-.4-.92-.59-1.43-.59-.52 0-1.04.2-1.43.59L10.3 9.45l-7.72 7.72c-.78.78-.78 2.05 0 2.83L4 21.41c.39.39.9.59 1.41.59.51 0 1.02-.2 1.41-.59l7.78-7.78 2.81-2.81c.8-.78.8-2.07 0-2.86zM5.41 20L4 18.59l7.72-7.72 1.47 1.35L5.41 20z\"/>\n",
              "  </svg>\n",
              "      </button>\n",
              "      \n",
              "  <style>\n",
              "    .colab-df-container {\n",
              "      display:flex;\n",
              "      flex-wrap:wrap;\n",
              "      gap: 12px;\n",
              "    }\n",
              "\n",
              "    .colab-df-convert {\n",
              "      background-color: #E8F0FE;\n",
              "      border: none;\n",
              "      border-radius: 50%;\n",
              "      cursor: pointer;\n",
              "      display: none;\n",
              "      fill: #1967D2;\n",
              "      height: 32px;\n",
              "      padding: 0 0 0 0;\n",
              "      width: 32px;\n",
              "    }\n",
              "\n",
              "    .colab-df-convert:hover {\n",
              "      background-color: #E2EBFA;\n",
              "      box-shadow: 0px 1px 2px rgba(60, 64, 67, 0.3), 0px 1px 3px 1px rgba(60, 64, 67, 0.15);\n",
              "      fill: #174EA6;\n",
              "    }\n",
              "\n",
              "    [theme=dark] .colab-df-convert {\n",
              "      background-color: #3B4455;\n",
              "      fill: #D2E3FC;\n",
              "    }\n",
              "\n",
              "    [theme=dark] .colab-df-convert:hover {\n",
              "      background-color: #434B5C;\n",
              "      box-shadow: 0px 1px 3px 1px rgba(0, 0, 0, 0.15);\n",
              "      filter: drop-shadow(0px 1px 2px rgba(0, 0, 0, 0.3));\n",
              "      fill: #FFFFFF;\n",
              "    }\n",
              "  </style>\n",
              "\n",
              "      <script>\n",
              "        const buttonEl =\n",
              "          document.querySelector('#df-b0f819ff-9330-452f-831a-6e7f58882b5c button.colab-df-convert');\n",
              "        buttonEl.style.display =\n",
              "          google.colab.kernel.accessAllowed ? 'block' : 'none';\n",
              "\n",
              "        async function convertToInteractive(key) {\n",
              "          const element = document.querySelector('#df-b0f819ff-9330-452f-831a-6e7f58882b5c');\n",
              "          const dataTable =\n",
              "            await google.colab.kernel.invokeFunction('convertToInteractive',\n",
              "                                                     [key], {});\n",
              "          if (!dataTable) return;\n",
              "\n",
              "          const docLinkHtml = 'Like what you see? Visit the ' +\n",
              "            '<a target=\"_blank\" href=https://colab.research.google.com/notebooks/data_table.ipynb>data table notebook</a>'\n",
              "            + ' to learn more about interactive tables.';\n",
              "          element.innerHTML = '';\n",
              "          dataTable['output_type'] = 'display_data';\n",
              "          await google.colab.output.renderOutput(dataTable, element);\n",
              "          const docLink = document.createElement('div');\n",
              "          docLink.innerHTML = docLinkHtml;\n",
              "          element.appendChild(docLink);\n",
              "        }\n",
              "      </script>\n",
              "    </div>\n",
              "  </div>\n",
              "  "
            ]
          },
          "metadata": {},
          "execution_count": 28
        }
      ]
    },
    {
      "cell_type": "code",
      "source": [
        "class Item:\n",
        "  pay_rate = 0.8\n",
        "  all = []\n",
        "  def __init__(self, name: str, price: float, quantity=0):\n",
        "    # Run validation on the received arguments.\n",
        "    assert price >=0, f\"Price{price} is not greater than or equal to zero!\"\n",
        "    assert quantity >=0, f\"Quantity{quantity} is not greater than or equal to zero!\"\n",
        "\n",
        "    # Assign values\n",
        "    self.name = name\n",
        "    self.price = price\n",
        "    self.quantity = quantity\n",
        "\n",
        "    # Actions to execute\n",
        "    Item.all.append(self)"
      ],
      "metadata": {
        "id": "EW-AjdURNNk-"
      },
      "execution_count": 30,
      "outputs": []
    },
    {
      "cell_type": "markdown",
      "source": [
        "## 02. Inheritance\n",
        "\n",
        "It is a mechanism that allows you to create a hierarchy of classes that share a set of properties and methods by deriving a class from another class.\n",
        "\n",
        "* `super().__init__()`: Allows us to avoid referring to the base class explicitly. Also, the main advantage comes from multiple inheritance. "
      ],
      "metadata": {
        "id": "sTCiV5XF2EKz"
      }
    },
    {
      "cell_type": "code",
      "source": [
        "class Animal:\n",
        "  message = 'Animal'\n",
        "  def __init__(self, name: str, num_legs: int, mammal: bool):   # Instructor\n",
        "    assert num_legs >0, f'{num_legs} is not greater than zero!'\n",
        "    \n",
        "    self.name = name\n",
        "    self.num_legs = num_legs\n",
        "    self.mammal = mammal\n",
        "\n",
        "  def is_mammal(self):                         # Method\n",
        "    if self.mammal:\n",
        "      print(f'{self.name} is a mammal.')\n",
        "    else:\n",
        "      print(f'{self.name} is not a mammal.')\n",
        "\n",
        "  def print_legs(self):\n",
        "    print(f'{self.name} is an {Animal.message} with {self.num_legs} legs')      # Can be accessed from the class level\n",
        "\n",
        "class Dog(Animal):                                                              # Inherits from the upper class Animal\n",
        "  def __init__(self, num_legs: int, mammal: bool, size: str):\n",
        "    super().__init__('Dog', num_legs, mammal)\n",
        "    self.size = size\n",
        "\n",
        "dog1 = Dog(num_legs=4, mammal=True, size='small')\n",
        "\n",
        "print(dog1.name)\n",
        "dog1.is_mammal()\n",
        "dog1.print_legs()"
      ],
      "metadata": {
        "colab": {
          "base_uri": "https://localhost:8080/"
        },
        "id": "i7OgMgZl2eTD",
        "outputId": "5863d8eb-6c86-44d8-9d89-8b63ef99433d"
      },
      "execution_count": 14,
      "outputs": [
        {
          "output_type": "stream",
          "name": "stdout",
          "text": [
            "Dog\n",
            "Dog is a mammal.\n",
            "Dog is an Animal with 4 legs\n"
          ]
        }
      ]
    }
  ]
}