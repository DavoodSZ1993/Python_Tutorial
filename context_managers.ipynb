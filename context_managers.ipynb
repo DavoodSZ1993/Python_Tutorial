{
  "nbformat": 4,
  "nbformat_minor": 0,
  "metadata": {
    "colab": {
      "provenance": [],
      "authorship_tag": "ABX9TyPGxZri4J7+6m/TS9BfFCtR",
      "include_colab_link": true
    },
    "kernelspec": {
      "name": "python3",
      "display_name": "Python 3"
    },
    "language_info": {
      "name": "python"
    }
  },
  "cells": [
    {
      "cell_type": "markdown",
      "metadata": {
        "id": "view-in-github",
        "colab_type": "text"
      },
      "source": [
        "<a href=\"https://colab.research.google.com/github/DavoodSZ1993/Python_Tutorial/blob/main/context_managers.ipynb\" target=\"_parent\"><img src=\"https://colab.research.google.com/assets/colab-badge.svg\" alt=\"Open In Colab\"/></a>"
      ]
    },
    {
      "cell_type": "markdown",
      "source": [
        "Context managers are a great tool for resource management. A well-known example is the `with open()` statement."
      ],
      "metadata": {
        "id": "cltIj3s07V9E"
      }
    },
    {
      "cell_type": "code",
      "execution_count": 1,
      "metadata": {
        "id": "gkao7Blv7GbM"
      },
      "outputs": [],
      "source": [
        "with open('notes.txt', 'w') as f:\n",
        "  f.write('some todo ...')"
      ]
    },
    {
      "cell_type": "markdown",
      "source": [
        "The above code snippet will open a file and makes sure to automatically close it after program execution leaves the context of the with statement. It also handles exceptions and makes sure to properly close the file even in case of an exception. \n",
        "\n",
        "Internally, the above code translates to something like this:"
      ],
      "metadata": {
        "id": "h4rT7o2_8m4J"
      }
    },
    {
      "cell_type": "code",
      "source": [
        "f = open('notes.txt', 'w')\n",
        "try:\n",
        "  f.write('some todo ...')\n",
        "finally:\n",
        "  f.close()"
      ],
      "metadata": {
        "id": "YApnAK-X75_C"
      },
      "execution_count": 2,
      "outputs": []
    },
    {
      "cell_type": "markdown",
      "source": [
        "Context manager applications:\n",
        "* open and close files.\n",
        "* open and close database connections.\n",
        "* Acquire and release locks"
      ],
      "metadata": {
        "id": "rzSpjEJK8Z-7"
      }
    },
    {
      "cell_type": "markdown",
      "source": [
        "## Implementing a Context Manager as a Class\n",
        "To support the `with` statement for our own classes, we have to implement the `__enter__` and `__exit__` methods. \n",
        "\n",
        "Python calls `__enter__` when execution enters the context of the `with` statement. In here, the resource should be acquired and returned.\n",
        "\n",
        "When execution leaves the context again, `__exit__` is called and the resource is freed up."
      ],
      "metadata": {
        "id": "AH_0OBKr_aic"
      }
    },
    {
      "cell_type": "code",
      "source": [
        "class ManagedFile:\n",
        "  def __init__(self, filename):\n",
        "    print('init', filename)\n",
        "    self.filename = filename\n",
        "\n",
        "  def __enter__(self):\n",
        "    print('enter')\n",
        "    self.file = open(self.filename, 'w')\n",
        "    return self.file\n",
        "\n",
        "  def __exit__(self, exc_type, exc_Value, exc_traceback):\n",
        "    if self.file:\n",
        "      self.file.close()\n",
        "    print('exit')"
      ],
      "metadata": {
        "id": "znvC8cHvCKmu"
      },
      "execution_count": 5,
      "outputs": []
    },
    {
      "cell_type": "code",
      "source": [
        "with ManagedFile('notes.txt') as f:\n",
        "  print('doing stuff')\n",
        "  f.write('some todo')"
      ],
      "metadata": {
        "id": "IZFXcCBIDn72",
        "outputId": "07ffd5ef-1550-4c62-d70a-1fa3b3840466",
        "colab": {
          "base_uri": "https://localhost:8080/"
        }
      },
      "execution_count": 6,
      "outputs": [
        {
          "output_type": "stream",
          "name": "stdout",
          "text": [
            "init notes.txt\n",
            "enter\n",
            "doing stuff\n",
            "exit\n"
          ]
        }
      ]
    }
  ]
}