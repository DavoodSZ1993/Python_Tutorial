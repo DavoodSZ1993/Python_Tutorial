{
  "nbformat": 4,
  "nbformat_minor": 0,
  "metadata": {
    "colab": {
      "provenance": [],
      "authorship_tag": "ABX9TyOx4zIwUglEWWSbV9/LF9vP",
      "include_colab_link": true
    },
    "kernelspec": {
      "name": "python3",
      "display_name": "Python 3"
    },
    "language_info": {
      "name": "python"
    }
  },
  "cells": [
    {
      "cell_type": "markdown",
      "metadata": {
        "id": "view-in-github",
        "colab_type": "text"
      },
      "source": [
        "<a href=\"https://colab.research.google.com/github/DavoodSZ1993/Python_Tutorial/blob/main/context_managers.ipynb\" target=\"_parent\"><img src=\"https://colab.research.google.com/assets/colab-badge.svg\" alt=\"Open In Colab\"/></a>"
      ]
    },
    {
      "cell_type": "markdown",
      "source": [
        "Context managers are a great tool for resource management. A well-known example is the `with open()` statement."
      ],
      "metadata": {
        "id": "cltIj3s07V9E"
      }
    },
    {
      "cell_type": "code",
      "execution_count": 1,
      "metadata": {
        "id": "gkao7Blv7GbM"
      },
      "outputs": [],
      "source": [
        "with open('notes.txt', 'w') as f:\n",
        "  f.write('some todo ...')"
      ]
    },
    {
      "cell_type": "markdown",
      "source": [
        "The above code snippet will open a file and makes sure to automatically close it after program execution leaves the context of the with statement."
      ],
      "metadata": {
        "id": "h4rT7o2_8m4J"
      }
    }
  ]
}