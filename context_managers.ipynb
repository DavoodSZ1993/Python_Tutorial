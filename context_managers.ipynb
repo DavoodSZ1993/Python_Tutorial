{
  "nbformat": 4,
  "nbformat_minor": 0,
  "metadata": {
    "colab": {
      "provenance": [],
      "authorship_tag": "ABX9TyPuk6kfPtlVq49EY+9Qgxpy",
      "include_colab_link": true
    },
    "kernelspec": {
      "name": "python3",
      "display_name": "Python 3"
    },
    "language_info": {
      "name": "python"
    }
  },
  "cells": [
    {
      "cell_type": "markdown",
      "metadata": {
        "id": "view-in-github",
        "colab_type": "text"
      },
      "source": [
        "<a href=\"https://colab.research.google.com/github/DavoodSZ1993/Python_Tutorial/blob/main/context_managers.ipynb\" target=\"_parent\"><img src=\"https://colab.research.google.com/assets/colab-badge.svg\" alt=\"Open In Colab\"/></a>"
      ]
    },
    {
      "cell_type": "markdown",
      "source": [
        "Context managers are a great tool for resource management. A well-known example is the `with open()` statement."
      ],
      "metadata": {
        "id": "cltIj3s07V9E"
      }
    },
    {
      "cell_type": "code",
      "execution_count": 1,
      "metadata": {
        "id": "gkao7Blv7GbM"
      },
      "outputs": [],
      "source": [
        "with open('notes.txt', 'w') as f:\n",
        "  f.write('some todo ...')"
      ]
    },
    {
      "cell_type": "markdown",
      "source": [
        "The above code snippet will open a file and makes sure to automatically close it after program execution leaves the context of the with statement. It also handles exceptions and makes sure to properly close the file even in case of an exception. \n",
        "\n",
        "Internally, the above code translates to something like this:"
      ],
      "metadata": {
        "id": "h4rT7o2_8m4J"
      }
    },
    {
      "cell_type": "code",
      "source": [
        "f = open('notes.txt', 'w')\n",
        "try:\n",
        "  f.write('some todo ...')\n",
        "finally:\n",
        "  f.close()"
      ],
      "metadata": {
        "id": "YApnAK-X75_C"
      },
      "execution_count": 2,
      "outputs": []
    },
    {
      "cell_type": "markdown",
      "source": [
        "Context manager applications:\n",
        "* open and close files.\n",
        "* open and close database connections.\n",
        "* Acquire and release locks"
      ],
      "metadata": {
        "id": "rzSpjEJK8Z-7"
      }
    }
  ]
}