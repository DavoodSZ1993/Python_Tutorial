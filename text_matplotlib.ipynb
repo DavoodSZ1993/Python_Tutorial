{
  "nbformat": 4,
  "nbformat_minor": 0,
  "metadata": {
    "colab": {
      "provenance": [],
      "authorship_tag": "ABX9TyODyT5ziby9HzBpifBzU48S",
      "include_colab_link": true
    },
    "kernelspec": {
      "name": "python3",
      "display_name": "Python 3"
    },
    "language_info": {
      "name": "python"
    }
  },
  "cells": [
    {
      "cell_type": "markdown",
      "metadata": {
        "id": "view-in-github",
        "colab_type": "text"
      },
      "source": [
        "<a href=\"https://colab.research.google.com/github/DavoodSZ1993/Python_Tutorial/blob/main/text_matplotlib.ipynb\" target=\"_parent\"><img src=\"https://colab.research.google.com/assets/colab-badge.svg\" alt=\"Open In Colab\"/></a>"
      ]
    },
    {
      "cell_type": "markdown",
      "source": [
        "* `matplotlib.pyplot.text(x, y, s, va, ha, fontsize, color, bbox)`: Add the text S to the Axes at location x, y in data coordinates.\n",
        "* `x, y (float)`: The position to place the text.\n",
        "* `s (str)`: The text\n",
        "* `verticalalignment` or `va`: ('bottom', 'baseline', 'center', 'center_baseline', 'top').\n",
        "* `horizontalalignment` or `ha`: ('left', 'center', 'right')\n",
        "* `fontsize` or `size`: float\n",
        "* `color` or `c`: color\n",
        "* `bbox`: dict with properties for `patches.FancyBboxPatch`"
      ],
      "metadata": {
        "id": "70v6I1GbmXMG"
      }
    },
    {
      "cell_type": "code",
      "execution_count": null,
      "metadata": {
        "id": "HRo-Y8YrmS6W"
      },
      "outputs": [],
      "source": []
    }
  ]
}