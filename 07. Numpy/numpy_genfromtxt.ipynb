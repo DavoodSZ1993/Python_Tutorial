{
  "nbformat": 4,
  "nbformat_minor": 0,
  "metadata": {
    "colab": {
      "provenance": [],
      "authorship_tag": "ABX9TyPpE09H8N3st5JRIkEEgUNm",
      "include_colab_link": true
    },
    "kernelspec": {
      "name": "python3",
      "display_name": "Python 3"
    },
    "language_info": {
      "name": "python"
    }
  },
  "cells": [
    {
      "cell_type": "markdown",
      "metadata": {
        "id": "view-in-github",
        "colab_type": "text"
      },
      "source": [
        "<a href=\"https://colab.research.google.com/github/DavoodSZ1993/Python_Tutorial/blob/main/numpy_genfromtxt.ipynb\" target=\"_parent\"><img src=\"https://colab.research.google.com/assets/colab-badge.svg\" alt=\"Open In Colab\"/></a>"
      ]
    },
    {
      "cell_type": "code",
      "source": [
        "!pip install d2l==1.0.0-alpha1.post0 --quiet"
      ],
      "metadata": {
        "id": "fPip1WS9C0Cz"
      },
      "execution_count": 4,
      "outputs": []
    },
    {
      "cell_type": "code",
      "execution_count": 5,
      "metadata": {
        "id": "XIBRcteI-Vr9"
      },
      "outputs": [],
      "source": [
        "import numpy as np\n",
        "import torch\n",
        "from d2l import torch as d2l"
      ]
    },
    {
      "cell_type": "markdown",
      "source": [
        "* `np.genfromtxt(fname, type, delimiter)`: Load data from a text file, with missing values handled as specified.\n",
        "* Each line past the first *skip_header* lines is split at the *delimiter* character, and characters following the *comments* character are discarded."
      ],
      "metadata": {
        "id": "y1tObcxk_V37"
      }
    },
    {
      "cell_type": "markdown",
      "source": [
        "* `fname` *(file, str, pathlib.Path, list of str, generator)*: File, filename, list, or generator to read. If the file name extension is `.gz` or `.bz2`, the file is first decomposed.\n",
        "* `dtype` *(dtype, optional)*: Data type of the resulting array.\n",
        "* `delimiter` *(str, int, or sequence, optional)*: The string used to separate values."
      ],
      "metadata": {
        "id": "OgkTqiC3BHRE"
      }
    },
    {
      "cell_type": "code",
      "source": [
        "d2l.DATA_HUB['airfoil'] = (d2l.DATA_URL + 'airfoil_self_noise.dat',\n",
        "                           '76e5be1548fd8222e5074cf0faae75edff8cf93f')\n",
        "\n",
        "data = np.genfromtxt(d2l.download('airfoil'),\n",
        "                      dtype=np.float32, delimiter='\\t')"
      ],
      "metadata": {
        "colab": {
          "base_uri": "https://localhost:8080/"
        },
        "id": "dUrIozCKCu2D",
        "outputId": "e0c3c95b-cd06-4caa-ded6-ac5d88b2d306"
      },
      "execution_count": 7,
      "outputs": [
        {
          "output_type": "stream",
          "name": "stdout",
          "text": [
            "Downloading ../data/airfoil_self_noise.dat from http://d2l-data.s3-accelerate.amazonaws.com/airfoil_self_noise.dat...\n"
          ]
        }
      ]
    }
  ]
}
