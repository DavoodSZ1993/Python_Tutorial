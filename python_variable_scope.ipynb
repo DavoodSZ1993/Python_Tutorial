{
  "nbformat": 4,
  "nbformat_minor": 0,
  "metadata": {
    "colab": {
      "provenance": [],
      "authorship_tag": "ABX9TyNceHu47pP1mqxHbe1Aqnqd",
      "include_colab_link": true
    },
    "kernelspec": {
      "name": "python3",
      "display_name": "Python 3"
    },
    "language_info": {
      "name": "python"
    }
  },
  "cells": [
    {
      "cell_type": "markdown",
      "metadata": {
        "id": "view-in-github",
        "colab_type": "text"
      },
      "source": [
        "<a href=\"https://colab.research.google.com/github/DavoodSZ1993/Python_Tutorial/blob/main/python_variable_scope.ipynb\" target=\"_parent\"><img src=\"https://colab.research.google.com/assets/colab-badge.svg\" alt=\"Open In Colab\"/></a>"
      ]
    },
    {
      "cell_type": "markdown",
      "source": [
        "## Python Variable Scope\n",
        "In Python, variables can be declared in different scopes, namely, local scope, global scope, and non-local scope."
      ],
      "metadata": {
        "id": "D6Hseq6PFiph"
      }
    },
    {
      "cell_type": "markdown",
      "source": [
        "### Local Scope\n",
        "When we declare variables inside a function, these variables will have a local scope (within the function), and cannot be accessed outside the function.\n",
        "\n",
        "In the following code snippet, the variable num is declared inside the function (**local scope**), so it can be accessed within the function (**local scope**)"
      ],
      "metadata": {
        "id": "vczf0MkHQnVK"
      }
    },
    {
      "cell_type": "code",
      "execution_count": 1,
      "metadata": {
        "id": "YCwTOyV0FeYG",
        "outputId": "a74f038b-2d05-4026-e308-970ff476e40b",
        "colab": {
          "base_uri": "https://localhost:8080/",
          "height": 217
        }
      },
      "outputs": [
        {
          "output_type": "stream",
          "name": "stdout",
          "text": [
            "local:  3\n"
          ]
        },
        {
          "output_type": "error",
          "ename": "NameError",
          "evalue": "ignored",
          "traceback": [
            "\u001b[0;31m---------------------------------------------------------------------------\u001b[0m",
            "\u001b[0;31mNameError\u001b[0m                                 Traceback (most recent call last)",
            "\u001b[0;32m<ipython-input-1-e852be6a66a0>\u001b[0m in \u001b[0;36m<cell line: 7>\u001b[0;34m()\u001b[0m\n\u001b[1;32m      5\u001b[0m \u001b[0;34m\u001b[0m\u001b[0m\n\u001b[1;32m      6\u001b[0m \u001b[0madd\u001b[0m\u001b[0;34m(\u001b[0m\u001b[0;34m)\u001b[0m\u001b[0;34m\u001b[0m\u001b[0;34m\u001b[0m\u001b[0m\n\u001b[0;32m----> 7\u001b[0;31m \u001b[0mprint\u001b[0m\u001b[0;34m(\u001b[0m\u001b[0mnum\u001b[0m\u001b[0;34m)\u001b[0m\u001b[0;34m\u001b[0m\u001b[0;34m\u001b[0m\u001b[0m\n\u001b[0m",
            "\u001b[0;31mNameError\u001b[0m: name 'num' is not defined"
          ]
        }
      ],
      "source": [
        "def add():\n",
        "  # Local Variable\n",
        "  num = 3\n",
        "  print('local: ', num)\n",
        "\n",
        "add()\n",
        "print(num)  # local variable, cannot be accessed outside of the function."
      ]
    },
    {
      "cell_type": "markdown",
      "source": [
        "### Global Scope\n",
        "In Python, a variable declared outside of the function or in global scope is known as global variable and can be accessed inside or outside of the function."
      ],
      "metadata": {
        "id": "I_9K5Q-WSvbP"
      }
    },
    {
      "cell_type": "code",
      "source": [
        "# Global variable\n",
        "num = 5\n",
        "\n",
        "def add():\n",
        "  print('global: ', num)\n",
        "\n",
        "add()\n",
        "print('global: ', num)"
      ],
      "metadata": {
        "id": "PPsi0nz-TvJt",
        "outputId": "56f7625b-df92-40c5-d778-b89653879107",
        "colab": {
          "base_uri": "https://localhost:8080/"
        }
      },
      "execution_count": 2,
      "outputs": [
        {
          "output_type": "stream",
          "name": "stdout",
          "text": [
            "global:  5\n",
            "global:  5\n"
          ]
        }
      ]
    },
    {
      "cell_type": "markdown",
      "source": [
        "### Non-Local Scope\n",
        "In Python, nonlocal variables are used in nested functions whose local scope is not defined. This means that the variable can be neither in the local nor the global scope. We can use `nonlocal` keyword to create nonlocal variables."
      ],
      "metadata": {
        "id": "dqlcu5prUK0A"
      }
    },
    {
      "cell_type": "code",
      "source": [
        "def outer():\n",
        "  message = 'local'\n",
        "  def inner():\n",
        "    nonlocal message\n",
        "    message = 'nonlocal'\n",
        "    print('inner: ', message)\n",
        "\n",
        "  inner()\n",
        "  print('outer: ', message)\n",
        "outer()"
      ],
      "metadata": {
        "id": "r6gEPUnNVMjV",
        "outputId": "0feba7b5-ee2e-4b2d-8933-054f33000aee",
        "colab": {
          "base_uri": "https://localhost:8080/"
        }
      },
      "execution_count": 3,
      "outputs": [
        {
          "output_type": "stream",
          "name": "stdout",
          "text": [
            "inner:  nonlocal\n",
            "outer:  nonlocal\n"
          ]
        }
      ]
    }
  ]
}