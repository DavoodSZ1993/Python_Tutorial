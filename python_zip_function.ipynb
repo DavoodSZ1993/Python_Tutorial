{
  "nbformat": 4,
  "nbformat_minor": 0,
  "metadata": {
    "colab": {
      "provenance": [],
      "authorship_tag": "ABX9TyOFvD0Z2YeZuZT7pqexqzQY",
      "include_colab_link": true
    },
    "kernelspec": {
      "name": "python3",
      "display_name": "Python 3"
    },
    "language_info": {
      "name": "python"
    }
  },
  "cells": [
    {
      "cell_type": "markdown",
      "metadata": {
        "id": "view-in-github",
        "colab_type": "text"
      },
      "source": [
        "<a href=\"https://colab.research.google.com/github/DavoodSZ1993/Python_Tutorial/blob/main/python_zip_function.ipynb\" target=\"_parent\"><img src=\"https://colab.research.google.com/assets/colab-badge.svg\" alt=\"Open In Colab\"/></a>"
      ]
    },
    {
      "cell_type": "markdown",
      "source": [
        "## Python Zip() Function"
      ],
      "metadata": {
        "id": "bo_Z1nEaPFch"
      }
    },
    {
      "cell_type": "markdown",
      "source": [
        "The zip function returns a zip object, which is an iterator of tuples where the first item on each passed iterator is paired together, and then the second item in each passed iterator are paired together etc. "
      ],
      "metadata": {
        "id": "4LLz2KxyPpQJ"
      }
    },
    {
      "cell_type": "code",
      "execution_count": 1,
      "metadata": {
        "colab": {
          "base_uri": "https://localhost:8080/"
        },
        "id": "iC-kOz3MO4bK",
        "outputId": "ebe7fa19-82cc-4ee5-a86d-b83830d4dd4d"
      },
      "outputs": [
        {
          "output_type": "execute_result",
          "data": {
            "text/plain": [
              "<zip at 0x7f52582961c0>"
            ]
          },
          "metadata": {},
          "execution_count": 1
        }
      ],
      "source": [
        "name_1 = ('davood', 'mehdi', 'soroush', 'navid')\n",
        "name_2 = ('zahra', 'dena', 'leila', 'nasim')\n",
        "\n",
        "x = zip(name_1, name_2)\n",
        "x"
      ]
    },
    {
      "cell_type": "code",
      "source": [
        "def train_2d(trainer, steps=28, f_grad=None):\n",
        "  x1, x2, s1, s2 = -5, -2, 0, 0\n",
        "  results = [(x1, x2)]\n",
        "  for i in range(steps):\n",
        "    if f_grad:\n",
        "      x1, x2, s1, s2 = trainer(x1, x2, s1, s2, f_grad)\n",
        "    else:\n",
        "      x1, x2, s1, s2 = trainer(x1, x2, s1, s2)\n",
        "    results.append((x1, x2))\n",
        "  print(f'epoch {i + 1}, x1: {float(x1):f}, x2: {float(x2): f}')\n",
        "  return results\n",
        "\n",
        "def f_2d_grad(x1, x2):\n",
        "  return (2 * x1, 4 * x2)\n",
        "\n",
        "def gd_2d(x1, x2, s1, s2, f_grad):\n",
        "  g1, g2 = f_grad(x1, x2)\n",
        "  return (x1 - eta * g1, x2 - eta * g2, 0, 0)"
      ],
      "metadata": {
        "id": "kRnGQ8nSSHg_"
      },
      "execution_count": 4,
      "outputs": []
    },
    {
      "cell_type": "code",
      "source": [
        "eta = 0.1\n",
        "results = train_2d(gd_2d, f_grad=f_2d_grad)"
      ],
      "metadata": {
        "colab": {
          "base_uri": "https://localhost:8080/"
        },
        "id": "KcwUfJIYSRT2",
        "outputId": "e3a79689-88f3-402f-a077-bcb2e2264414"
      },
      "execution_count": 6,
      "outputs": [
        {
          "output_type": "stream",
          "name": "stdout",
          "text": [
            "epoch 28, x1: -0.009671, x2: -0.000001\n"
          ]
        }
      ]
    },
    {
      "cell_type": "markdown",
      "source": [
        "The single asterisk (*) means it unpacks the iterator."
      ],
      "metadata": {
        "id": "Yf6W4wSrUUcd"
      }
    },
    {
      "cell_type": "code",
      "source": [
        "print(*zip(*results))"
      ],
      "metadata": {
        "colab": {
          "base_uri": "https://localhost:8080/"
        },
        "id": "uWL12aUHSp-1",
        "outputId": "9e2cfbeb-fa93-419d-bd50-75362762df72"
      },
      "execution_count": 10,
      "outputs": [
        {
          "output_type": "stream",
          "name": "stdout",
          "text": [
            "(-5, -4.0, -3.2, -2.56, -2.048, -1.6384, -1.31072, -1.0485760000000002, -0.8388608000000002, -0.6710886400000001, -0.5368709120000001, -0.4294967296000001, -0.3435973836800001, -0.27487790694400005, -0.21990232555520003, -0.17592186044416003, -0.140737488355328, -0.11258999068426241, -0.09007199254740993, -0.07205759403792794, -0.057646075230342354, -0.04611686018427388, -0.03689348814741911, -0.029514790517935284, -0.02361183241434823, -0.018889465931478583, -0.015111572745182867, -0.012089258196146294, -0.009671406556917036) (-2, -1.2, -0.72, -0.432, -0.2592, -0.15552, -0.09331199999999999, -0.055987199999999994, -0.033592319999999995, -0.020155391999999994, -0.012093235199999997, -0.007255941119999998, -0.004353564671999998, -0.0026121388031999987, -0.0015672832819199991, -0.0009403699691519995, -0.0005642219814911997, -0.00033853318889471976, -0.00020311991333683184, -0.0001218719480020991, -7.312316880125945e-05, -4.387390128075567e-05, -2.63243407684534e-05, -1.579460446107204e-05, -9.476762676643223e-06, -5.686057605985934e-06, -3.4116345635915604e-06, -2.046980738154936e-06, -1.2281884428929618e-06)\n"
          ]
        }
      ]
    }
  ]
}