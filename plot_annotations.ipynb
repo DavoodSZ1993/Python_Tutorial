{
  "nbformat": 4,
  "nbformat_minor": 0,
  "metadata": {
    "colab": {
      "provenance": [],
      "authorship_tag": "ABX9TyOGUyIdATY7l0VXjKP6+MU1",
      "include_colab_link": true
    },
    "kernelspec": {
      "name": "python3",
      "display_name": "Python 3"
    },
    "language_info": {
      "name": "python"
    }
  },
  "cells": [
    {
      "cell_type": "markdown",
      "metadata": {
        "id": "view-in-github",
        "colab_type": "text"
      },
      "source": [
        "<a href=\"https://colab.research.google.com/github/DavoodSZ1993/Python_Tutorial/blob/main/plot_annotations.ipynb\" target=\"_parent\"><img src=\"https://colab.research.google.com/assets/colab-badge.svg\" alt=\"Open In Colab\"/></a>"
      ]
    },
    {
      "cell_type": "code",
      "execution_count": 1,
      "metadata": {
        "id": "kuko9tKYrpT7"
      },
      "outputs": [],
      "source": [
        "%matplotlib inline\n",
        "import matplotlib.pyplot as plt"
      ]
    },
    {
      "cell_type": "markdown",
      "source": [
        "## `matplotlib.pyplot.annotate`\n",
        "\n",
        "* `plt.annotate(text, xy, xytext=None, arrowprops=None)`: Annotate the point xy with text *text*.\n",
        "* `text`: The text of the annotation.\n",
        "* `xy:(float, float)`: The point (x, y) annotate. The coordinate system is determined by xycoords.\n",
        "* `xytext: (float, float), default: xy`: The position (x, y) to place the text at. The coordinate system is determined by textcoords.\n",
        "* `arrowprops: dict, optional`: The properties used to draw an arrow between the positions *xy* and *textxy*. Defaults to None, i.e. no arrow is drawn. "
      ],
      "metadata": {
        "id": "WmBR0gLgsFnG"
      }
    }
  ]
}