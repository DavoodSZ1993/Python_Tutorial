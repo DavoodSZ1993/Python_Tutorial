{
  "nbformat": 4,
  "nbformat_minor": 0,
  "metadata": {
    "colab": {
      "provenance": [],
      "authorship_tag": "ABX9TyOLRY2HzHwjYbqJSq2I5kqD",
      "include_colab_link": true
    },
    "kernelspec": {
      "name": "python3",
      "display_name": "Python 3"
    },
    "language_info": {
      "name": "python"
    }
  },
  "cells": [
    {
      "cell_type": "markdown",
      "metadata": {
        "id": "view-in-github",
        "colab_type": "text"
      },
      "source": [
        "<a href=\"https://colab.research.google.com/github/DavoodSZ1993/Python_Tutorial/blob/main/python__module__attribute.ipynb\" target=\"_parent\"><img src=\"https://colab.research.google.com/assets/colab-badge.svg\" alt=\"Open In Colab\"/></a>"
      ]
    },
    {
      "cell_type": "markdown",
      "source": [
        "* The `__module__` attribute is a built-in class attribute in Python that is used to get the name of the module in which a class is defined. This attribute is useful when you want to check the name of the module in which a particular class is defined"
      ],
      "metadata": {
        "id": "uUsZ586-aa0Y"
      }
    },
    {
      "cell_type": "code",
      "execution_count": 2,
      "metadata": {
        "id": "f0LyE8GjaI4j"
      },
      "outputs": [],
      "source": [
        "import torch\n",
        "from torch import nn\n",
        "from torch.optim import lr_scheduler"
      ]
    },
    {
      "cell_type": "code",
      "source": [
        "class LinearModel(nn.Module):\n",
        "  def __init__(self):\n",
        "    super().__init__()\n",
        "    self.linear1 = nn.Linear(10, 20)\n",
        "    self.linear2 = nn.Linear(20, 5)\n",
        "\n",
        "  def forward(self, X):\n",
        "    return self.linear2(self.linear1(X))"
      ],
      "metadata": {
        "id": "M75_EVAGbBEM"
      },
      "execution_count": 3,
      "outputs": []
    },
    {
      "cell_type": "code",
      "source": [
        "model = LinearModel()\n",
        "trainer = torch.optim.SGD(model.parameters(), lr=0.3)\n",
        "scheduler = lr_scheduler.MultiStepLR(trainer, milestones=[15, 30], gamma=0.5)"
      ],
      "metadata": {
        "id": "doNMLfAQfi5w"
      },
      "execution_count": 5,
      "outputs": []
    },
    {
      "cell_type": "code",
      "source": [
        "scheduler.__module__  # gives the module in which the class is defined!"
      ],
      "metadata": {
        "colab": {
          "base_uri": "https://localhost:8080/",
          "height": 36
        },
        "id": "Tx8q__Y-gW_3",
        "outputId": "7fd830d2-002a-4e0d-a81b-5d5cce45325b"
      },
      "execution_count": 6,
      "outputs": [
        {
          "output_type": "execute_result",
          "data": {
            "text/plain": [
              "'torch.optim.lr_scheduler'"
            ],
            "application/vnd.google.colaboratory.intrinsic+json": {
              "type": "string"
            }
          },
          "metadata": {},
          "execution_count": 6
        }
      ]
    }
  ]
}