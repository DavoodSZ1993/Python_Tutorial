{
  "nbformat": 4,
  "nbformat_minor": 0,
  "metadata": {
    "colab": {
      "provenance": [],
      "authorship_tag": "ABX9TyNol6mBtZax1WV4AJcsTwXu",
      "include_colab_link": true
    },
    "kernelspec": {
      "name": "python3",
      "display_name": "Python 3"
    },
    "language_info": {
      "name": "python"
    }
  },
  "cells": [
    {
      "cell_type": "markdown",
      "metadata": {
        "id": "view-in-github",
        "colab_type": "text"
      },
      "source": [
        "<a href=\"https://colab.research.google.com/github/DavoodSZ1993/Python_Tutorial/blob/main/python__module__attribute.ipynb\" target=\"_parent\"><img src=\"https://colab.research.google.com/assets/colab-badge.svg\" alt=\"Open In Colab\"/></a>"
      ]
    },
    {
      "cell_type": "markdown",
      "source": [
        "* The `__module__` attribute is a built-in class attribute in Python that is used to get the name of the module in which a class is defined. This attribute is useful when you want to check the name of the module in which a particular class is defined"
      ],
      "metadata": {
        "id": "uUsZ586-aa0Y"
      }
    },
    {
      "cell_type": "code",
      "execution_count": 1,
      "metadata": {
        "id": "f0LyE8GjaI4j"
      },
      "outputs": [],
      "source": [
        "from torch.optim import lr_scheduler"
      ]
    },
    {
      "cell_type": "code",
      "source": [],
      "metadata": {
        "id": "M75_EVAGbBEM"
      },
      "execution_count": null,
      "outputs": []
    }
  ]
}