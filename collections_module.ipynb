{
  "nbformat": 4,
  "nbformat_minor": 0,
  "metadata": {
    "colab": {
      "provenance": [],
      "authorship_tag": "ABX9TyPsSKHb6/04OsQm6OXZPgN+",
      "include_colab_link": true
    },
    "kernelspec": {
      "name": "python3",
      "display_name": "Python 3"
    },
    "language_info": {
      "name": "python"
    }
  },
  "cells": [
    {
      "cell_type": "markdown",
      "metadata": {
        "id": "view-in-github",
        "colab_type": "text"
      },
      "source": [
        "<a href=\"https://colab.research.google.com/github/DavoodSZ1993/Python_Tutorial/blob/main/collections_module.ipynb\" target=\"_parent\"><img src=\"https://colab.research.google.com/assets/colab-badge.svg\" alt=\"Open In Colab\"/></a>"
      ]
    },
    {
      "cell_type": "markdown",
      "source": [
        "## Some Notes on Collections Module"
      ],
      "metadata": {
        "id": "xEMyhXlQ9XVK"
      }
    },
    {
      "cell_type": "markdown",
      "source": [
        "This module implements specialized container datatypes providing alternatives to Python's general purpose built-in containers, `dict`, `list`, `set` and `tuple`."
      ],
      "metadata": {
        "id": "-ZxIDpuJ35VQ"
      }
    },
    {
      "cell_type": "markdown",
      "source": [
        "### 01. Namedtuple in Collections\n",
        "Namedtuple contains keys that are hashed to a particular value. But in contrast, namedtuple supports both access from key-value and iteration, the functionality that dictionaries lack."
      ],
      "metadata": {
        "id": "Et2bfdX8549M"
      }
    },
    {
      "cell_type": "code",
      "execution_count": 4,
      "metadata": {
        "id": "ceu8EnBA9SRw",
        "outputId": "b2e14b9c-4143-4757-a92c-eaf41eb0c987",
        "colab": {
          "base_uri": "https://localhost:8080/"
        }
      },
      "outputs": [
        {
          "output_type": "execute_result",
          "data": {
            "text/plain": [
              "('Davood', 29, 62)"
            ]
          },
          "metadata": {},
          "execution_count": 4
        }
      ],
      "source": [
        "from collections import namedtuple\n",
        "\n",
        "student = namedtuple('student', ['name', 'age', 'score'])\n",
        "\n",
        "std1 = student('Davood', 29, 88)\n",
        "std2 = student('Mehdi', 33, 90)\n",
        "\n",
        "std1.name, std1[1], std1[1] + std2[1]"
      ]
    }
  ]
}