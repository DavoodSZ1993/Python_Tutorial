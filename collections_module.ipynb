{
  "nbformat": 4,
  "nbformat_minor": 0,
  "metadata": {
    "colab": {
      "provenance": [],
      "authorship_tag": "ABX9TyO4Qlt/c6ngrUhKhYMZmsmL",
      "include_colab_link": true
    },
    "kernelspec": {
      "name": "python3",
      "display_name": "Python 3"
    },
    "language_info": {
      "name": "python"
    }
  },
  "cells": [
    {
      "cell_type": "markdown",
      "metadata": {
        "id": "view-in-github",
        "colab_type": "text"
      },
      "source": [
        "<a href=\"https://colab.research.google.com/github/DavoodSZ1993/Python_Tutorial/blob/main/collections_module.ipynb\" target=\"_parent\"><img src=\"https://colab.research.google.com/assets/colab-badge.svg\" alt=\"Open In Colab\"/></a>"
      ]
    },
    {
      "cell_type": "markdown",
      "source": [
        "## Some Notes on Collections Module"
      ],
      "metadata": {
        "id": "xEMyhXlQ9XVK"
      }
    },
    {
      "cell_type": "markdown",
      "source": [
        "This module implements specialized container datatypes providing alternatives to Python's general purpose built-in containers, `dict`, `list`, `set` and `tuple`."
      ],
      "metadata": {
        "id": "-ZxIDpuJ35VQ"
      }
    },
    {
      "cell_type": "markdown",
      "source": [
        "### 01. Namedtuple in Collections\n",
        "Namedtuple contains keys that are hashed to a particular value. But in contrast, namedtuple supports both access from key-value and iteration, the functionality that dictionaries lack."
      ],
      "metadata": {
        "id": "Et2bfdX8549M"
      }
    },
    {
      "cell_type": "code",
      "execution_count": 4,
      "metadata": {
        "id": "ceu8EnBA9SRw",
        "colab": {
          "base_uri": "https://localhost:8080/"
        },
        "outputId": "b2e14b9c-4143-4757-a92c-eaf41eb0c987"
      },
      "outputs": [
        {
          "output_type": "execute_result",
          "data": {
            "text/plain": [
              "('Davood', 29, 62)"
            ]
          },
          "metadata": {},
          "execution_count": 4
        }
      ],
      "source": [
        "from collections import namedtuple\n",
        "\n",
        "student = namedtuple('student', ['name', 'age', 'score'])\n",
        "\n",
        "std1 = student('Davood', 29, 88)\n",
        "std2 = student('Mehdi', 33, 90)\n",
        "\n",
        "std1.name, std1[1], std1[1] + std2[1]"
      ]
    },
    {
      "cell_type": "markdown",
      "source": [
        "### 02. Deque in Collections\n",
        "Deques are sequence like data-types designed as a generalization of stacks and queues. They support memory-efficient and fast append and pop operations on both ends of the data structure.\n",
        "\n",
        "Deques are also the way to go if you need to keep a list of last-seen items becasue you can restrict the maximum length of your deques. This way, once a deque is filled, it automatically discards items from one end when you append new items on the opposite end."
      ],
      "metadata": {
        "id": "lN52_Swr8yd4"
      }
    },
    {
      "cell_type": "code",
      "source": [
        "from collections import deque\n",
        "\n",
        "queue = deque(['name', 'age', 'score'])\n",
        "print(queue)\n",
        "\n",
        "queue.append('ID')      # queue.pop()\n",
        "print(queue)\n",
        "\n",
        "queue.appendleft('school') # queue.popleft()\n",
        "print(queue)"
      ],
      "metadata": {
        "colab": {
          "base_uri": "https://localhost:8080/"
        },
        "id": "sycNSL9d-P2w",
        "outputId": "0698c3f8-156e-40db-a1d4-a390e33a0b5a"
      },
      "execution_count": 9,
      "outputs": [
        {
          "output_type": "stream",
          "name": "stdout",
          "text": [
            "deque(['name', 'age', 'score'])\n",
            "deque(['name', 'age', 'score', 'ID'])\n",
            "deque(['school', 'name', 'age', 'score', 'ID'])\n"
          ]
        }
      ]
    },
    {
      "cell_type": "markdown",
      "source": [
        "Deques have many other useful methods which can be found on the official documentation."
      ],
      "metadata": {
        "id": "k4vTxzev_58J"
      }
    },
    {
      "cell_type": "markdown",
      "source": [
        "### 03. Counter in Collections\n",
        "Counter is an unordered collection where elements are stored as `Dict` keys and their count as `Dict` value.\n",
        "\n",
        "Counter elements count can be positive, zero, or negative integers. However, there is no restriction on its keys and values. Although values are intended to be numbers but we can store other objects too."
      ],
      "metadata": {
        "id": "D7Fd2rx3BR9C"
      }
    },
    {
      "cell_type": "code",
      "source": [
        "from collections import Counter\n",
        "\n",
        "my_name = 'Davood Soleymanzadeh'\n",
        "char_count = Counter(my_name)\n",
        "print(char_count)"
      ],
      "metadata": {
        "id": "XXgpwYkAB2LI",
        "outputId": "3126a88b-51ff-4d9c-d894-9f4f3f861be7",
        "colab": {
          "base_uri": "https://localhost:8080/"
        }
      },
      "execution_count": 12,
      "outputs": [
        {
          "output_type": "stream",
          "name": "stdout",
          "text": [
            "Counter({'a': 3, 'o': 3, 'd': 2, 'e': 2, 'D': 1, 'v': 1, ' ': 1, 'S': 1, 'l': 1, 'y': 1, 'm': 1, 'n': 1, 'z': 1, 'h': 1})\n"
          ]
        }
      ]
    }
  ]
}