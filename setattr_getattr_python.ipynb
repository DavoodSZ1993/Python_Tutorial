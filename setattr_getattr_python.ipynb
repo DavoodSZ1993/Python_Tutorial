{
  "nbformat": 4,
  "nbformat_minor": 0,
  "metadata": {
    "colab": {
      "provenance": [],
      "authorship_tag": "ABX9TyNuAPQkAAKXFTH4yQCOpb88",
      "include_colab_link": true
    },
    "kernelspec": {
      "name": "python3",
      "display_name": "Python 3"
    },
    "language_info": {
      "name": "python"
    }
  },
  "cells": [
    {
      "cell_type": "markdown",
      "metadata": {
        "id": "view-in-github",
        "colab_type": "text"
      },
      "source": [
        "<a href=\"https://colab.research.google.com/github/DavoodSZ1993/Python_Tutorial/blob/main/setattr_getattr_python.ipynb\" target=\"_parent\"><img src=\"https://colab.research.google.com/assets/colab-badge.svg\" alt=\"Open In Colab\"/></a>"
      ]
    },
    {
      "cell_type": "markdown",
      "source": [
        "* `getattr(object, attribute_name)`: Gets the value of an object's attribute and if no attribute of that object is found, default value is returned.\n",
        "* `object`: Object of the class whose attribute value is being returned.\n",
        "* `attribute_name`: attribute's name."
      ],
      "metadata": {
        "id": "_rkgaU8bFRNM"
      }
    },
    {
      "cell_type": "code",
      "execution_count": 1,
      "metadata": {
        "id": "Jd3aRxspExp5"
      },
      "outputs": [],
      "source": [
        "class Employee:\n",
        "  emp_comp = 'Amazon'\n",
        "  emp_age = 30\n",
        "  default_age = 50"
      ]
    },
    {
      "cell_type": "code",
      "source": [
        "e = Employee()\n",
        "\n",
        "print(getattr(e, 'emp_comp'))\n",
        "print(getattr(e, 'emp_age'))\n",
        "print(getattr(e, 'default_age'))"
      ],
      "metadata": {
        "colab": {
          "base_uri": "https://localhost:8080/"
        },
        "id": "L4kjoHnpGl0E",
        "outputId": "c174cb7d-96d9-40a1-aa87-395dfc174b8e"
      },
      "execution_count": 4,
      "outputs": [
        {
          "output_type": "stream",
          "name": "stdout",
          "text": [
            "Amazon\n",
            "30\n",
            "50\n"
          ]
        }
      ]
    },
    {
      "cell_type": "markdown",
      "source": [
        "* `setattr(object, name, value)`: Sets the attribute value of an object.\n",
        "* `object`: object whose attribute has to be set.\n",
        "* `name`: attribute name for which we need to set the value.\n",
        "* `value`: value of the attribute to be set."
      ],
      "metadata": {
        "id": "n3QIUfHqHd0K"
      }
    },
    {
      "cell_type": "code",
      "source": [
        "print(getattr(e, 'emp_age'))\n",
        "setattr(e, 'emp_age', 100)\n",
        "print(getattr(e, 'emp_age'))"
      ],
      "metadata": {
        "colab": {
          "base_uri": "https://localhost:8080/"
        },
        "id": "vta82hdmII-F",
        "outputId": "a5df0b1b-ac0a-4b56-f78e-dd6428c7a92e"
      },
      "execution_count": 5,
      "outputs": [
        {
          "output_type": "stream",
          "name": "stdout",
          "text": [
            "30\n",
            "100\n"
          ]
        }
      ]
    }
  ]
}