{
  "nbformat": 4,
  "nbformat_minor": 0,
  "metadata": {
    "colab": {
      "provenance": [],
      "authorship_tag": "ABX9TyPy6Ppqy/0gpUKl1m2DCJOb",
      "include_colab_link": true
    },
    "kernelspec": {
      "name": "python3",
      "display_name": "Python 3"
    },
    "language_info": {
      "name": "python"
    }
  },
  "cells": [
    {
      "cell_type": "markdown",
      "metadata": {
        "id": "view-in-github",
        "colab_type": "text"
      },
      "source": [
        "<a href=\"https://colab.research.google.com/github/DavoodSZ1993/Python_Tutorial/blob/main/02_subplots.ipynb\" target=\"_parent\"><img src=\"https://colab.research.google.com/assets/colab-badge.svg\" alt=\"Open In Colab\"/></a>"
      ]
    },
    {
      "cell_type": "markdown",
      "source": [
        "## matplotlib.pyplot.subplots"
      ],
      "metadata": {
        "id": "GwBbbM_UAfWF"
      }
    },
    {
      "cell_type": "code",
      "execution_count": 2,
      "metadata": {
        "id": "lpOzqfOJAPPE"
      },
      "outputs": [],
      "source": [
        "%matplotlib inline\n",
        "import torch\n",
        "import matplotlib.pyplot as plt"
      ]
    },
    {
      "cell_type": "markdown",
      "source": [
        "### `plt.subplots(nrows=1, ncols=1, sharex=False, sharey=False, squeeze=True, figsize)`\n",
        "* `nrows, ncols: int, default=1`: Number of rows/columns of the subplot grid.\n",
        "* `sharex, sharey: bool or{'none', 'all', 'row', 'col'}, default=False`: Controls sharing of properties among x(sharex) and y(sharey) axis.\n",
        "* `squeeze: bool, default= True`: If True, extra dimensions are squeezed out from the returned array of `Axes`. If False, no squeezing at all is done, the returned Axes object is always a 2D array containing Axes instances, even if it ends up being 1x1.\n",
        "* `figsize (float, float), default([6.4, 6.4])`: Width, height in inches."
      ],
      "metadata": {
        "id": "S2UcjRzoBDUs"
      }
    },
    {
      "cell_type": "markdown",
      "source": [
        "* **Rerturns:**\n",
        "* `fig`: Figures\n",
        "* `ax`: Axes or array of Axes."
      ],
      "metadata": {
        "id": "HzoWL6X1Eh7z"
      }
    },
    {
      "cell_type": "code",
      "source": [
        "attention_weights = torch.eye(10) # 10 x 10 identical matrix\n",
        "attention_weights = attention_weights.reshape((1, 1, 10, 10))\n",
        "\n",
        "num_rows, num_cols, _, _ = attention_weights.shape \n",
        "num_rows, num_cols"
      ],
      "metadata": {
        "colab": {
          "base_uri": "https://localhost:8080/"
        },
        "id": "Wgn3WJhiaRla",
        "outputId": "4ef2df2c-c1c7-4824-bcf5-f9fca65f9976"
      },
      "execution_count": 6,
      "outputs": [
        {
          "output_type": "execute_result",
          "data": {
            "text/plain": [
              "(1, 1)"
            ]
          },
          "metadata": {},
          "execution_count": 6
        }
      ]
    },
    {
      "cell_type": "code",
      "source": [
        "fig, axes = plt.subplots(num_rows, num_cols, figsize=(2.5, 2.5), sharex=True,    # a 1 x 1 matrix\n",
        "                         sharey=True, squeeze=False)"
      ],
      "metadata": {
        "colab": {
          "base_uri": "https://localhost:8080/",
          "height": 188
        },
        "id": "yGtvRUPJba6B",
        "outputId": "26be1a18-13c7-4b1d-f990-720371ac22aa"
      },
      "execution_count": 7,
      "outputs": [
        {
          "output_type": "display_data",
          "data": {
            "text/plain": [
              "<Figure size 180x180 with 1 Axes>"
            ],
            "image/png": "[encoded data removed]"
          },
          "metadata": {
            "needs_background": "light"
          }
        }
      ]
    },
    {
      "cell_type": "code",
      "source": [
        "fig, axes = plt.subplots(num_rows, num_cols, figsize=(2.5, 2.5), sharex=True,    # a 1 x 1 matrix\n",
        "                         sharey=True, squeeze=False)\n",
        "for i, (row_axes, row_matrices) in enumerate(zip(axes, attention_weights)):\n",
        "  for j, (ax, matrix) in enumerate(zip(row_axes, row_matrices)):\n",
        "    pcm = ax.imshow(matrix.detach().numpy(), cmap='Reds')\n",
        "    if i == num_rows - 1:\n",
        "      ax.set_xlabel('Keys')\n",
        "    if j == 0:\n",
        "      ax.set_ylabel('Queries')\n",
        "fig.colorbar(pcm, ax=axes, shrink=0.6)\n",
        "    "
      ],
      "metadata": {
        "colab": {
          "base_uri": "https://localhost:8080/",
          "height": 191
        },
        "id": "YoWNc4lhb6SN",
        "outputId": "dcaedee5-ff28-40c6-90d1-2738c89960cf"
      },
      "execution_count": 31,
      "outputs": [
        {
          "output_type": "execute_result",
          "data": {
            "text/plain": [
              "<matplotlib.colorbar.Colorbar at 0x7f70099e4a00>"
            ]
          },
          "metadata": {},
          "execution_count": 31
        },
        {
          "output_type": "display_data",
          "data": {
            "text/plain": [
              "<Figure size 180x180 with 2 Axes>"
            ],
            "image/png": "[encoded data removed]"
          },
          "metadata": {
            "needs_background": "light"
          }
        }
      ]
    },
    {
      "cell_type": "markdown",
      "source": [
        "* `plt.imshow(X, cmap=None)`: Display data as an image, i.e., on a 2D regular raster. The input may either be actual RGB(A) data, or 2D scalar data, which will be rendered as a pseudocolor image.\n",
        "* `X: array-like or PIL Image`\n",
        "* `cmap`: The colormap instance or registered colormap name used to map scalar data to colors. This parameter is ignored if X is RGB(A)."
      ],
      "metadata": {
        "id": "44BBXa56gNNH"
      }
    },
    {
      "cell_type": "code",
      "source": [
        "X = torch.randn(4, 4)\n",
        "pcm = plt.imshow(X, cmap='Reds')\n",
        "pcm"
      ],
      "metadata": {
        "id": "AOBhKysDgl8a",
        "outputId": "6a94c5c9-fdd0-4916-fd29-cf5c0a458a81",
        "colab": {
          "base_uri": "https://localhost:8080/",
          "height": 286
        }
      },
      "execution_count": 30,
      "outputs": [
        {
          "output_type": "execute_result",
          "data": {
            "text/plain": [
              "<matplotlib.image.AxesImage at 0x7f7009a3b580>"
            ]
          },
          "metadata": {},
          "execution_count": 30
        },
        {
          "output_type": "display_data",
          "data": {
            "text/plain": [
              "<Figure size 432x288 with 1 Axes>"
            ],
            "image/png": "[encoded data removed]"
          },
          "metadata": {
            "needs_background": "light"
          }
        }
      ]
    },
    {
      "cell_type": "markdown",
      "source": [
        "* **Returns**: `AxesImage`"
      ],
      "metadata": {
        "id": "yisAWeWaiagw"
      }
    }
  ]
}