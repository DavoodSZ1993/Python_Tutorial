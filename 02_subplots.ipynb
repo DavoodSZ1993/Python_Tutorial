{
  "nbformat": 4,
  "nbformat_minor": 0,
  "metadata": {
    "colab": {
      "provenance": [],
      "authorship_tag": "ABX9TyPvP5VeUQnruyL75vp4nMGk",
      "include_colab_link": true
    },
    "kernelspec": {
      "name": "python3",
      "display_name": "Python 3"
    },
    "language_info": {
      "name": "python"
    }
  },
  "cells": [
    {
      "cell_type": "markdown",
      "metadata": {
        "id": "view-in-github",
        "colab_type": "text"
      },
      "source": [
        "<a href=\"https://colab.research.google.com/github/DavoodSZ1993/Python_Tutorial/blob/main/02_subplots.ipynb\" target=\"_parent\"><img src=\"https://colab.research.google.com/assets/colab-badge.svg\" alt=\"Open In Colab\"/></a>"
      ]
    },
    {
      "cell_type": "markdown",
      "source": [
        "## matplotlib.pyplot.subplots"
      ],
      "metadata": {
        "id": "GwBbbM_UAfWF"
      }
    },
    {
      "cell_type": "code",
      "execution_count": 1,
      "metadata": {
        "id": "lpOzqfOJAPPE"
      },
      "outputs": [],
      "source": [
        "%matplotlib inline\n",
        "import matplotlib.pyplot as plt"
      ]
    },
    {
      "cell_type": "markdown",
      "source": [
        "### `plt.subplots(nrows=1, ncols=1, sharex=False, sharey=False, squeeze=True)`\n",
        "* `nrows, ncols: int, default=1`: Number of rows/columns of the subplot grid.\n",
        "* `sharex, sharey: bool or{'none', 'all', 'row', 'col'}, default=False`: Controls sharing of properties among x(sharex) and y(sharey) axis.\n",
        "* `squeeze: bool, default= True`: If True, extra dimensions are squeezed out from the returned array of `Axes`. If False, no squeezing at all is done, the returned Axes object is always a 2D array containing Axes instances, even if it ends up being 1x1."
      ],
      "metadata": {
        "id": "S2UcjRzoBDUs"
      }
    },
    {
      "cell_type": "markdown",
      "source": [
        "* **Rerturns:**\n",
        "* `fig`: Figures\n",
        "* `ax`: Axes or array of Axes."
      ],
      "metadata": {
        "id": "HzoWL6X1Eh7z"
      }
    }
  ]
}