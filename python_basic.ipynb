{
  "nbformat": 4,
  "nbformat_minor": 0,
  "metadata": {
    "colab": {
      "provenance": [],
      "authorship_tag": "ABX9TyNEwd8nb3AmrZz7+RWdejWL",
      "include_colab_link": true
    },
    "kernelspec": {
      "name": "python3",
      "display_name": "Python 3"
    },
    "language_info": {
      "name": "python"
    }
  },
  "cells": [
    {
      "cell_type": "markdown",
      "metadata": {
        "id": "view-in-github",
        "colab_type": "text"
      },
      "source": [
        "<a href=\"https://colab.research.google.com/github/DavoodSZ1993/Python_Tutorial/blob/main/python_basic.ipynb\" target=\"_parent\"><img src=\"https://colab.research.google.com/assets/colab-badge.svg\" alt=\"Open In Colab\"/></a>"
      ]
    },
    {
      "cell_type": "markdown",
      "source": [
        "# Useful Basic Python Codes and Built-in Functions and Methods"
      ],
      "metadata": {
        "id": "CSC8Sz-Kj2Ct"
      }
    },
    {
      "cell_type": "markdown",
      "source": [
        "## Python Decorators"
      ],
      "metadata": {
        "id": "WJjlifkvkK4m"
      }
    },
    {
      "cell_type": "code",
      "source": [
        " # Functions can be treated as objects!\n",
        "def func1():\n",
        "  print('Function 1 is called')\n",
        "\n",
        "def func2(f):                \n",
        "  f()\n",
        "\n",
        "func2(func1)\n",
        "print('******************************')\n",
        "\n",
        "# Wrapper Functions\n",
        "def f1(func):\n",
        "  def wrapper():\n",
        "    print('Started')\n",
        "    func()\n",
        "    print('ended')\n",
        "  return wrapper\n",
        "\n",
        "def f():\n",
        "  print('Hello')\n",
        "\n",
        "# first \n",
        "f1(f)()\n",
        "print('******************************')\n",
        "\n",
        "# Second\n",
        "f = f1(f)\n",
        "f()\n",
        "print('******************************')\n",
        "\n",
        "# Third\n",
        "@f1\n",
        "def f2():\n",
        "  print('Hello World!')\n",
        "\n",
        "f2()"
      ],
      "metadata": {
        "colab": {
          "base_uri": "https://localhost:8080/"
        },
        "id": "wgi8RM6xkN8x",
        "outputId": "fd33ff27-a0cf-4466-d791-a411af1eca06"
      },
      "execution_count": 1,
      "outputs": [
        {
          "output_type": "stream",
          "name": "stdout",
          "text": [
            "Function 1 is called\n",
            "******************************\n",
            "Started\n",
            "Hello\n",
            "ended\n",
            "******************************\n",
            "Started\n",
            "Hello\n",
            "ended\n",
            "******************************\n",
            "Started\n",
            "Hello World!\n",
            "ended\n"
          ]
        }
      ]
    },
    {
      "cell_type": "markdown",
      "source": [
        "## F-strings"
      ],
      "metadata": {
        "id": "47S41kEtkf7d"
      }
    },
    {
      "cell_type": "code",
      "execution_count": 2,
      "metadata": {
        "colab": {
          "base_uri": "https://localhost:8080/"
        },
        "id": "YlKA7kbkj0C2",
        "outputId": "f6ac579f-66fb-4ec5-8ebb-016b029b433e"
      },
      "outputs": [
        {
          "output_type": "stream",
          "name": "stdout",
          "text": [
            "Hello, my name is Davood, and I'm 29 years old.\n"
          ]
        }
      ],
      "source": [
        "name = 'Davood'\n",
        "age = 29\n",
        "\n",
        "print(f\"Hello, my name is {name}, and I'm {age} years old.\")"
      ]
    }
  ]
}