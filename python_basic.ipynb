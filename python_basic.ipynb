{
  "nbformat": 4,
  "nbformat_minor": 0,
  "metadata": {
    "colab": {
      "provenance": [],
      "authorship_tag": "ABX9TyMDGiA4ca4szkCOaHisHGKE",
      "include_colab_link": true
    },
    "kernelspec": {
      "name": "python3",
      "display_name": "Python 3"
    },
    "language_info": {
      "name": "python"
    }
  },
  "cells": [
    {
      "cell_type": "markdown",
      "metadata": {
        "id": "view-in-github",
        "colab_type": "text"
      },
      "source": [
        "<a href=\"https://colab.research.google.com/github/DavoodSZ1993/Python_Tutorial/blob/main/python_basic.ipynb\" target=\"_parent\"><img src=\"https://colab.research.google.com/assets/colab-badge.svg\" alt=\"Open In Colab\"/></a>"
      ]
    },
    {
      "cell_type": "markdown",
      "source": [
        "# Useful Basic Python Codes and Built-in Functions and Methods"
      ],
      "metadata": {
        "id": "CSC8Sz-Kj2Ct"
      }
    },
    {
      "cell_type": "markdown",
      "source": [
        "## Python Decorators"
      ],
      "metadata": {
        "id": "WJjlifkvkK4m"
      }
    },
    {
      "cell_type": "code",
      "source": [
        " # Functions can be treated as objects!\n",
        "def func1():\n",
        "  print('Function 1 is called')\n",
        "\n",
        "def func2(f):                \n",
        "  f()\n",
        "\n",
        "func2(func1)\n",
        "print('******************************')\n",
        "\n",
        "# Wrapper Functions\n",
        "def f1(func):\n",
        "  def wrapper():\n",
        "    print('Started')\n",
        "    func()\n",
        "    print('ended')\n",
        "  return wrapper\n",
        "\n",
        "def f():\n",
        "  print('Hello')\n",
        "\n",
        "# first \n",
        "f1(f)()\n",
        "print('******************************')\n",
        "\n",
        "# Second\n",
        "f = f1(f)\n",
        "f()\n",
        "print('******************************')\n",
        "\n",
        "# Third\n",
        "@f1\n",
        "def f2():\n",
        "  print('Hello World!')\n",
        "\n",
        "f2()"
      ],
      "metadata": {
        "colab": {
          "base_uri": "https://localhost:8080/"
        },
        "id": "wgi8RM6xkN8x",
        "outputId": "fd33ff27-a0cf-4466-d791-a411af1eca06"
      },
      "execution_count": 1,
      "outputs": [
        {
          "output_type": "stream",
          "name": "stdout",
          "text": [
            "Function 1 is called\n",
            "******************************\n",
            "Started\n",
            "Hello\n",
            "ended\n",
            "******************************\n",
            "Started\n",
            "Hello\n",
            "ended\n",
            "******************************\n",
            "Started\n",
            "Hello World!\n",
            "ended\n"
          ]
        }
      ]
    },
    {
      "cell_type": "markdown",
      "source": [
        "## F-strings"
      ],
      "metadata": {
        "id": "47S41kEtkf7d"
      }
    },
    {
      "cell_type": "code",
      "execution_count": 2,
      "metadata": {
        "colab": {
          "base_uri": "https://localhost:8080/"
        },
        "id": "YlKA7kbkj0C2",
        "outputId": "f6ac579f-66fb-4ec5-8ebb-016b029b433e"
      },
      "outputs": [
        {
          "output_type": "stream",
          "name": "stdout",
          "text": [
            "Hello, my name is Davood, and I'm 29 years old.\n"
          ]
        }
      ],
      "source": [
        "name = 'Davood'\n",
        "age = 29\n",
        "\n",
        "print(f\"Hello, my name is {name}, and I'm {age} years old.\")"
      ]
    },
    {
      "cell_type": "markdown",
      "source": [
        "## `collections` Module\n",
        "\n",
        "* `collections.namedtuple()`\n",
        "\n",
        "* `collections.OrderedDict()`"
      ],
      "metadata": {
        "id": "oRS1YmUuk0qa"
      }
    },
    {
      "cell_type": "code",
      "source": [
        "import collections\n",
        "\n",
        "# Declaring namedtuple()\n",
        "Student = collections.namedtuple('Student', ['name', 'age', 'DOB'])\n",
        " \n",
        "# Adding values\n",
        "S = Student('Davood', '29', '10-10-1993')\n",
        " \n",
        "# Access using index\n",
        "print(\"The Student age using index is : \", end=\"\")\n",
        "print(S[1])\n",
        " \n",
        "# Access using name\n",
        "print(\"The Student name using keyname is : \", end=\"\")\n",
        "print(S.name)\n",
        "\n",
        "print('****************************************************')\n",
        "# Ordered DIctionary\n",
        "\n",
        "od = collections.OrderedDict()\n",
        "\n",
        "od['a'] = 1\n",
        "od['b'] = 2\n",
        "od['c'] = 3\n",
        "od['d'] = 4\n",
        "\n",
        "for key, value in od.items():\n",
        "  print(key, value)"
      ],
      "metadata": {
        "colab": {
          "base_uri": "https://localhost:8080/"
        },
        "id": "BcXTuNgulQUZ",
        "outputId": "24a9dd2a-9ed1-4a4b-8afe-68ea0facc7b0"
      },
      "execution_count": 10,
      "outputs": [
        {
          "output_type": "stream",
          "name": "stdout",
          "text": [
            "The Student age using index is : 29\n",
            "The Student name using keyname is : Davood\n",
            "****************************************************\n",
            "a 1\n",
            "b 2\n",
            "c 3\n",
            "d 4\n"
          ]
        }
      ]
    },
    {
      "cell_type": "markdown",
      "source": [
        "## Lambda Functions"
      ],
      "metadata": {
        "id": "4TqEqAKimD08"
      }
    },
    {
      "cell_type": "code",
      "source": [
        "# Lambda functions = Anonymous (without name) functions\n",
        "\n",
        "lambda_cube = lambda y: y*y*y\n",
        "\n",
        "lambda_cube(3)"
      ],
      "metadata": {
        "colab": {
          "base_uri": "https://localhost:8080/"
        },
        "id": "CM-GPpTumGij",
        "outputId": "39d34556-0a66-448e-e92f-3e612e783f0e"
      },
      "execution_count": 11,
      "outputs": [
        {
          "output_type": "execute_result",
          "data": {
            "text/plain": [
              "27"
            ]
          },
          "metadata": {},
          "execution_count": 11
        }
      ]
    },
    {
      "cell_type": "markdown",
      "source": [
        "## `zip()`"
      ],
      "metadata": {
        "id": "zfJMOh8JmNk6"
      }
    },
    {
      "cell_type": "code",
      "source": [
        "# Zip function\n",
        "\n",
        "players = ['Davood', 'Ali', 'Reza', 'Mehdi']\n",
        "scores = [88, 95, 76, 55]\n",
        "\n",
        "\n",
        "for pl, sc in zip(players, scores):\n",
        "  print(\"Player: %s Score: %d\"%(pl, sc))"
      ],
      "metadata": {
        "colab": {
          "base_uri": "https://localhost:8080/"
        },
        "id": "y8Mx96xKmQiC",
        "outputId": "b247a938-29a7-40fb-e637-283ad226a5c7"
      },
      "execution_count": 15,
      "outputs": [
        {
          "output_type": "stream",
          "name": "stdout",
          "text": [
            "Player: Davood Score: 88\n",
            "Player: Ali Score: 95\n",
            "Player: Reza Score: 76\n",
            "Player: Mehdi Score: 55\n"
          ]
        }
      ]
    }
  ]
}