{
  "nbformat": 4,
  "nbformat_minor": 0,
  "metadata": {
    "colab": {
      "provenance": [],
      "authorship_tag": "ABX9TyMp8mJcJoax61GfZEk31oXb",
      "include_colab_link": true
    },
    "kernelspec": {
      "name": "python3",
      "display_name": "Python 3"
    },
    "language_info": {
      "name": "python"
    }
  },
  "cells": [
    {
      "cell_type": "markdown",
      "metadata": {
        "id": "view-in-github",
        "colab_type": "text"
      },
      "source": [
        "<a href=\"https://colab.research.google.com/github/DavoodSZ1993/Python_Tutorial/blob/main/python_basic.ipynb\" target=\"_parent\"><img src=\"https://colab.research.google.com/assets/colab-badge.svg\" alt=\"Open In Colab\"/></a>"
      ]
    },
    {
      "cell_type": "markdown",
      "source": [
        "# Useful Basic Python Codes and Built-in Functions and Methods"
      ],
      "metadata": {
        "id": "CSC8Sz-Kj2Ct"
      }
    },
    {
      "cell_type": "markdown",
      "source": [
        "## Python Decorators"
      ],
      "metadata": {
        "id": "WJjlifkvkK4m"
      }
    },
    {
      "cell_type": "code",
      "source": [
        " # Functions can be treated as objects!\n",
        "def func1():\n",
        "  print('Function 1 is called')\n",
        "\n",
        "def func2(f):                \n",
        "  f()\n",
        "\n",
        "func2(func1)\n",
        "print('******************************')\n",
        "\n",
        "# Wrapper Functions\n",
        "def f1(func):\n",
        "  def wrapper():\n",
        "    print('Started')\n",
        "    func()\n",
        "    print('ended')\n",
        "  return wrapper\n",
        "\n",
        "def f():\n",
        "  print('Hello')\n",
        "\n",
        "# first \n",
        "f1(f)()\n",
        "print('******************************')\n",
        "\n",
        "# Second\n",
        "f = f1(f)\n",
        "f()\n",
        "print('******************************')\n",
        "\n",
        "# Third\n",
        "@f1\n",
        "def f2():\n",
        "  print('Hello World!')\n",
        "\n",
        "f2()"
      ],
      "metadata": {
        "colab": {
          "base_uri": "https://localhost:8080/"
        },
        "id": "wgi8RM6xkN8x",
        "outputId": "9d877e7b-60c3-4a8d-b513-0102bad9e74d"
      },
      "execution_count": 1,
      "outputs": [
        {
          "output_type": "stream",
          "name": "stdout",
          "text": [
            "Function 1 is called\n",
            "******************************\n",
            "Started\n",
            "Hello\n",
            "ended\n",
            "******************************\n",
            "Started\n",
            "Hello\n",
            "ended\n",
            "******************************\n",
            "Started\n",
            "Hello World!\n",
            "ended\n"
          ]
        }
      ]
    },
    {
      "cell_type": "markdown",
      "source": [
        "## F-strings"
      ],
      "metadata": {
        "id": "47S41kEtkf7d"
      }
    },
    {
      "cell_type": "code",
      "execution_count": 2,
      "metadata": {
        "colab": {
          "base_uri": "https://localhost:8080/"
        },
        "id": "YlKA7kbkj0C2",
        "outputId": "36f97442-083b-49e8-cb82-42ea39741d70"
      },
      "outputs": [
        {
          "output_type": "stream",
          "name": "stdout",
          "text": [
            "Hello, my name is Davood, and I'm 29 years old.\n"
          ]
        }
      ],
      "source": [
        "name = 'Davood'\n",
        "age = 29\n",
        "\n",
        "print(f\"Hello, my name is {name}, and I'm {age} years old.\")"
      ]
    },
    {
      "cell_type": "markdown",
      "source": [
        "## `collections` Module\n",
        "\n",
        "* `collections.namedtuple()`\n",
        "\n",
        "* `collections.OrderedDict()`"
      ],
      "metadata": {
        "id": "oRS1YmUuk0qa"
      }
    },
    {
      "cell_type": "code",
      "source": [
        "import collections\n",
        "\n",
        "# Declaring namedtuple()\n",
        "Student = collections.namedtuple('Student', ['name', 'age', 'DOB'])\n",
        " \n",
        "# Adding values\n",
        "S = Student('Davood', '29', '10-10-1993')\n",
        " \n",
        "# Access using index\n",
        "print(\"The Student age using index is : \", end=\"\")\n",
        "print(S[1])\n",
        " \n",
        "# Access using name\n",
        "print(\"The Student name using keyname is : \", end=\"\")\n",
        "print(S.name)\n",
        "\n",
        "print('****************************************************')\n",
        "# Ordered DIctionary\n",
        "\n",
        "od = collections.OrderedDict()\n",
        "\n",
        "od['a'] = 1\n",
        "od['b'] = 2\n",
        "od['c'] = 3\n",
        "od['d'] = 4\n",
        "\n",
        "for key, value in od.items():\n",
        "  print(key, value)"
      ],
      "metadata": {
        "colab": {
          "base_uri": "https://localhost:8080/"
        },
        "id": "BcXTuNgulQUZ",
        "outputId": "af0cf9c7-9147-44eb-abef-0c588055e6fb"
      },
      "execution_count": 3,
      "outputs": [
        {
          "output_type": "stream",
          "name": "stdout",
          "text": [
            "The Student age using index is : 29\n",
            "The Student name using keyname is : Davood\n",
            "****************************************************\n",
            "a 1\n",
            "b 2\n",
            "c 3\n",
            "d 4\n"
          ]
        }
      ]
    },
    {
      "cell_type": "markdown",
      "source": [
        "## Lambda Functions"
      ],
      "metadata": {
        "id": "4TqEqAKimD08"
      }
    },
    {
      "cell_type": "code",
      "source": [
        "# Lambda functions = Anonymous (without name) functions\n",
        "\n",
        "lambda_cube = lambda y: y*y*y\n",
        "\n",
        "lambda_cube(3)"
      ],
      "metadata": {
        "colab": {
          "base_uri": "https://localhost:8080/"
        },
        "id": "CM-GPpTumGij",
        "outputId": "e77dcf36-5fd8-4e2a-847d-52a174e303a1"
      },
      "execution_count": 4,
      "outputs": [
        {
          "output_type": "execute_result",
          "data": {
            "text/plain": [
              "27"
            ]
          },
          "metadata": {},
          "execution_count": 4
        }
      ]
    },
    {
      "cell_type": "markdown",
      "source": [
        "## `zip()`"
      ],
      "metadata": {
        "id": "zfJMOh8JmNk6"
      }
    },
    {
      "cell_type": "code",
      "source": [
        "# Zip function\n",
        "\n",
        "players = ['Davood', 'Ali', 'Reza', 'Mehdi']\n",
        "scores = [88, 95, 76, 55]\n",
        "\n",
        "\n",
        "for pl, sc in zip(players, scores):\n",
        "  print(\"Player: %s Score: %d\"%(pl, sc))"
      ],
      "metadata": {
        "colab": {
          "base_uri": "https://localhost:8080/"
        },
        "id": "y8Mx96xKmQiC",
        "outputId": "09c8fcae-7779-40a4-aeea-4e395a4fa0cd"
      },
      "execution_count": 5,
      "outputs": [
        {
          "output_type": "stream",
          "name": "stdout",
          "text": [
            "Player: Davood Score: 88\n",
            "Player: Ali Score: 95\n",
            "Player: Reza Score: 76\n",
            "Player: Mehdi Score: 55\n"
          ]
        }
      ]
    },
    {
      "cell_type": "markdown",
      "source": [
        "* `setattr()`: Is used to assign the object attribute its value\n",
        "\n",
        "* `hasattr()`: Is used to check if an object has the given named attribute, and return `True` if present, else `False`."
      ],
      "metadata": {
        "id": "jEUGK6Z-OC8l"
      }
    },
    {
      "cell_type": "code",
      "source": [
        "class Member:\n",
        "  def __init__(self):\n",
        "    pass\n",
        "\n",
        "member1 = Member()\n",
        "setattr(member1, 'name', 'Davood')\n",
        "setattr(member1, 'age', 29)\n",
        "\n",
        "print(f'Name: {member1.name}, Age: {member1.age}')\n",
        "\n",
        "print('**********************************************')\n",
        "\n",
        "print('Does name exist? '+ str(hasattr(member1, 'name')))\n",
        "print('Does age exist? ' + str(hasattr(member1, 'age')))"
      ],
      "metadata": {
        "colab": {
          "base_uri": "https://localhost:8080/"
        },
        "id": "bdYjHfuBSuIc",
        "outputId": "6b6bfe7e-f5e3-41ef-83ba-4f0bd8bac3bb"
      },
      "execution_count": 12,
      "outputs": [
        {
          "output_type": "stream",
          "name": "stdout",
          "text": [
            "Name: Davood, Age: 29\n",
            "**********************************************\n",
            "Does name exist? True\n",
            "Does age exist? True\n"
          ]
        }
      ]
    },
    {
      "cell_type": "markdown",
      "source": [
        "# `IPython.display`\n",
        "\n",
        "This module is a public API for display tools in IPython which has 23 classes and 16 functions. Some of the useful classes and functions are introduced in this notebook.\n",
        "\n",
        "* class `Ipython.display.HTML()`: Create a display object given raw data.\n",
        "\n",
        "* class `IPython.display.Markdown()`: Create a markdown given text.\n",
        "\n",
        "* class `IPython.display.Latex()`: Create Latex format text given a raw text.\n",
        "\n",
        "* class `IPython.display.IFrame()`: Generic class to embed an iframe in an IPython notebook.\n",
        "\n",
        "* class `IPython.display.Image()`: Create a PNG/JPEG/GIF image given raw data.\n",
        "\n",
        "* function `IPython.display.clear_output()`: Clear the output of the current cell receiving output. \n",
        "\n",
        "* function `IPython.display.display()`: Display a Python object in all frontends.\n",
        "\n",
        "## References:\n",
        "1. [Module library](https://ipython.readthedocs.io/en/stable/api/generated/IPython.display.html#IPython.display.display) from the IPython Documentation Site. "
      ],
      "metadata": {
        "id": "hSo1Lz--Z3FH"
      }
    },
    {
      "cell_type": "code",
      "source": [
        "from IPython import display\n",
        "\n",
        "# HTML\n",
        "display.HTML(data='<h1>Hello, world!</h1>')"
      ],
      "metadata": {
        "colab": {
          "base_uri": "https://localhost:8080/",
          "height": 74
        },
        "id": "_VaDOUMfbf9_",
        "outputId": "64257403-2310-4198-85f4-fe461bf986ff"
      },
      "execution_count": 15,
      "outputs": [
        {
          "output_type": "execute_result",
          "data": {
            "text/plain": [
              "<IPython.core.display.HTML object>"
            ],
            "text/html": [
              "<h1>Hello, world!</h1>"
            ]
          },
          "metadata": {},
          "execution_count": 15
        }
      ]
    },
    {
      "cell_type": "code",
      "source": [
        "# Markdown\n",
        "display.Markdown(data='# This is the title')"
      ],
      "metadata": {
        "colab": {
          "base_uri": "https://localhost:8080/",
          "height": 74
        },
        "id": "J-LDB7G4cQ_6",
        "outputId": "b2998539-9cb2-486c-8062-311970495c24"
      },
      "execution_count": 16,
      "outputs": [
        {
          "output_type": "execute_result",
          "data": {
            "text/plain": [
              "<IPython.core.display.Markdown object>"
            ],
            "text/markdown": "# This is the title"
          },
          "metadata": {},
          "execution_count": 16
        }
      ]
    },
    {
      "cell_type": "code",
      "source": [
        "# Latex\n",
        "display.Latex(data='\\large{a^2+b^2=c^2}')"
      ],
      "metadata": {
        "colab": {
          "base_uri": "https://localhost:8080/",
          "height": 43
        },
        "id": "RQS0cTDgc45S",
        "outputId": "e3f34e62-032f-42d5-b5bb-866c3725deb3"
      },
      "execution_count": 18,
      "outputs": [
        {
          "output_type": "execute_result",
          "data": {
            "text/plain": [
              "<IPython.core.display.Latex object>"
            ],
            "text/latex": "\\large{a^2+b^2=c^2}"
          },
          "metadata": {},
          "execution_count": 18
        }
      ]
    },
    {
      "cell_type": "code",
      "source": [
        "# Iframe\n",
        "display.IFrame(src='https://www.theguardian.com/international', width=400, height=400)"
      ],
      "metadata": {
        "colab": {
          "base_uri": "https://localhost:8080/",
          "height": 422
        },
        "id": "Wx43A-lZe7aw",
        "outputId": "f2dbf071-2066-4479-e419-f5c6e82a2127"
      },
      "execution_count": 25,
      "outputs": [
        {
          "output_type": "execute_result",
          "data": {
            "text/plain": [
              "<IPython.lib.display.IFrame at 0x7f97a767d100>"
            ],
            "text/html": [
              "\n",
              "        <iframe\n",
              "            width=\"400\"\n",
              "            height=\"400\"\n",
              "            src=\"https://www.theguardian.com/international\"\n",
              "            frameborder=\"0\"\n",
              "            allowfullscreen\n",
              "        ></iframe>\n",
              "        "
            ]
          },
          "metadata": {},
          "execution_count": 25
        }
      ]
    }
  ]
}