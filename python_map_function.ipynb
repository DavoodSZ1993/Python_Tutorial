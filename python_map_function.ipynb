{
  "nbformat": 4,
  "nbformat_minor": 0,
  "metadata": {
    "colab": {
      "provenance": [],
      "authorship_tag": "ABX9TyMRgzY1bmYHCfT2SpIDRgKl",
      "include_colab_link": true
    },
    "kernelspec": {
      "name": "python3",
      "display_name": "Python 3"
    },
    "language_info": {
      "name": "python"
    }
  },
  "cells": [
    {
      "cell_type": "markdown",
      "metadata": {
        "id": "view-in-github",
        "colab_type": "text"
      },
      "source": [
        "<a href=\"https://colab.research.google.com/github/DavoodSZ1993/Python_Tutorial/blob/main/python_map_function.ipynb\" target=\"_parent\"><img src=\"https://colab.research.google.com/assets/colab-badge.svg\" alt=\"Open In Colab\"/></a>"
      ]
    },
    {
      "cell_type": "markdown",
      "source": [
        "Python's `map()` is a built-in function that allows you to process and transform all the items in an iterable without using an explicit `for` loop.\n",
        "\n",
        "`map()` loops over the items of an input iterable (or iterables) and returns an iterator that results from applying a transformation function to every item in the original input iterable.\n",
        "\n",
        "`map(function, [,iterable1, iterable2, ..., iterableN])`"
      ],
      "metadata": {
        "id": "dedFKNnhV6gY"
      }
    },
    {
      "cell_type": "code",
      "execution_count": 3,
      "metadata": {
        "id": "pbm2_FvCVa-D",
        "colab": {
          "base_uri": "https://localhost:8080/"
        },
        "outputId": "929d4990-3fec-4cca-92a6-75b03c25393e"
      },
      "outputs": [
        {
          "output_type": "execute_result",
          "data": {
            "text/plain": [
              "[1, 4, 9, 16, 25]"
            ]
          },
          "metadata": {},
          "execution_count": 3
        }
      ],
      "source": [
        "def square(number):\n",
        "  return number**2\n",
        "\n",
        "numbers = [1, 2, 3, 4, 5]\n",
        "squared = map(square, numbers)\n",
        "list(squared)"
      ]
    },
    {
      "cell_type": "markdown",
      "source": [
        "`square()` is a transformation function that maps a number to its aquare value. The call to `map()` applies `square()`, to all of the values in `numbers` and returns an iterator that yields square values. Then we can call `list()` on `map()` to create a list object containing the square values."
      ],
      "metadata": {
        "id": "I-9lkCji4pg3"
      }
    },
    {
      "cell_type": "code",
      "source": [
        "str_nums = [\"1\", \"2\", \"3\", \"4\"]\n",
        "\n",
        "int_nums = map(int, str_nums)\n",
        "list(int_nums)"
      ],
      "metadata": {
        "id": "LIqL0FZC66wj",
        "outputId": "c45cc034-a034-4fd4-f7fa-c21065ca49b5",
        "colab": {
          "base_uri": "https://localhost:8080/"
        }
      },
      "execution_count": 4,
      "outputs": [
        {
          "output_type": "execute_result",
          "data": {
            "text/plain": [
              "[1, 2, 3, 4]"
            ]
          },
          "metadata": {},
          "execution_count": 4
        }
      ]
    },
    {
      "cell_type": "markdown",
      "source": [
        "`map()` applies `int()` to every value in `str_nums`. Since `map()` returns an iterator (a map object), you'll need to call `list()` so you can exhasut the iterator and turn it into a list object."
      ],
      "metadata": {
        "id": "wv29eUGF793k"
      }
    }
  ]
}