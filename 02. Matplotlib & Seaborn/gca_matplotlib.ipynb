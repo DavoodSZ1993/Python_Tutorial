{
  "nbformat": 4,
  "nbformat_minor": 0,
  "metadata": {
    "colab": {
      "provenance": [],
      "authorship_tag": "ABX9TyP6k1T4wt1o0N0RjUVvJR3U",
      "include_colab_link": true
    },
    "kernelspec": {
      "name": "python3",
      "display_name": "Python 3"
    },
    "language_info": {
      "name": "python"
    }
  },
  "cells": [
    {
      "cell_type": "markdown",
      "metadata": {
        "id": "view-in-github",
        "colab_type": "text"
      },
      "source": [
        "<a href=\"https://colab.research.google.com/github/DavoodSZ1993/Python_Tutorial/blob/main/gca_matplotlib.ipynb\" target=\"_parent\"><img src=\"https://colab.research.google.com/assets/colab-badge.svg\" alt=\"Open In Colab\"/></a>"
      ]
    },
    {
      "cell_type": "code",
      "execution_count": 1,
      "metadata": {
        "id": "cqLjGN-chIqb"
      },
      "outputs": [],
      "source": [
        "%matplotlib inline\n",
        "import numpy as np\n",
        "import matplotlib.pyplot as plt"
      ]
    },
    {
      "cell_type": "markdown",
      "source": [
        "## `matplotlib.pyplot.gca()` Function\n",
        "The **gca() function** in pyplot module of matplotlib library is used to get the current Axes instance on the current figure matching the given keyword args, or create one. \n",
        "\n",
        "`gca` means \"get current axes.\" Current here means that it provides a handle to the last active axes. If there is no axes yet, an axes will be created. If we create two subplots, the subplot that is created last is the current one.\n",
        "\n",
        "There is no such thing as `gca(something)`, because that would translate into \"get current axes which is not the current one\". Sounds unlogical, doesn't it??"
      ],
      "metadata": {
        "id": "uLJjvFG1iGnr"
      }
    },
    {
      "cell_type": "code",
      "source": [
        "plt.figure()\n",
        "ax = plt.gca()\n",
        "print(ax)"
      ],
      "metadata": {
        "id": "ARx2S9w4k-FS"
      },
      "execution_count": null,
      "outputs": []
    }
  ]
}
