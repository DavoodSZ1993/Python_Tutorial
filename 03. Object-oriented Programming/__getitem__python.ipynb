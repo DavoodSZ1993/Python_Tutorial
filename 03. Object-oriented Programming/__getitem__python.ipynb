{
  "nbformat": 4,
  "nbformat_minor": 0,
  "metadata": {
    "colab": {
      "provenance": [],
      "authorship_tag": "ABX9TyORB8zMkpTIh4M7lmq6LTTx",
      "include_colab_link": true
    },
    "kernelspec": {
      "name": "python3",
      "display_name": "Python 3"
    },
    "language_info": {
      "name": "python"
    }
  },
  "cells": [
    {
      "cell_type": "markdown",
      "metadata": {
        "id": "view-in-github",
        "colab_type": "text"
      },
      "source": [
        "<a href=\"https://colab.research.google.com/github/DavoodSZ1993/Python_Tutorial/blob/main/__getitem__python.ipynb\" target=\"_parent\"><img src=\"https://colab.research.google.com/assets/colab-badge.svg\" alt=\"Open In Colab\"/></a>"
      ]
    },
    {
      "cell_type": "markdown",
      "source": [
        "* `__getitem__(self, key)`: It is used to evaluate the value of `self[key]` by any object or instance of the class."
      ],
      "metadata": {
        "id": "O8XOv8GDAU0p"
      }
    },
    {
      "cell_type": "code",
      "execution_count": 2,
      "metadata": {
        "colab": {
          "base_uri": "https://localhost:8080/"
        },
        "id": "SldiF4-r__Gw",
        "outputId": "69ac53f1-a48f-42f7-e59c-b2df94f6a2c3"
      },
      "outputs": [
        {
          "output_type": "stream",
          "name": "stdout",
          "text": [
            "My name is:  Davood\n"
          ]
        }
      ],
      "source": [
        "class Student:\n",
        "  def __getitem__(self, key):\n",
        "    print('My name is: ', key)\n",
        "\n",
        "davood = Student()\n",
        "davood['Davood']"
      ]
    },
    {
      "cell_type": "markdown",
      "source": [
        "Imagine a class which models a building. This class includes a number of attributes, including descriptions of the companies that occupy each floor.\n",
        "\n",
        "Without using `__getitem__()`, we would have a class like this."
      ],
      "metadata": {
        "id": "4ikVIYy-Cnzi"
      }
    },
    {
      "cell_type": "code",
      "source": [
        "class Building:\n",
        "  def __init__(self, floors):\n",
        "    self._floors = [None]*floors\n",
        "\n",
        "  def occupy(self, floor_number, data):\n",
        "    self._floors[floor_number] = data\n",
        "\n",
        "  def get_floor_data(self, floor_number):\n",
        "    return self._floors[floor_number]"
      ],
      "metadata": {
        "id": "VFaJNIG6DuC6"
      },
      "execution_count": 3,
      "outputs": []
    },
    {
      "cell_type": "code",
      "source": [
        "building1 = Building(4) # 4 floors\n",
        "building1.occupy(0, 'Reception')\n",
        "building1.occupy(1, 'ABC Corp')\n",
        "building1.occupy(0, 'DEF Inc')\n",
        "print(building1.get_floor_data(1))"
      ],
      "metadata": {
        "colab": {
          "base_uri": "https://localhost:8080/"
        },
        "id": "3V8LXA_CEpsq",
        "outputId": "477d55c9-d3b4-4f7d-a71f-3eacba4835ad"
      },
      "execution_count": 4,
      "outputs": [
        {
          "output_type": "stream",
          "name": "stdout",
          "text": [
            "ABC Corp\n"
          ]
        }
      ]
    },
    {
      "cell_type": "markdown",
      "source": [
        "We could however use `__getitem__` (and its counterpart `__setitem__`) to make the usage of the Building class nicer."
      ],
      "metadata": {
        "id": "BFuhfQWuFj5h"
      }
    },
    {
      "cell_type": "code",
      "source": [
        "class Building:\n",
        "  def __init__(self, floors):\n",
        "    self._floors = [None]*floors\n",
        "\n",
        "  def __setitem__(self, floor_number, data):\n",
        "    self._floors[floor_number] = data\n",
        "\n",
        "  def __getitem__(self, floor_number):\n",
        "    return self._floors[floor_number]"
      ],
      "metadata": {
        "id": "148IKdmDGWrL"
      },
      "execution_count": 5,
      "outputs": []
    },
    {
      "cell_type": "code",
      "source": [
        "building1 = Building(4)\n",
        "building1[0] = 'Reception'\n",
        "building1[1] = 'ABC Corp'\n",
        "building1[2] = 'DEF Inc'\n",
        "print(building1[2])"
      ],
      "metadata": {
        "colab": {
          "base_uri": "https://localhost:8080/"
        },
        "id": "WyL2wJI4HUSa",
        "outputId": "bd76d016-c1e0-484e-b5fa-7dd0eb20fe60"
      },
      "execution_count": 6,
      "outputs": [
        {
          "output_type": "stream",
          "name": "stdout",
          "text": [
            "DEF Inc\n"
          ]
        }
      ]
    }
  ]
}
