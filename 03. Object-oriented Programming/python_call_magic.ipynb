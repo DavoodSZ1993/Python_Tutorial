{
  "nbformat": 4,
  "nbformat_minor": 0,
  "metadata": {
    "colab": {
      "provenance": [],
      "authorship_tag": "ABX9TyMe/ErM+QYonLHkFcnaTpQn",
      "include_colab_link": true
    },
    "kernelspec": {
      "name": "python3",
      "display_name": "Python 3"
    },
    "language_info": {
      "name": "python"
    }
  },
  "cells": [
    {
      "cell_type": "markdown",
      "metadata": {
        "id": "view-in-github",
        "colab_type": "text"
      },
      "source": [
        "<a href=\"https://colab.research.google.com/github/DavoodSZ1993/Python_Tutorial/blob/main/python_call_magic.ipynb\" target=\"_parent\"><img src=\"https://colab.research.google.com/assets/colab-badge.svg\" alt=\"Open In Colab\"/></a>"
      ]
    },
    {
      "cell_type": "markdown",
      "source": [
        "`__call__` is a special function in Python that, when implemented inside a class, gives its instance (objects) the ability to behave like a function. This means after implementing `__call__` moethod inside the python class, we can invoke its instance like a function."
      ],
      "metadata": {
        "id": "lKAZf0RLWt9V"
      }
    },
    {
      "cell_type": "code",
      "execution_count": 1,
      "metadata": {
        "id": "nuz6bWnyV4vj"
      },
      "outputs": [],
      "source": [
        "class Student:\n",
        "  def __init__(self, name, roll):\n",
        "    self.name = name\n",
        "    self.roll = roll\n",
        "\n",
        "  def __call__(self):\n",
        "    print(f\"Name: {self.name}, Roll: {self.roll}\")"
      ]
    },
    {
      "cell_type": "code",
      "source": [
        "std1 = Student(\"Davood\", \"052\")\n",
        "std1()"
      ],
      "metadata": {
        "colab": {
          "base_uri": "https://localhost:8080/"
        },
        "id": "Z4itrSYrYLcw",
        "outputId": "44c9e48b-a4ad-4ba8-bbaf-eba3409081c0"
      },
      "execution_count": 2,
      "outputs": [
        {
          "output_type": "stream",
          "name": "stdout",
          "text": [
            "Name: Davood, Roll: 052\n"
          ]
        }
      ]
    }
  ]
}
