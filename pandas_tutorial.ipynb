{
  "nbformat": 4,
  "nbformat_minor": 0,
  "metadata": {
    "colab": {
      "provenance": [],
      "authorship_tag": "ABX9TyMI6V2zIdgDalhTUdAt77U6",
      "include_colab_link": true
    },
    "kernelspec": {
      "name": "python3",
      "display_name": "Python 3"
    },
    "language_info": {
      "name": "python"
    }
  },
  "cells": [
    {
      "cell_type": "markdown",
      "metadata": {
        "id": "view-in-github",
        "colab_type": "text"
      },
      "source": [
        "<a href=\"https://colab.research.google.com/github/DavoodSZ1993/Python_Tutorial/blob/main/pandas_tutorial.ipynb\" target=\"_parent\"><img src=\"https://colab.research.google.com/assets/colab-badge.svg\" alt=\"Open In Colab\"/></a>"
      ]
    },
    {
      "cell_type": "markdown",
      "source": [
        "## Importing Useful Modules"
      ],
      "metadata": {
        "id": "zRQBOuY00tx6"
      }
    },
    {
      "cell_type": "code",
      "execution_count": 1,
      "metadata": {
        "id": "SgYnR3ch0ilt"
      },
      "outputs": [],
      "source": [
        "%matplotlib inline\n",
        "import pandas as pd\n",
        "import numpy as np\n",
        "import matplotlib.pyplot as plt"
      ]
    },
    {
      "cell_type": "markdown",
      "source": [
        "## Downloading the UFO Dataset from Kaggle"
      ],
      "metadata": {
        "id": "hkfLi2VB2eSR"
      }
    },
    {
      "cell_type": "code",
      "source": [
        "# opendatasets is a Python library for downloading datasets from online sources like Kaggle and Google Drive using a simple Python command.\n",
        "!pip install opendatasets --upgrade"
      ],
      "metadata": {
        "id": "faIOyD7b20ca"
      },
      "execution_count": null,
      "outputs": []
    },
    {
      "cell_type": "code",
      "source": [
        "import opendatasets as od\n",
        "\n",
        "dataset_url = 'https://www.kaggle.com/datasets/NUFORC/ufo-sightings'\n",
        "od.download(dataset_url)"
      ],
      "metadata": {
        "colab": {
          "base_uri": "https://localhost:8080/"
        },
        "id": "XH2IaW0e2isq",
        "outputId": "d734500b-37c2-4d49-b7d5-c54495befe84"
      },
      "execution_count": 8,
      "outputs": [
        {
          "output_type": "stream",
          "name": "stdout",
          "text": [
            "Please provide your Kaggle credentials to download this dataset. Learn more: http://bit.ly/kaggle-creds\n",
            "Your Kaggle username: davoodsoleymanzadeh\n",
            "Your Kaggle Key: ··········\n",
            "Downloading ufo-sightings.zip to ./ufo-sightings\n"
          ]
        },
        {
          "output_type": "stream",
          "name": "stderr",
          "text": [
            "100%|██████████| 10.2M/10.2M [00:00<00:00, 108MB/s]"
          ]
        },
        {
          "output_type": "stream",
          "name": "stdout",
          "text": [
            "\n"
          ]
        },
        {
          "output_type": "stream",
          "name": "stderr",
          "text": [
            "\n"
          ]
        }
      ]
    },
    {
      "cell_type": "markdown",
      "source": [
        "## Exploring UFO Dataset"
      ],
      "metadata": {
        "id": "VSOdCql45XQY"
      }
    },
    {
      "cell_type": "code",
      "source": [
        "from pandas_profiling import ProfileReport\n",
        "\n",
        "df = pd.read_csv('ufo-sightings/scrubbed.csv')\n",
        "df.head(5)"
      ],
      "metadata": {
        "id": "Sg0lwkjF5cHh"
      },
      "execution_count": null,
      "outputs": []
    }
  ]
}