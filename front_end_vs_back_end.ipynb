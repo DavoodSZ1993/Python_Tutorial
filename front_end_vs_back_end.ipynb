{
  "nbformat": 4,
  "nbformat_minor": 0,
  "metadata": {
    "colab": {
      "provenance": [],
      "authorship_tag": "ABX9TyODK2+ZB0FsmLpWmFtpRDC4",
      "include_colab_link": true
    },
    "kernelspec": {
      "name": "python3",
      "display_name": "Python 3"
    },
    "language_info": {
      "name": "python"
    }
  },
  "cells": [
    {
      "cell_type": "markdown",
      "metadata": {
        "id": "view-in-github",
        "colab_type": "text"
      },
      "source": [
        "<a href=\"https://colab.research.google.com/github/DavoodSZ1993/Python_Tutorial/blob/main/front_end_vs_back_end.ipynb\" target=\"_parent\"><img src=\"https://colab.research.google.com/assets/colab-badge.svg\" alt=\"Open In Colab\"/></a>"
      ]
    },
    {
      "cell_type": "markdown",
      "source": [
        "## Front-End vs. Back-End\n",
        "* Generally websites consist of two parts, the front-end and the back-end.\n",
        "* Front-end of a website is what a user experiences, like visual aspects of a website (colors, layouts, and fonts.)\n",
        "* Back-end of a website comprises the invisible structure making the front-end possible. Back-end developers create the invisible structure that hepls websites function properly."
      ],
      "metadata": {
        "id": "U5x5BqewybLx"
      }
    },
    {
      "cell_type": "markdown",
      "source": [
        "## Front-End Development\n",
        "* Front-end developers ensure that visitors can easily interact with and navigate sites. They simply produce the drop-down menus, layouts, and design for websites.\n",
        "* Front-end developers mainly use three programming languages, namely HTML, JavaScript and CSS. HTML lays out the site's content and structure, CSS adds design features, and JavaScript creates advanced interactive features.\n",
        "* Less commonly, front-end developers know other programming languages like Python, PHP, and Ruby."
      ],
      "metadata": {
        "id": "lJlRO2ubzoWI"
      }
    },
    {
      "cell_type": "code",
      "execution_count": null,
      "metadata": {
        "id": "yDqmncDhyV8V"
      },
      "outputs": [],
      "source": []
    }
  ]
}