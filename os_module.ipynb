{
  "nbformat": 4,
  "nbformat_minor": 0,
  "metadata": {
    "colab": {
      "provenance": [],
      "authorship_tag": "ABX9TyM+wbW2kRkfqvN25cDO/2dN",
      "include_colab_link": true
    },
    "kernelspec": {
      "name": "python3",
      "display_name": "Python 3"
    },
    "language_info": {
      "name": "python"
    }
  },
  "cells": [
    {
      "cell_type": "markdown",
      "metadata": {
        "id": "view-in-github",
        "colab_type": "text"
      },
      "source": [
        "<a href=\"https://colab.research.google.com/github/DavoodSZ1993/Python_Tutorial/blob/main/os_module.ipynb\" target=\"_parent\"><img src=\"https://colab.research.google.com/assets/colab-badge.svg\" alt=\"Open In Colab\"/></a>"
      ]
    },
    {
      "cell_type": "markdown",
      "source": [
        "## Some Notes on `os` Module in Python"
      ],
      "metadata": {
        "id": "aRJloUTRNOZ3"
      }
    },
    {
      "cell_type": "markdown",
      "source": [
        "`os` module in Python provides functions for creating and removing a directory (folder), fetching its contents, changing and identifying the current directory."
      ],
      "metadata": {
        "id": "2AnO7ToeG091"
      }
    },
    {
      "cell_type": "code",
      "execution_count": 1,
      "metadata": {
        "id": "vIsAWZkFNI4I"
      },
      "outputs": [],
      "source": [
        "import os"
      ]
    },
    {
      "cell_type": "markdown",
      "source": [
        "* `os.getcwd()`: Returns the current working directory of process."
      ],
      "metadata": {
        "id": "FY-mOZDeHxsm"
      }
    },
    {
      "cell_type": "code",
      "source": [
        "os.getcwd()"
      ],
      "metadata": {
        "id": "zM1VSXYfH-CD",
        "outputId": "7ac362e2-4ab4-4ca8-de13-1713aa4dcd7c",
        "colab": {
          "base_uri": "https://localhost:8080/",
          "height": 36
        }
      },
      "execution_count": 2,
      "outputs": [
        {
          "output_type": "execute_result",
          "data": {
            "text/plain": [
              "'/content'"
            ],
            "application/vnd.google.colaboratory.intrinsic+json": {
              "type": "string"
            }
          },
          "metadata": {},
          "execution_count": 2
        }
      ]
    },
    {
      "cell_type": "markdown",
      "source": [
        "* `os.listdir()`: Returns a list containing the names of the entries in the directory given by path."
      ],
      "metadata": {
        "id": "FU7sVjEhIfL8"
      }
    },
    {
      "cell_type": "code",
      "source": [
        "os.listdir()"
      ],
      "metadata": {
        "id": "q2kddI1cIqqk",
        "outputId": "5153ffe6-a7a7-49f5-d2ab-5077771ef408",
        "colab": {
          "base_uri": "https://localhost:8080/"
        }
      },
      "execution_count": 3,
      "outputs": [
        {
          "output_type": "execute_result",
          "data": {
            "text/plain": [
              "['.config', 'sample_data']"
            ]
          },
          "metadata": {},
          "execution_count": 3
        }
      ]
    },
    {
      "cell_type": "markdown",
      "source": [
        "* `os.chdir(path)`: This method changes the current working directory to the given path."
      ],
      "metadata": {
        "id": "Mxt6XNG2Jbwc"
      }
    }
  ]
}