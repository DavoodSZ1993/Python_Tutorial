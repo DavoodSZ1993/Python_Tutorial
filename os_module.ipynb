{
  "nbformat": 4,
  "nbformat_minor": 0,
  "metadata": {
    "colab": {
      "provenance": [],
      "authorship_tag": "ABX9TyP6PI2+uZiGdNleYFE96jRm",
      "include_colab_link": true
    },
    "kernelspec": {
      "name": "python3",
      "display_name": "Python 3"
    },
    "language_info": {
      "name": "python"
    }
  },
  "cells": [
    {
      "cell_type": "markdown",
      "metadata": {
        "id": "view-in-github",
        "colab_type": "text"
      },
      "source": [
        "<a href=\"https://colab.research.google.com/github/DavoodSZ1993/Python_Tutorial/blob/main/os_module.ipynb\" target=\"_parent\"><img src=\"https://colab.research.google.com/assets/colab-badge.svg\" alt=\"Open In Colab\"/></a>"
      ]
    },
    {
      "cell_type": "markdown",
      "source": [
        "## Some Notes on `os` Module in Python"
      ],
      "metadata": {
        "id": "aRJloUTRNOZ3"
      }
    },
    {
      "cell_type": "markdown",
      "source": [
        "`os` module in Python provides functions for creating and removing a directory (folder), fetching its contents, changing and identifying the current directory."
      ],
      "metadata": {
        "id": "2AnO7ToeG091"
      }
    },
    {
      "cell_type": "code",
      "execution_count": 1,
      "metadata": {
        "id": "vIsAWZkFNI4I"
      },
      "outputs": [],
      "source": [
        "import os"
      ]
    }
  ]
}